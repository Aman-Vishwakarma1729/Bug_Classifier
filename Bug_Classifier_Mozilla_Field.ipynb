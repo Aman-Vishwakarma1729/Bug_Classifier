{
  "cells": [
    {
      "cell_type": "markdown",
      "metadata": {
        "id": "WnnrihZ6U1yM"
      },
      "source": [
        "# Mozilla Field Bug Classifier"
      ]
    },
    {
      "cell_type": "code",
      "execution_count": 11,
      "metadata": {
        "colab": {
          "base_uri": "https://localhost:8080/"
        },
        "id": "Znrzp-yhUu7W",
        "outputId": "6caebfe3-3047-4ef5-b966-c00e17ca018b"
      },
      "outputs": [
        {
          "name": "stdout",
          "output_type": "stream",
          "text": [
            "Drive already mounted at /content/drive; to attempt to forcibly remount, call drive.mount(\"/content/drive\", force_remount=True).\n"
          ]
        }
      ],
      "source": [
        "from google.colab import drive\n",
        "drive.mount('/content/drive')"
      ]
    },
    {
      "cell_type": "code",
      "execution_count": 1,
      "metadata": {
        "id": "NTL58NnlUvqB"
      },
      "outputs": [],
      "source": [
        "## Importing some basic required libraries\n",
        "\n",
        "import pandas as pd\n",
        "import numpy as np\n",
        "import matplotlib.pyplot as plt\n",
        "import seaborn as sns\n",
        "import warnings\n",
        "warnings.filterwarnings(\"ignore\")"
      ]
    },
    {
      "cell_type": "code",
      "execution_count": 2,
      "metadata": {
        "id": "yrs064A7VjWi"
      },
      "outputs": [],
      "source": [
        "mf_data1 = pd.read_csv(\"C:/Users/Vedant Vidhate/Desktop/Data and Code/MozillaFields.csv\", encoding='ISO-8859-1')"
      ]
    },
    {
      "cell_type": "code",
      "execution_count": 3,
      "metadata": {
        "colab": {
          "base_uri": "https://localhost:8080/",
          "height": 930
        },
        "id": "z1TKNqE5XNwU",
        "outputId": "808cd957-64d9-4a20-d38c-f18b26f7eae0"
      },
      "outputs": [
        {
          "data": {
            "text/html": [
              "<div>\n",
              "<style scoped>\n",
              "    .dataframe tbody tr th:only-of-type {\n",
              "        vertical-align: middle;\n",
              "    }\n",
              "\n",
              "    .dataframe tbody tr th {\n",
              "        vertical-align: top;\n",
              "    }\n",
              "\n",
              "    .dataframe thead th {\n",
              "        text-align: right;\n",
              "    }\n",
              "</style>\n",
              "<table border=\"1\" class=\"dataframe\">\n",
              "  <thead>\n",
              "    <tr style=\"text-align: right;\">\n",
              "      <th></th>\n",
              "      <th>BugID</th>\n",
              "      <th>MasterID</th>\n",
              "      <th>MergeID</th>\n",
              "      <th>Product</th>\n",
              "      <th>Component</th>\n",
              "      <th>Type</th>\n",
              "      <th>Priority</th>\n",
              "      <th>PriorityNumber</th>\n",
              "      <th>Version</th>\n",
              "      <th>VersionNumber</th>\n",
              "      <th>...</th>\n",
              "      <th>CloseDate</th>\n",
              "      <th>Status</th>\n",
              "      <th>Stars</th>\n",
              "      <th>crypto</th>\n",
              "      <th>general</th>\n",
              "      <th>java</th>\n",
              "      <th>networking</th>\n",
              "      <th>Title</th>\n",
              "      <th>Description</th>\n",
              "      <th>Summary</th>\n",
              "    </tr>\n",
              "  </thead>\n",
              "  <tbody>\n",
              "    <tr>\n",
              "      <th>0</th>\n",
              "      <td>537438</td>\n",
              "      <td>0.0</td>\n",
              "      <td>0.0</td>\n",
              "      <td>Fennec Graveyard</td>\n",
              "      <td>General</td>\n",
              "      <td>normal</td>\n",
              "      <td>--</td>\n",
              "      <td>0.0</td>\n",
              "      <td>Trunk</td>\n",
              "      <td>0.0</td>\n",
              "      <td>...</td>\n",
              "      <td>Mon Aug 22 20:00:40 IRDT 2011</td>\n",
              "      <td>NaN</td>\n",
              "      <td>0.0</td>\n",
              "      <td>9.36379</td>\n",
              "      <td>15.06490</td>\n",
              "      <td>12.12623</td>\n",
              "      <td>11.40087</td>\n",
              "      <td>mouse pointer hover mode  similar to maemo's d...</td>\n",
              "      <td>maemo's default browser  also based on firefox...</td>\n",
              "      <td>NaN</td>\n",
              "    </tr>\n",
              "    <tr>\n",
              "      <th>1</th>\n",
              "      <td>548566</td>\n",
              "      <td>0.0</td>\n",
              "      <td>0.0</td>\n",
              "      <td>mozilla.org</td>\n",
              "      <td>Server Operations</td>\n",
              "      <td>major</td>\n",
              "      <td>--</td>\n",
              "      <td>0.0</td>\n",
              "      <td>other</td>\n",
              "      <td>0.0</td>\n",
              "      <td>...</td>\n",
              "      <td>Wed Mar 10 21:38:39 IRST 2010</td>\n",
              "      <td>WONTFIX</td>\n",
              "      <td>0.0</td>\n",
              "      <td>11.89965</td>\n",
              "      <td>15.53109</td>\n",
              "      <td>12.08567</td>\n",
              "      <td>14.32417</td>\n",
              "      <td>clean up breakpad nfs store.</td>\n",
              "      <td>we are running out of inode space on the nfs f...</td>\n",
              "      <td>NaN</td>\n",
              "    </tr>\n",
              "    <tr>\n",
              "      <th>2</th>\n",
              "      <td>548567</td>\n",
              "      <td>0.0</td>\n",
              "      <td>548531.0</td>\n",
              "      <td>Plugins</td>\n",
              "      <td>Flash (Adobe)</td>\n",
              "      <td>critical</td>\n",
              "      <td>--</td>\n",
              "      <td>0.0</td>\n",
              "      <td>10.x</td>\n",
              "      <td>0.0</td>\n",
              "      <td>...</td>\n",
              "      <td>Fri Apr 23 17:13:24 IRDT 2010</td>\n",
              "      <td>DUPLICATE</td>\n",
              "      <td>0.0</td>\n",
              "      <td>2.71370</td>\n",
              "      <td>4.43300</td>\n",
              "      <td>3.87280</td>\n",
              "      <td>3.66773</td>\n",
              "      <td>[oopp] adobe flash crash</td>\n",
              "      <td>user-agent:       mozilla/5.0 (windows; u; win...</td>\n",
              "      <td>NaN</td>\n",
              "    </tr>\n",
              "    <tr>\n",
              "      <th>3</th>\n",
              "      <td>548568</td>\n",
              "      <td>0.0</td>\n",
              "      <td>397937.0</td>\n",
              "      <td>Firefox</td>\n",
              "      <td>Phishing Protection</td>\n",
              "      <td>normal</td>\n",
              "      <td>--</td>\n",
              "      <td>0.0</td>\n",
              "      <td>unspecified</td>\n",
              "      <td>0.0</td>\n",
              "      <td>...</td>\n",
              "      <td>Thu Feb 25 22:10:43 IRST 2010</td>\n",
              "      <td>DUPLICATE</td>\n",
              "      <td>0.0</td>\n",
              "      <td>8.78630</td>\n",
              "      <td>11.16785</td>\n",
              "      <td>9.01698</td>\n",
              "      <td>9.74638</td>\n",
              "      <td>web forgery message break the view source window</td>\n",
              "      <td>when passing to a web forgery site which firef...</td>\n",
              "      <td>NaN</td>\n",
              "    </tr>\n",
              "    <tr>\n",
              "      <th>4</th>\n",
              "      <td>548569</td>\n",
              "      <td>0.0</td>\n",
              "      <td>0.0</td>\n",
              "      <td>mozilla.org</td>\n",
              "      <td>Discussion Forums</td>\n",
              "      <td>normal</td>\n",
              "      <td>--</td>\n",
              "      <td>0.0</td>\n",
              "      <td>other</td>\n",
              "      <td>0.0</td>\n",
              "      <td>...</td>\n",
              "      <td>Wed Apr 21 13:25:55 IRDT 2010</td>\n",
              "      <td>INVALID</td>\n",
              "      <td>0.0</td>\n",
              "      <td>4.97225</td>\n",
              "      <td>5.30194</td>\n",
              "      <td>4.16117</td>\n",
              "      <td>4.97225</td>\n",
              "      <td>migrate \"mozilla.community.drumbeat\" group to ...</td>\n",
              "      <td>please create a new group called \"mozilla.drum...</td>\n",
              "      <td>NaN</td>\n",
              "    </tr>\n",
              "    <tr>\n",
              "      <th>...</th>\n",
              "      <td>...</td>\n",
              "      <td>...</td>\n",
              "      <td>...</td>\n",
              "      <td>...</td>\n",
              "      <td>...</td>\n",
              "      <td>...</td>\n",
              "      <td>...</td>\n",
              "      <td>...</td>\n",
              "      <td>...</td>\n",
              "      <td>...</td>\n",
              "      <td>...</td>\n",
              "      <td>...</td>\n",
              "      <td>...</td>\n",
              "      <td>...</td>\n",
              "      <td>...</td>\n",
              "      <td>...</td>\n",
              "      <td>...</td>\n",
              "      <td>...</td>\n",
              "      <td>...</td>\n",
              "      <td>...</td>\n",
              "      <td>...</td>\n",
              "    </tr>\n",
              "    <tr>\n",
              "      <th>75693</th>\n",
              "      <td>548564</td>\n",
              "      <td>0.0</td>\n",
              "      <td>0.0</td>\n",
              "      <td>Core</td>\n",
              "      <td>Widget: Cocoa</td>\n",
              "      <td>critical</td>\n",
              "      <td>--</td>\n",
              "      <td>0.0</td>\n",
              "      <td>unspecified</td>\n",
              "      <td>0.0</td>\n",
              "      <td>...</td>\n",
              "      <td>Mon Dec 12 17:59:13 IRST 2011</td>\n",
              "      <td>NaN</td>\n",
              "      <td>0.0</td>\n",
              "      <td>3.65607</td>\n",
              "      <td>5.58688</td>\n",
              "      <td>5.26590</td>\n",
              "      <td>5.18477</td>\n",
              "      <td>crash [@ _class_isinitialized ]</td>\n",
              "      <td>crash [@ _class_isinitialized ]  #30 in 3.0.1 ...</td>\n",
              "      <td>NaN</td>\n",
              "    </tr>\n",
              "    <tr>\n",
              "      <th>75694</th>\n",
              "      <td>548565</td>\n",
              "      <td>0.0</td>\n",
              "      <td>0.0</td>\n",
              "      <td>mozilla.org</td>\n",
              "      <td>Release Engineering</td>\n",
              "      <td>normal</td>\n",
              "      <td>P5</td>\n",
              "      <td>5.0</td>\n",
              "      <td>other</td>\n",
              "      <td>0.0</td>\n",
              "      <td>...</td>\n",
              "      <td>Fri Feb 26 02:27:54 IRST 2010</td>\n",
              "      <td>WONTFIX</td>\n",
              "      <td>0.0</td>\n",
              "      <td>3.30156</td>\n",
              "      <td>5.95881</td>\n",
              "      <td>2.93718</td>\n",
              "      <td>3.77433</td>\n",
              "      <td>create 15 new linux 64 slaves</td>\n",
              "      <td>we will need these many machines to be able to...</td>\n",
              "      <td>NaN</td>\n",
              "    </tr>\n",
              "    <tr>\n",
              "      <th>75695</th>\n",
              "      <td>538545</td>\n",
              "      <td>0.0</td>\n",
              "      <td>0.0</td>\n",
              "      <td>Tamarin</td>\n",
              "      <td>Virtual Machine</td>\n",
              "      <td>normal</td>\n",
              "      <td>--</td>\n",
              "      <td>0.0</td>\n",
              "      <td>unspecified</td>\n",
              "      <td>0.0</td>\n",
              "      <td>...</td>\n",
              "      <td>Thu Sep 23 21:03:13 IRST 2010</td>\n",
              "      <td>FIXED</td>\n",
              "      <td>0.0</td>\n",
              "      <td>1.34831</td>\n",
              "      <td>3.87113</td>\n",
              "      <td>3.02868</td>\n",
              "      <td>3.02150</td>\n",
              "      <td>zeroing of strings table in avmcore::avmcore p...</td>\n",
              "      <td>the code is this:    strings = mmfx_new_array(...</td>\n",
              "      <td>NaN</td>\n",
              "    </tr>\n",
              "    <tr>\n",
              "      <th>75696</th>\n",
              "      <td>537539</td>\n",
              "      <td>0.0</td>\n",
              "      <td>0.0</td>\n",
              "      <td>mozilla.org</td>\n",
              "      <td>Release Engineering</td>\n",
              "      <td>critical</td>\n",
              "      <td>--</td>\n",
              "      <td>0.0</td>\n",
              "      <td>other</td>\n",
              "      <td>0.0</td>\n",
              "      <td>...</td>\n",
              "      <td>Thu Jan 07 01:21:34 IRST 2010</td>\n",
              "      <td>FIXED</td>\n",
              "      <td>0.0</td>\n",
              "      <td>4.38087</td>\n",
              "      <td>4.08487</td>\n",
              "      <td>2.94534</td>\n",
              "      <td>2.59930</td>\n",
              "      <td>localized builds are not updating since decemb...</td>\n",
              "      <td>mozilla/5.0 (x11; u; linux i686; fr; rv:1.9.3a...</td>\n",
              "      <td>NaN</td>\n",
              "    </tr>\n",
              "    <tr>\n",
              "      <th>75697</th>\n",
              "      <td>537447</td>\n",
              "      <td>0.0</td>\n",
              "      <td>536296.0</td>\n",
              "      <td>Fennec Graveyard</td>\n",
              "      <td>General</td>\n",
              "      <td>minor</td>\n",
              "      <td>--</td>\n",
              "      <td>0.0</td>\n",
              "      <td>Trunk</td>\n",
              "      <td>0.0</td>\n",
              "      <td>...</td>\n",
              "      <td>Tue Jun 29 02:39:53 IRDT 2010</td>\n",
              "      <td>DUPLICATE</td>\n",
              "      <td>0.0</td>\n",
              "      <td>5.20424</td>\n",
              "      <td>8.25413</td>\n",
              "      <td>5.86056</td>\n",
              "      <td>9.29996</td>\n",
              "      <td>common web fonts eg. tahoma or rendered as ser...</td>\n",
              "      <td>user-agent:       mozilla/5.0 (windows; u; win...</td>\n",
              "      <td>NaN</td>\n",
              "    </tr>\n",
              "  </tbody>\n",
              "</table>\n",
              "<p>75698 rows × 21 columns</p>\n",
              "</div>"
            ],
            "text/plain": [
              "        BugID  MasterID   MergeID           Product            Component  \\\n",
              "0      537438       0.0       0.0  Fennec Graveyard              General   \n",
              "1      548566       0.0       0.0       mozilla.org    Server Operations   \n",
              "2      548567       0.0  548531.0           Plugins        Flash (Adobe)   \n",
              "3      548568       0.0  397937.0           Firefox  Phishing Protection   \n",
              "4      548569       0.0       0.0       mozilla.org    Discussion Forums   \n",
              "...       ...       ...       ...               ...                  ...   \n",
              "75693  548564       0.0       0.0              Core        Widget: Cocoa   \n",
              "75694  548565       0.0       0.0       mozilla.org  Release Engineering   \n",
              "75695  538545       0.0       0.0           Tamarin      Virtual Machine   \n",
              "75696  537539       0.0       0.0       mozilla.org  Release Engineering   \n",
              "75697  537447       0.0  536296.0  Fennec Graveyard              General   \n",
              "\n",
              "           Type Priority  PriorityNumber      Version  VersionNumber  ...  \\\n",
              "0        normal       --             0.0        Trunk            0.0  ...   \n",
              "1         major       --             0.0        other            0.0  ...   \n",
              "2      critical       --             0.0         10.x            0.0  ...   \n",
              "3        normal       --             0.0  unspecified            0.0  ...   \n",
              "4        normal       --             0.0        other            0.0  ...   \n",
              "...         ...      ...             ...          ...            ...  ...   \n",
              "75693  critical       --             0.0  unspecified            0.0  ...   \n",
              "75694    normal       P5             5.0        other            0.0  ...   \n",
              "75695    normal       --             0.0  unspecified            0.0  ...   \n",
              "75696  critical       --             0.0        other            0.0  ...   \n",
              "75697     minor       --             0.0        Trunk            0.0  ...   \n",
              "\n",
              "                           CloseDate     Status Stars    crypto   general  \\\n",
              "0      Mon Aug 22 20:00:40 IRDT 2011        NaN   0.0   9.36379  15.06490   \n",
              "1      Wed Mar 10 21:38:39 IRST 2010    WONTFIX   0.0  11.89965  15.53109   \n",
              "2      Fri Apr 23 17:13:24 IRDT 2010  DUPLICATE   0.0   2.71370   4.43300   \n",
              "3      Thu Feb 25 22:10:43 IRST 2010  DUPLICATE   0.0   8.78630  11.16785   \n",
              "4      Wed Apr 21 13:25:55 IRDT 2010    INVALID   0.0   4.97225   5.30194   \n",
              "...                              ...        ...   ...       ...       ...   \n",
              "75693  Mon Dec 12 17:59:13 IRST 2011        NaN   0.0   3.65607   5.58688   \n",
              "75694  Fri Feb 26 02:27:54 IRST 2010    WONTFIX   0.0   3.30156   5.95881   \n",
              "75695  Thu Sep 23 21:03:13 IRST 2010      FIXED   0.0   1.34831   3.87113   \n",
              "75696  Thu Jan 07 01:21:34 IRST 2010      FIXED   0.0   4.38087   4.08487   \n",
              "75697  Tue Jun 29 02:39:53 IRDT 2010  DUPLICATE   0.0   5.20424   8.25413   \n",
              "\n",
              "           java  networking  \\\n",
              "0      12.12623    11.40087   \n",
              "1      12.08567    14.32417   \n",
              "2       3.87280     3.66773   \n",
              "3       9.01698     9.74638   \n",
              "4       4.16117     4.97225   \n",
              "...         ...         ...   \n",
              "75693   5.26590     5.18477   \n",
              "75694   2.93718     3.77433   \n",
              "75695   3.02868     3.02150   \n",
              "75696   2.94534     2.59930   \n",
              "75697   5.86056     9.29996   \n",
              "\n",
              "                                                   Title  \\\n",
              "0      mouse pointer hover mode  similar to maemo's d...   \n",
              "1                           clean up breakpad nfs store.   \n",
              "2                               [oopp] adobe flash crash   \n",
              "3       web forgery message break the view source window   \n",
              "4      migrate \"mozilla.community.drumbeat\" group to ...   \n",
              "...                                                  ...   \n",
              "75693                    crash [@ _class_isinitialized ]   \n",
              "75694                      create 15 new linux 64 slaves   \n",
              "75695  zeroing of strings table in avmcore::avmcore p...   \n",
              "75696  localized builds are not updating since decemb...   \n",
              "75697  common web fonts eg. tahoma or rendered as ser...   \n",
              "\n",
              "                                             Description Summary  \n",
              "0      maemo's default browser  also based on firefox...     NaN  \n",
              "1      we are running out of inode space on the nfs f...     NaN  \n",
              "2      user-agent:       mozilla/5.0 (windows; u; win...     NaN  \n",
              "3      when passing to a web forgery site which firef...     NaN  \n",
              "4      please create a new group called \"mozilla.drum...     NaN  \n",
              "...                                                  ...     ...  \n",
              "75693  crash [@ _class_isinitialized ]  #30 in 3.0.1 ...     NaN  \n",
              "75694  we will need these many machines to be able to...     NaN  \n",
              "75695  the code is this:    strings = mmfx_new_array(...     NaN  \n",
              "75696  mozilla/5.0 (x11; u; linux i686; fr; rv:1.9.3a...     NaN  \n",
              "75697  user-agent:       mozilla/5.0 (windows; u; win...     NaN  \n",
              "\n",
              "[75698 rows x 21 columns]"
            ]
          },
          "execution_count": 3,
          "metadata": {},
          "output_type": "execute_result"
        }
      ],
      "source": [
        "mf_data1"
      ]
    },
    {
      "cell_type": "code",
      "execution_count": 4,
      "metadata": {
        "colab": {
          "base_uri": "https://localhost:8080/"
        },
        "id": "5tZLNxRaeNgj",
        "outputId": "ba02de5e-0647-4ca2-d459-04335c555c62"
      },
      "outputs": [
        {
          "data": {
            "text/plain": [
              "(75698, 21)"
            ]
          },
          "execution_count": 4,
          "metadata": {},
          "output_type": "execute_result"
        }
      ],
      "source": [
        "mf_data1.shape"
      ]
    },
    {
      "cell_type": "code",
      "execution_count": 5,
      "metadata": {
        "colab": {
          "base_uri": "https://localhost:8080/"
        },
        "id": "9aKlGg0Hh-QI",
        "outputId": "51d4d145-05d6-47cd-fe83-25a2c1167e20"
      },
      "outputs": [
        {
          "data": {
            "text/plain": [
              "BugID                 0\n",
              "MasterID             58\n",
              "MergeID              58\n",
              "Product              75\n",
              "Component            75\n",
              "Type                 75\n",
              "Priority             75\n",
              "PriorityNumber       58\n",
              "Version              75\n",
              "VersionNumber        58\n",
              "OpenDate             58\n",
              "CloseDate            58\n",
              "Status            13452\n",
              "Stars                58\n",
              "crypto               58\n",
              "general              58\n",
              "java                 58\n",
              "networking           58\n",
              "Title                75\n",
              "Description          78\n",
              "Summary           75698\n",
              "dtype: int64"
            ]
          },
          "execution_count": 5,
          "metadata": {},
          "output_type": "execute_result"
        }
      ],
      "source": [
        "mf_data1.isna().sum()"
      ]
    },
    {
      "cell_type": "code",
      "execution_count": 6,
      "metadata": {
        "id": "ld3gjn53iCua"
      },
      "outputs": [],
      "source": [
        "mf_data2 = mf_data1.drop(columns=\"Summary\")"
      ]
    },
    {
      "cell_type": "code",
      "execution_count": 7,
      "metadata": {
        "colab": {
          "base_uri": "https://localhost:8080/"
        },
        "id": "EZJqyL91iHrH",
        "outputId": "bd1fa810-a7fe-476f-a05d-db8ab896f29e"
      },
      "outputs": [
        {
          "data": {
            "text/plain": [
              "Status\n",
              "FIXED         33456\n",
              "DUPLICATE     10478\n",
              "WORKSFORME     6007\n",
              "INVALID        4551\n",
              "INCOMPLETE     4221\n",
              "WONTFIX        3530\n",
              "MOVED             2\n",
              "EXPIRED           1\n",
              "Name: count, dtype: int64"
            ]
          },
          "execution_count": 7,
          "metadata": {},
          "output_type": "execute_result"
        }
      ],
      "source": [
        "mf_data2[\"Status\"].value_counts()"
      ]
    },
    {
      "cell_type": "code",
      "execution_count": 8,
      "metadata": {
        "id": "nqMcncwFiVRX"
      },
      "outputs": [],
      "source": [
        "mf_data3 = mf_data2.dropna()"
      ]
    },
    {
      "cell_type": "code",
      "execution_count": 9,
      "metadata": {
        "id": "2l70Uit2iZQ2"
      },
      "outputs": [],
      "source": [
        "mf_data4 = mf_data3.reset_index(drop=True)"
      ]
    },
    {
      "cell_type": "code",
      "execution_count": 10,
      "metadata": {
        "colab": {
          "base_uri": "https://localhost:8080/",
          "height": 1000
        },
        "id": "dLSHq82Gia6p",
        "outputId": "4a5936f9-5a00-46b2-b915-9d80cadefa03"
      },
      "outputs": [
        {
          "data": {
            "text/html": [
              "<div>\n",
              "<style scoped>\n",
              "    .dataframe tbody tr th:only-of-type {\n",
              "        vertical-align: middle;\n",
              "    }\n",
              "\n",
              "    .dataframe tbody tr th {\n",
              "        vertical-align: top;\n",
              "    }\n",
              "\n",
              "    .dataframe thead th {\n",
              "        text-align: right;\n",
              "    }\n",
              "</style>\n",
              "<table border=\"1\" class=\"dataframe\">\n",
              "  <thead>\n",
              "    <tr style=\"text-align: right;\">\n",
              "      <th></th>\n",
              "      <th>BugID</th>\n",
              "      <th>MasterID</th>\n",
              "      <th>MergeID</th>\n",
              "      <th>Product</th>\n",
              "      <th>Component</th>\n",
              "      <th>Type</th>\n",
              "      <th>Priority</th>\n",
              "      <th>PriorityNumber</th>\n",
              "      <th>Version</th>\n",
              "      <th>VersionNumber</th>\n",
              "      <th>OpenDate</th>\n",
              "      <th>CloseDate</th>\n",
              "      <th>Status</th>\n",
              "      <th>Stars</th>\n",
              "      <th>crypto</th>\n",
              "      <th>general</th>\n",
              "      <th>java</th>\n",
              "      <th>networking</th>\n",
              "      <th>Title</th>\n",
              "      <th>Description</th>\n",
              "    </tr>\n",
              "  </thead>\n",
              "  <tbody>\n",
              "    <tr>\n",
              "      <th>0</th>\n",
              "      <td>548566</td>\n",
              "      <td>0.0</td>\n",
              "      <td>0.0</td>\n",
              "      <td>mozilla.org</td>\n",
              "      <td>Server Operations</td>\n",
              "      <td>major</td>\n",
              "      <td>--</td>\n",
              "      <td>0.0</td>\n",
              "      <td>other</td>\n",
              "      <td>0.0</td>\n",
              "      <td>Thu Feb 25 18:58:00 IRST 2010</td>\n",
              "      <td>Wed Mar 10 21:38:39 IRST 2010</td>\n",
              "      <td>WONTFIX</td>\n",
              "      <td>0.0</td>\n",
              "      <td>11.89965</td>\n",
              "      <td>15.53109</td>\n",
              "      <td>12.08567</td>\n",
              "      <td>14.32417</td>\n",
              "      <td>clean up breakpad nfs store.</td>\n",
              "      <td>we are running out of inode space on the nfs f...</td>\n",
              "    </tr>\n",
              "    <tr>\n",
              "      <th>1</th>\n",
              "      <td>548567</td>\n",
              "      <td>0.0</td>\n",
              "      <td>548531.0</td>\n",
              "      <td>Plugins</td>\n",
              "      <td>Flash (Adobe)</td>\n",
              "      <td>critical</td>\n",
              "      <td>--</td>\n",
              "      <td>0.0</td>\n",
              "      <td>10.x</td>\n",
              "      <td>0.0</td>\n",
              "      <td>Thu Feb 25 19:12:00 IRST 2010</td>\n",
              "      <td>Fri Apr 23 17:13:24 IRDT 2010</td>\n",
              "      <td>DUPLICATE</td>\n",
              "      <td>0.0</td>\n",
              "      <td>2.71370</td>\n",
              "      <td>4.43300</td>\n",
              "      <td>3.87280</td>\n",
              "      <td>3.66773</td>\n",
              "      <td>[oopp] adobe flash crash</td>\n",
              "      <td>user-agent:       mozilla/5.0 (windows; u; win...</td>\n",
              "    </tr>\n",
              "    <tr>\n",
              "      <th>2</th>\n",
              "      <td>548568</td>\n",
              "      <td>0.0</td>\n",
              "      <td>397937.0</td>\n",
              "      <td>Firefox</td>\n",
              "      <td>Phishing Protection</td>\n",
              "      <td>normal</td>\n",
              "      <td>--</td>\n",
              "      <td>0.0</td>\n",
              "      <td>unspecified</td>\n",
              "      <td>0.0</td>\n",
              "      <td>Thu Feb 25 19:24:00 IRST 2010</td>\n",
              "      <td>Thu Feb 25 22:10:43 IRST 2010</td>\n",
              "      <td>DUPLICATE</td>\n",
              "      <td>0.0</td>\n",
              "      <td>8.78630</td>\n",
              "      <td>11.16785</td>\n",
              "      <td>9.01698</td>\n",
              "      <td>9.74638</td>\n",
              "      <td>web forgery message break the view source window</td>\n",
              "      <td>when passing to a web forgery site which firef...</td>\n",
              "    </tr>\n",
              "    <tr>\n",
              "      <th>3</th>\n",
              "      <td>548569</td>\n",
              "      <td>0.0</td>\n",
              "      <td>0.0</td>\n",
              "      <td>mozilla.org</td>\n",
              "      <td>Discussion Forums</td>\n",
              "      <td>normal</td>\n",
              "      <td>--</td>\n",
              "      <td>0.0</td>\n",
              "      <td>other</td>\n",
              "      <td>0.0</td>\n",
              "      <td>Thu Feb 25 19:29:00 IRST 2010</td>\n",
              "      <td>Wed Apr 21 13:25:55 IRDT 2010</td>\n",
              "      <td>INVALID</td>\n",
              "      <td>0.0</td>\n",
              "      <td>4.97225</td>\n",
              "      <td>5.30194</td>\n",
              "      <td>4.16117</td>\n",
              "      <td>4.97225</td>\n",
              "      <td>migrate \"mozilla.community.drumbeat\" group to ...</td>\n",
              "      <td>please create a new group called \"mozilla.drum...</td>\n",
              "    </tr>\n",
              "    <tr>\n",
              "      <th>4</th>\n",
              "      <td>548570</td>\n",
              "      <td>0.0</td>\n",
              "      <td>0.0</td>\n",
              "      <td>Tamarin</td>\n",
              "      <td>Garbage Collection (mmGC)</td>\n",
              "      <td>normal</td>\n",
              "      <td>P3</td>\n",
              "      <td>3.0</td>\n",
              "      <td>unspecified</td>\n",
              "      <td>0.0</td>\n",
              "      <td>Thu Feb 25 19:32:00 IRST 2010</td>\n",
              "      <td>Fri Apr 02 21:50:46 IRDT 2010</td>\n",
              "      <td>FIXED</td>\n",
              "      <td>0.0</td>\n",
              "      <td>2.91422</td>\n",
              "      <td>7.33212</td>\n",
              "      <td>6.92064</td>\n",
              "      <td>8.08346</td>\n",
              "      <td>assertion failed: \"((!m_startedfinalize))\" (\"/...</td>\n",
              "      <td>assertion fires in numerous test cases with de...</td>\n",
              "    </tr>\n",
              "    <tr>\n",
              "      <th>...</th>\n",
              "      <td>...</td>\n",
              "      <td>...</td>\n",
              "      <td>...</td>\n",
              "      <td>...</td>\n",
              "      <td>...</td>\n",
              "      <td>...</td>\n",
              "      <td>...</td>\n",
              "      <td>...</td>\n",
              "      <td>...</td>\n",
              "      <td>...</td>\n",
              "      <td>...</td>\n",
              "      <td>...</td>\n",
              "      <td>...</td>\n",
              "      <td>...</td>\n",
              "      <td>...</td>\n",
              "      <td>...</td>\n",
              "      <td>...</td>\n",
              "      <td>...</td>\n",
              "      <td>...</td>\n",
              "      <td>...</td>\n",
              "    </tr>\n",
              "    <tr>\n",
              "      <th>62238</th>\n",
              "      <td>548563</td>\n",
              "      <td>0.0</td>\n",
              "      <td>0.0</td>\n",
              "      <td>mozilla.org</td>\n",
              "      <td>Server Operations</td>\n",
              "      <td>major</td>\n",
              "      <td>--</td>\n",
              "      <td>0.0</td>\n",
              "      <td>other</td>\n",
              "      <td>0.0</td>\n",
              "      <td>Thu Feb 25 18:46:00 IRST 2010</td>\n",
              "      <td>Thu Mar 04 00:22:40 IRST 2010</td>\n",
              "      <td>FIXED</td>\n",
              "      <td>0.0</td>\n",
              "      <td>2.91444</td>\n",
              "      <td>2.91444</td>\n",
              "      <td>2.91444</td>\n",
              "      <td>4.48528</td>\n",
              "      <td>point donate.mozilla.org and www.mozillians.or...</td>\n",
              "      <td>please set up a records for donate.mozilla.org...</td>\n",
              "    </tr>\n",
              "    <tr>\n",
              "      <th>62239</th>\n",
              "      <td>548565</td>\n",
              "      <td>0.0</td>\n",
              "      <td>0.0</td>\n",
              "      <td>mozilla.org</td>\n",
              "      <td>Release Engineering</td>\n",
              "      <td>normal</td>\n",
              "      <td>P5</td>\n",
              "      <td>5.0</td>\n",
              "      <td>other</td>\n",
              "      <td>0.0</td>\n",
              "      <td>Thu Feb 25 18:49:00 IRST 2010</td>\n",
              "      <td>Fri Feb 26 02:27:54 IRST 2010</td>\n",
              "      <td>WONTFIX</td>\n",
              "      <td>0.0</td>\n",
              "      <td>3.30156</td>\n",
              "      <td>5.95881</td>\n",
              "      <td>2.93718</td>\n",
              "      <td>3.77433</td>\n",
              "      <td>create 15 new linux 64 slaves</td>\n",
              "      <td>we will need these many machines to be able to...</td>\n",
              "    </tr>\n",
              "    <tr>\n",
              "      <th>62240</th>\n",
              "      <td>538545</td>\n",
              "      <td>0.0</td>\n",
              "      <td>0.0</td>\n",
              "      <td>Tamarin</td>\n",
              "      <td>Virtual Machine</td>\n",
              "      <td>normal</td>\n",
              "      <td>--</td>\n",
              "      <td>0.0</td>\n",
              "      <td>unspecified</td>\n",
              "      <td>0.0</td>\n",
              "      <td>Fri Jan 08 12:30:00 IRST 2010</td>\n",
              "      <td>Thu Sep 23 21:03:13 IRST 2010</td>\n",
              "      <td>FIXED</td>\n",
              "      <td>0.0</td>\n",
              "      <td>1.34831</td>\n",
              "      <td>3.87113</td>\n",
              "      <td>3.02868</td>\n",
              "      <td>3.02150</td>\n",
              "      <td>zeroing of strings table in avmcore::avmcore p...</td>\n",
              "      <td>the code is this:    strings = mmfx_new_array(...</td>\n",
              "    </tr>\n",
              "    <tr>\n",
              "      <th>62241</th>\n",
              "      <td>537539</td>\n",
              "      <td>0.0</td>\n",
              "      <td>0.0</td>\n",
              "      <td>mozilla.org</td>\n",
              "      <td>Release Engineering</td>\n",
              "      <td>critical</td>\n",
              "      <td>--</td>\n",
              "      <td>0.0</td>\n",
              "      <td>other</td>\n",
              "      <td>0.0</td>\n",
              "      <td>Sat Jan 02 21:51:00 IRST 2010</td>\n",
              "      <td>Thu Jan 07 01:21:34 IRST 2010</td>\n",
              "      <td>FIXED</td>\n",
              "      <td>0.0</td>\n",
              "      <td>4.38087</td>\n",
              "      <td>4.08487</td>\n",
              "      <td>2.94534</td>\n",
              "      <td>2.59930</td>\n",
              "      <td>localized builds are not updating since decemb...</td>\n",
              "      <td>mozilla/5.0 (x11; u; linux i686; fr; rv:1.9.3a...</td>\n",
              "    </tr>\n",
              "    <tr>\n",
              "      <th>62242</th>\n",
              "      <td>537447</td>\n",
              "      <td>0.0</td>\n",
              "      <td>536296.0</td>\n",
              "      <td>Fennec Graveyard</td>\n",
              "      <td>General</td>\n",
              "      <td>minor</td>\n",
              "      <td>--</td>\n",
              "      <td>0.0</td>\n",
              "      <td>Trunk</td>\n",
              "      <td>0.0</td>\n",
              "      <td>Fri Jan 01 17:36:00 IRST 2010</td>\n",
              "      <td>Tue Jun 29 02:39:53 IRDT 2010</td>\n",
              "      <td>DUPLICATE</td>\n",
              "      <td>0.0</td>\n",
              "      <td>5.20424</td>\n",
              "      <td>8.25413</td>\n",
              "      <td>5.86056</td>\n",
              "      <td>9.29996</td>\n",
              "      <td>common web fonts eg. tahoma or rendered as ser...</td>\n",
              "      <td>user-agent:       mozilla/5.0 (windows; u; win...</td>\n",
              "    </tr>\n",
              "  </tbody>\n",
              "</table>\n",
              "<p>62243 rows × 20 columns</p>\n",
              "</div>"
            ],
            "text/plain": [
              "        BugID  MasterID   MergeID           Product  \\\n",
              "0      548566       0.0       0.0       mozilla.org   \n",
              "1      548567       0.0  548531.0           Plugins   \n",
              "2      548568       0.0  397937.0           Firefox   \n",
              "3      548569       0.0       0.0       mozilla.org   \n",
              "4      548570       0.0       0.0           Tamarin   \n",
              "...       ...       ...       ...               ...   \n",
              "62238  548563       0.0       0.0       mozilla.org   \n",
              "62239  548565       0.0       0.0       mozilla.org   \n",
              "62240  538545       0.0       0.0           Tamarin   \n",
              "62241  537539       0.0       0.0       mozilla.org   \n",
              "62242  537447       0.0  536296.0  Fennec Graveyard   \n",
              "\n",
              "                       Component      Type Priority  PriorityNumber  \\\n",
              "0              Server Operations     major       --             0.0   \n",
              "1                  Flash (Adobe)  critical       --             0.0   \n",
              "2            Phishing Protection    normal       --             0.0   \n",
              "3              Discussion Forums    normal       --             0.0   \n",
              "4      Garbage Collection (mmGC)    normal       P3             3.0   \n",
              "...                          ...       ...      ...             ...   \n",
              "62238          Server Operations     major       --             0.0   \n",
              "62239        Release Engineering    normal       P5             5.0   \n",
              "62240            Virtual Machine    normal       --             0.0   \n",
              "62241        Release Engineering  critical       --             0.0   \n",
              "62242                    General     minor       --             0.0   \n",
              "\n",
              "           Version  VersionNumber                       OpenDate  \\\n",
              "0            other            0.0  Thu Feb 25 18:58:00 IRST 2010   \n",
              "1             10.x            0.0  Thu Feb 25 19:12:00 IRST 2010   \n",
              "2      unspecified            0.0  Thu Feb 25 19:24:00 IRST 2010   \n",
              "3            other            0.0  Thu Feb 25 19:29:00 IRST 2010   \n",
              "4      unspecified            0.0  Thu Feb 25 19:32:00 IRST 2010   \n",
              "...            ...            ...                            ...   \n",
              "62238        other            0.0  Thu Feb 25 18:46:00 IRST 2010   \n",
              "62239        other            0.0  Thu Feb 25 18:49:00 IRST 2010   \n",
              "62240  unspecified            0.0  Fri Jan 08 12:30:00 IRST 2010   \n",
              "62241        other            0.0  Sat Jan 02 21:51:00 IRST 2010   \n",
              "62242        Trunk            0.0  Fri Jan 01 17:36:00 IRST 2010   \n",
              "\n",
              "                           CloseDate     Status  Stars    crypto   general  \\\n",
              "0      Wed Mar 10 21:38:39 IRST 2010    WONTFIX    0.0  11.89965  15.53109   \n",
              "1      Fri Apr 23 17:13:24 IRDT 2010  DUPLICATE    0.0   2.71370   4.43300   \n",
              "2      Thu Feb 25 22:10:43 IRST 2010  DUPLICATE    0.0   8.78630  11.16785   \n",
              "3      Wed Apr 21 13:25:55 IRDT 2010    INVALID    0.0   4.97225   5.30194   \n",
              "4      Fri Apr 02 21:50:46 IRDT 2010      FIXED    0.0   2.91422   7.33212   \n",
              "...                              ...        ...    ...       ...       ...   \n",
              "62238  Thu Mar 04 00:22:40 IRST 2010      FIXED    0.0   2.91444   2.91444   \n",
              "62239  Fri Feb 26 02:27:54 IRST 2010    WONTFIX    0.0   3.30156   5.95881   \n",
              "62240  Thu Sep 23 21:03:13 IRST 2010      FIXED    0.0   1.34831   3.87113   \n",
              "62241  Thu Jan 07 01:21:34 IRST 2010      FIXED    0.0   4.38087   4.08487   \n",
              "62242  Tue Jun 29 02:39:53 IRDT 2010  DUPLICATE    0.0   5.20424   8.25413   \n",
              "\n",
              "           java  networking  \\\n",
              "0      12.08567    14.32417   \n",
              "1       3.87280     3.66773   \n",
              "2       9.01698     9.74638   \n",
              "3       4.16117     4.97225   \n",
              "4       6.92064     8.08346   \n",
              "...         ...         ...   \n",
              "62238   2.91444     4.48528   \n",
              "62239   2.93718     3.77433   \n",
              "62240   3.02868     3.02150   \n",
              "62241   2.94534     2.59930   \n",
              "62242   5.86056     9.29996   \n",
              "\n",
              "                                                   Title  \\\n",
              "0                           clean up breakpad nfs store.   \n",
              "1                               [oopp] adobe flash crash   \n",
              "2       web forgery message break the view source window   \n",
              "3      migrate \"mozilla.community.drumbeat\" group to ...   \n",
              "4      assertion failed: \"((!m_startedfinalize))\" (\"/...   \n",
              "...                                                  ...   \n",
              "62238  point donate.mozilla.org and www.mozillians.or...   \n",
              "62239                      create 15 new linux 64 slaves   \n",
              "62240  zeroing of strings table in avmcore::avmcore p...   \n",
              "62241  localized builds are not updating since decemb...   \n",
              "62242  common web fonts eg. tahoma or rendered as ser...   \n",
              "\n",
              "                                             Description  \n",
              "0      we are running out of inode space on the nfs f...  \n",
              "1      user-agent:       mozilla/5.0 (windows; u; win...  \n",
              "2      when passing to a web forgery site which firef...  \n",
              "3      please create a new group called \"mozilla.drum...  \n",
              "4      assertion fires in numerous test cases with de...  \n",
              "...                                                  ...  \n",
              "62238  please set up a records for donate.mozilla.org...  \n",
              "62239  we will need these many machines to be able to...  \n",
              "62240  the code is this:    strings = mmfx_new_array(...  \n",
              "62241  mozilla/5.0 (x11; u; linux i686; fr; rv:1.9.3a...  \n",
              "62242  user-agent:       mozilla/5.0 (windows; u; win...  \n",
              "\n",
              "[62243 rows x 20 columns]"
            ]
          },
          "execution_count": 10,
          "metadata": {},
          "output_type": "execute_result"
        }
      ],
      "source": [
        "mf_data4"
      ]
    },
    {
      "cell_type": "code",
      "execution_count": 11,
      "metadata": {
        "colab": {
          "base_uri": "https://localhost:8080/"
        },
        "id": "eAZOEjGpic_G",
        "outputId": "ca2e45d6-1ff8-4b34-e4fc-c954aa8f744e"
      },
      "outputs": [
        {
          "data": {
            "text/plain": [
              "Status\n",
              "FIXED         33455\n",
              "DUPLICATE     10477\n",
              "WORKSFORME     6007\n",
              "INVALID        4551\n",
              "INCOMPLETE     4220\n",
              "WONTFIX        3530\n",
              "MOVED             2\n",
              "EXPIRED           1\n",
              "Name: count, dtype: int64"
            ]
          },
          "execution_count": 11,
          "metadata": {},
          "output_type": "execute_result"
        }
      ],
      "source": [
        "mf_data4[\"Status\"].value_counts()"
      ]
    },
    {
      "cell_type": "code",
      "execution_count": 12,
      "metadata": {
        "id": "yWdpfsxQifr4"
      },
      "outputs": [],
      "source": [
        "mf_data4[\"Status\"] = [-1 if bug_type == \"INVALID\" else 1 for bug_type in mf_data4[\"Status\"]]"
      ]
    },
    {
      "cell_type": "code",
      "execution_count": 13,
      "metadata": {
        "id": "RCxlNKzPiiS4"
      },
      "outputs": [],
      "source": [
        "mf_data5 = mf_data4.drop(columns = [\"BugID\",\"MasterID\",\"MergeID\",\"OpenDate\",\"CloseDate\",\"Stars\",\"VersionNumber\"])"
      ]
    },
    {
      "cell_type": "code",
      "execution_count": 14,
      "metadata": {
        "colab": {
          "base_uri": "https://localhost:8080/",
          "height": 791
        },
        "id": "oM4IsX2EikAI",
        "outputId": "d0e98f34-e056-4aef-950c-3d15cc53557a"
      },
      "outputs": [
        {
          "data": {
            "text/html": [
              "<div>\n",
              "<style scoped>\n",
              "    .dataframe tbody tr th:only-of-type {\n",
              "        vertical-align: middle;\n",
              "    }\n",
              "\n",
              "    .dataframe tbody tr th {\n",
              "        vertical-align: top;\n",
              "    }\n",
              "\n",
              "    .dataframe thead th {\n",
              "        text-align: right;\n",
              "    }\n",
              "</style>\n",
              "<table border=\"1\" class=\"dataframe\">\n",
              "  <thead>\n",
              "    <tr style=\"text-align: right;\">\n",
              "      <th></th>\n",
              "      <th>Product</th>\n",
              "      <th>Component</th>\n",
              "      <th>Type</th>\n",
              "      <th>Priority</th>\n",
              "      <th>PriorityNumber</th>\n",
              "      <th>Version</th>\n",
              "      <th>Status</th>\n",
              "      <th>crypto</th>\n",
              "      <th>general</th>\n",
              "      <th>java</th>\n",
              "      <th>networking</th>\n",
              "      <th>Title</th>\n",
              "      <th>Description</th>\n",
              "    </tr>\n",
              "  </thead>\n",
              "  <tbody>\n",
              "    <tr>\n",
              "      <th>0</th>\n",
              "      <td>mozilla.org</td>\n",
              "      <td>Server Operations</td>\n",
              "      <td>major</td>\n",
              "      <td>--</td>\n",
              "      <td>0.0</td>\n",
              "      <td>other</td>\n",
              "      <td>1</td>\n",
              "      <td>11.89965</td>\n",
              "      <td>15.53109</td>\n",
              "      <td>12.08567</td>\n",
              "      <td>14.32417</td>\n",
              "      <td>clean up breakpad nfs store.</td>\n",
              "      <td>we are running out of inode space on the nfs f...</td>\n",
              "    </tr>\n",
              "    <tr>\n",
              "      <th>1</th>\n",
              "      <td>Plugins</td>\n",
              "      <td>Flash (Adobe)</td>\n",
              "      <td>critical</td>\n",
              "      <td>--</td>\n",
              "      <td>0.0</td>\n",
              "      <td>10.x</td>\n",
              "      <td>1</td>\n",
              "      <td>2.71370</td>\n",
              "      <td>4.43300</td>\n",
              "      <td>3.87280</td>\n",
              "      <td>3.66773</td>\n",
              "      <td>[oopp] adobe flash crash</td>\n",
              "      <td>user-agent:       mozilla/5.0 (windows; u; win...</td>\n",
              "    </tr>\n",
              "    <tr>\n",
              "      <th>2</th>\n",
              "      <td>Firefox</td>\n",
              "      <td>Phishing Protection</td>\n",
              "      <td>normal</td>\n",
              "      <td>--</td>\n",
              "      <td>0.0</td>\n",
              "      <td>unspecified</td>\n",
              "      <td>1</td>\n",
              "      <td>8.78630</td>\n",
              "      <td>11.16785</td>\n",
              "      <td>9.01698</td>\n",
              "      <td>9.74638</td>\n",
              "      <td>web forgery message break the view source window</td>\n",
              "      <td>when passing to a web forgery site which firef...</td>\n",
              "    </tr>\n",
              "    <tr>\n",
              "      <th>3</th>\n",
              "      <td>mozilla.org</td>\n",
              "      <td>Discussion Forums</td>\n",
              "      <td>normal</td>\n",
              "      <td>--</td>\n",
              "      <td>0.0</td>\n",
              "      <td>other</td>\n",
              "      <td>-1</td>\n",
              "      <td>4.97225</td>\n",
              "      <td>5.30194</td>\n",
              "      <td>4.16117</td>\n",
              "      <td>4.97225</td>\n",
              "      <td>migrate \"mozilla.community.drumbeat\" group to ...</td>\n",
              "      <td>please create a new group called \"mozilla.drum...</td>\n",
              "    </tr>\n",
              "    <tr>\n",
              "      <th>4</th>\n",
              "      <td>Tamarin</td>\n",
              "      <td>Garbage Collection (mmGC)</td>\n",
              "      <td>normal</td>\n",
              "      <td>P3</td>\n",
              "      <td>3.0</td>\n",
              "      <td>unspecified</td>\n",
              "      <td>1</td>\n",
              "      <td>2.91422</td>\n",
              "      <td>7.33212</td>\n",
              "      <td>6.92064</td>\n",
              "      <td>8.08346</td>\n",
              "      <td>assertion failed: \"((!m_startedfinalize))\" (\"/...</td>\n",
              "      <td>assertion fires in numerous test cases with de...</td>\n",
              "    </tr>\n",
              "    <tr>\n",
              "      <th>...</th>\n",
              "      <td>...</td>\n",
              "      <td>...</td>\n",
              "      <td>...</td>\n",
              "      <td>...</td>\n",
              "      <td>...</td>\n",
              "      <td>...</td>\n",
              "      <td>...</td>\n",
              "      <td>...</td>\n",
              "      <td>...</td>\n",
              "      <td>...</td>\n",
              "      <td>...</td>\n",
              "      <td>...</td>\n",
              "      <td>...</td>\n",
              "    </tr>\n",
              "    <tr>\n",
              "      <th>62238</th>\n",
              "      <td>mozilla.org</td>\n",
              "      <td>Server Operations</td>\n",
              "      <td>major</td>\n",
              "      <td>--</td>\n",
              "      <td>0.0</td>\n",
              "      <td>other</td>\n",
              "      <td>1</td>\n",
              "      <td>2.91444</td>\n",
              "      <td>2.91444</td>\n",
              "      <td>2.91444</td>\n",
              "      <td>4.48528</td>\n",
              "      <td>point donate.mozilla.org and www.mozillians.or...</td>\n",
              "      <td>please set up a records for donate.mozilla.org...</td>\n",
              "    </tr>\n",
              "    <tr>\n",
              "      <th>62239</th>\n",
              "      <td>mozilla.org</td>\n",
              "      <td>Release Engineering</td>\n",
              "      <td>normal</td>\n",
              "      <td>P5</td>\n",
              "      <td>5.0</td>\n",
              "      <td>other</td>\n",
              "      <td>1</td>\n",
              "      <td>3.30156</td>\n",
              "      <td>5.95881</td>\n",
              "      <td>2.93718</td>\n",
              "      <td>3.77433</td>\n",
              "      <td>create 15 new linux 64 slaves</td>\n",
              "      <td>we will need these many machines to be able to...</td>\n",
              "    </tr>\n",
              "    <tr>\n",
              "      <th>62240</th>\n",
              "      <td>Tamarin</td>\n",
              "      <td>Virtual Machine</td>\n",
              "      <td>normal</td>\n",
              "      <td>--</td>\n",
              "      <td>0.0</td>\n",
              "      <td>unspecified</td>\n",
              "      <td>1</td>\n",
              "      <td>1.34831</td>\n",
              "      <td>3.87113</td>\n",
              "      <td>3.02868</td>\n",
              "      <td>3.02150</td>\n",
              "      <td>zeroing of strings table in avmcore::avmcore p...</td>\n",
              "      <td>the code is this:    strings = mmfx_new_array(...</td>\n",
              "    </tr>\n",
              "    <tr>\n",
              "      <th>62241</th>\n",
              "      <td>mozilla.org</td>\n",
              "      <td>Release Engineering</td>\n",
              "      <td>critical</td>\n",
              "      <td>--</td>\n",
              "      <td>0.0</td>\n",
              "      <td>other</td>\n",
              "      <td>1</td>\n",
              "      <td>4.38087</td>\n",
              "      <td>4.08487</td>\n",
              "      <td>2.94534</td>\n",
              "      <td>2.59930</td>\n",
              "      <td>localized builds are not updating since decemb...</td>\n",
              "      <td>mozilla/5.0 (x11; u; linux i686; fr; rv:1.9.3a...</td>\n",
              "    </tr>\n",
              "    <tr>\n",
              "      <th>62242</th>\n",
              "      <td>Fennec Graveyard</td>\n",
              "      <td>General</td>\n",
              "      <td>minor</td>\n",
              "      <td>--</td>\n",
              "      <td>0.0</td>\n",
              "      <td>Trunk</td>\n",
              "      <td>1</td>\n",
              "      <td>5.20424</td>\n",
              "      <td>8.25413</td>\n",
              "      <td>5.86056</td>\n",
              "      <td>9.29996</td>\n",
              "      <td>common web fonts eg. tahoma or rendered as ser...</td>\n",
              "      <td>user-agent:       mozilla/5.0 (windows; u; win...</td>\n",
              "    </tr>\n",
              "  </tbody>\n",
              "</table>\n",
              "<p>62243 rows × 13 columns</p>\n",
              "</div>"
            ],
            "text/plain": [
              "                Product                  Component      Type Priority  \\\n",
              "0           mozilla.org          Server Operations     major       --   \n",
              "1               Plugins              Flash (Adobe)  critical       --   \n",
              "2               Firefox        Phishing Protection    normal       --   \n",
              "3           mozilla.org          Discussion Forums    normal       --   \n",
              "4               Tamarin  Garbage Collection (mmGC)    normal       P3   \n",
              "...                 ...                        ...       ...      ...   \n",
              "62238       mozilla.org          Server Operations     major       --   \n",
              "62239       mozilla.org        Release Engineering    normal       P5   \n",
              "62240           Tamarin            Virtual Machine    normal       --   \n",
              "62241       mozilla.org        Release Engineering  critical       --   \n",
              "62242  Fennec Graveyard                    General     minor       --   \n",
              "\n",
              "       PriorityNumber      Version  Status    crypto   general      java  \\\n",
              "0                 0.0        other       1  11.89965  15.53109  12.08567   \n",
              "1                 0.0         10.x       1   2.71370   4.43300   3.87280   \n",
              "2                 0.0  unspecified       1   8.78630  11.16785   9.01698   \n",
              "3                 0.0        other      -1   4.97225   5.30194   4.16117   \n",
              "4                 3.0  unspecified       1   2.91422   7.33212   6.92064   \n",
              "...               ...          ...     ...       ...       ...       ...   \n",
              "62238             0.0        other       1   2.91444   2.91444   2.91444   \n",
              "62239             5.0        other       1   3.30156   5.95881   2.93718   \n",
              "62240             0.0  unspecified       1   1.34831   3.87113   3.02868   \n",
              "62241             0.0        other       1   4.38087   4.08487   2.94534   \n",
              "62242             0.0        Trunk       1   5.20424   8.25413   5.86056   \n",
              "\n",
              "       networking                                              Title  \\\n",
              "0        14.32417                       clean up breakpad nfs store.   \n",
              "1         3.66773                           [oopp] adobe flash crash   \n",
              "2         9.74638   web forgery message break the view source window   \n",
              "3         4.97225  migrate \"mozilla.community.drumbeat\" group to ...   \n",
              "4         8.08346  assertion failed: \"((!m_startedfinalize))\" (\"/...   \n",
              "...           ...                                                ...   \n",
              "62238     4.48528  point donate.mozilla.org and www.mozillians.or...   \n",
              "62239     3.77433                      create 15 new linux 64 slaves   \n",
              "62240     3.02150  zeroing of strings table in avmcore::avmcore p...   \n",
              "62241     2.59930  localized builds are not updating since decemb...   \n",
              "62242     9.29996  common web fonts eg. tahoma or rendered as ser...   \n",
              "\n",
              "                                             Description  \n",
              "0      we are running out of inode space on the nfs f...  \n",
              "1      user-agent:       mozilla/5.0 (windows; u; win...  \n",
              "2      when passing to a web forgery site which firef...  \n",
              "3      please create a new group called \"mozilla.drum...  \n",
              "4      assertion fires in numerous test cases with de...  \n",
              "...                                                  ...  \n",
              "62238  please set up a records for donate.mozilla.org...  \n",
              "62239  we will need these many machines to be able to...  \n",
              "62240  the code is this:    strings = mmfx_new_array(...  \n",
              "62241  mozilla/5.0 (x11; u; linux i686; fr; rv:1.9.3a...  \n",
              "62242  user-agent:       mozilla/5.0 (windows; u; win...  \n",
              "\n",
              "[62243 rows x 13 columns]"
            ]
          },
          "execution_count": 14,
          "metadata": {},
          "output_type": "execute_result"
        }
      ],
      "source": [
        "mf_data5"
      ]
    },
    {
      "cell_type": "code",
      "execution_count": 15,
      "metadata": {
        "id": "DdCtZNVnixaS"
      },
      "outputs": [],
      "source": [
        "X = mf_data5.drop(columns = \"Status\")"
      ]
    },
    {
      "cell_type": "code",
      "execution_count": 16,
      "metadata": {
        "id": "f5UXFcj_izni"
      },
      "outputs": [],
      "source": [
        "Bug_details = []\n",
        "for i in range(len(X)):\n",
        "  Bug_detail = ' '.join(str(detail) for detail in X.iloc[i,0:12])\n",
        "  Bug_details.append(Bug_detail)"
      ]
    },
    {
      "cell_type": "code",
      "execution_count": 17,
      "metadata": {
        "id": "urohJkWdi1CX"
      },
      "outputs": [],
      "source": [
        "import nltk\n",
        "import re\n",
        "from nltk.corpus import stopwords\n",
        "from nltk.stem.porter import PorterStemmer\n",
        "from nltk.stem import WordNetLemmatizer"
      ]
    },
    {
      "cell_type": "code",
      "execution_count": 18,
      "metadata": {
        "colab": {
          "base_uri": "https://localhost:8080/"
        },
        "id": "IOQhdkUei2Z1",
        "outputId": "af2eaa38-56c6-45dc-c7bf-152976107154"
      },
      "outputs": [
        {
          "name": "stderr",
          "output_type": "stream",
          "text": [
            "[nltk_data] Downloading package punkt to C:\\Users\\Vedant\n",
            "[nltk_data]     Vidhate\\AppData\\Roaming\\nltk_data...\n",
            "[nltk_data]   Package punkt is already up-to-date!\n"
          ]
        },
        {
          "data": {
            "text/plain": [
              "True"
            ]
          },
          "execution_count": 18,
          "metadata": {},
          "output_type": "execute_result"
        }
      ],
      "source": [
        "nltk.download('punkt')"
      ]
    },
    {
      "cell_type": "code",
      "execution_count": 19,
      "metadata": {
        "colab": {
          "base_uri": "https://localhost:8080/"
        },
        "id": "_zoLC_Zsi5Nm",
        "outputId": "0e4dc1e8-2eec-4128-a189-88fd2a61891d"
      },
      "outputs": [
        {
          "name": "stderr",
          "output_type": "stream",
          "text": [
            "[nltk_data] Downloading package stopwords to C:\\Users\\Vedant\n",
            "[nltk_data]     Vidhate\\AppData\\Roaming\\nltk_data...\n",
            "[nltk_data]   Package stopwords is already up-to-date!\n"
          ]
        },
        {
          "data": {
            "text/plain": [
              "True"
            ]
          },
          "execution_count": 19,
          "metadata": {},
          "output_type": "execute_result"
        }
      ],
      "source": [
        "nltk.download('stopwords')"
      ]
    },
    {
      "cell_type": "code",
      "execution_count": 20,
      "metadata": {
        "colab": {
          "base_uri": "https://localhost:8080/"
        },
        "id": "geq1p7tei7JM",
        "outputId": "376c084e-39e9-4e0a-93b3-2b3073bcac74"
      },
      "outputs": [
        {
          "name": "stderr",
          "output_type": "stream",
          "text": [
            "[nltk_data] Downloading package wordnet to C:\\Users\\Vedant\n",
            "[nltk_data]     Vidhate\\AppData\\Roaming\\nltk_data...\n",
            "[nltk_data]   Package wordnet is already up-to-date!\n"
          ]
        },
        {
          "data": {
            "text/plain": [
              "True"
            ]
          },
          "execution_count": 20,
          "metadata": {},
          "output_type": "execute_result"
        }
      ],
      "source": [
        "nltk.download('wordnet')"
      ]
    },
    {
      "cell_type": "code",
      "execution_count": 21,
      "metadata": {
        "id": "AeN29b36i80P"
      },
      "outputs": [],
      "source": [
        "Lemmatizer = WordNetLemmatizer()"
      ]
    },
    {
      "cell_type": "code",
      "execution_count": 22,
      "metadata": {
        "id": "4LRaVgn3i-7l"
      },
      "outputs": [],
      "source": [
        "bug_details_cleaned = []\n",
        "\n",
        "for i in range(len(Bug_details)):\n",
        "    bug_detail = Bug_details[i]\n",
        "    bug_detail = re.sub(r'\\(\\d{1,2}/\\d{1,2}/\\d{4} \\d{1,2}:\\d{1,2}:\\d{1,2} [APMapm]{2}\\);', '', bug_detail)\n",
        "    bug_detail_words = nltk.word_tokenize(bug_detail)\n",
        "    bug_detail_words = [Lemmatizer.lemmatize(word) for word in bug_detail_words if word not in set(stopwords.words('english'))]\n",
        "    bug_detail = ' '.join(bug_detail_words)\n",
        "    bug_detail = bug_detail.lower()\n",
        "    bug_details_cleaned.append(bug_detail)"
      ]
    },
    {
      "cell_type": "code",
      "execution_count": 23,
      "metadata": {
        "id": "xIE4bEKdjCY5"
      },
      "outputs": [],
      "source": [
        "word_count = [len(bug_detail) for bug_detail in bug_details_cleaned]"
      ]
    },
    {
      "cell_type": "code",
      "execution_count": 24,
      "metadata": {
        "id": "AUJ3IUyYjEi6"
      },
      "outputs": [],
      "source": [
        "ep_des_df = pd.DataFrame({\n",
        "                            \"Description\" : bug_details_cleaned,\n",
        "                            \"Description_length\" : word_count\n",
        "\n",
        "\n",
        "})"
      ]
    },
    {
      "cell_type": "code",
      "execution_count": 25,
      "metadata": {
        "colab": {
          "base_uri": "https://localhost:8080/"
        },
        "id": "-PkftQvUjF6l",
        "outputId": "e8e050ad-bbf8-4a40-dc17-ffb7e7df5dc2"
      },
      "outputs": [
        {
          "data": {
            "text/plain": [
              "count    62243.000000\n",
              "mean       768.848481\n",
              "std       1411.519183\n",
              "min         64.000000\n",
              "25%        310.000000\n",
              "50%        511.000000\n",
              "75%        830.000000\n",
              "max      40837.000000\n",
              "Name: Description_length, dtype: float64"
            ]
          },
          "execution_count": 25,
          "metadata": {},
          "output_type": "execute_result"
        }
      ],
      "source": [
        "ep_des_df[\"Description_length\"].describe()"
      ]
    },
    {
      "cell_type": "code",
      "execution_count": 26,
      "metadata": {
        "id": "16vcOoZTjI3n"
      },
      "outputs": [
        {
          "name": "stdout",
          "output_type": "stream",
          "text": [
            "WARNING:tensorflow:From c:\\Users\\Vedant Vidhate\\anaconda3\\Lib\\site-packages\\keras\\src\\losses.py:2976: The name tf.losses.sparse_softmax_cross_entropy is deprecated. Please use tf.compat.v1.losses.sparse_softmax_cross_entropy instead.\n",
            "\n"
          ]
        }
      ],
      "source": [
        "import tensorflow as tf"
      ]
    },
    {
      "cell_type": "code",
      "execution_count": 27,
      "metadata": {
        "id": "iL1Gd1G9jKZG"
      },
      "outputs": [],
      "source": [
        "from tensorflow.keras.preprocessing.text import one_hot\n",
        "from tensorflow.keras.layers import Embedding\n",
        "from tensorflow.keras.preprocessing.sequence import pad_sequences"
      ]
    },
    {
      "cell_type": "code",
      "execution_count": 28,
      "metadata": {
        "id": "E2FMULwSjLlH"
      },
      "outputs": [],
      "source": [
        "voc_size = 10000\n",
        "one_hot_representation = [one_hot(news,voc_size) for news in bug_details_cleaned]"
      ]
    },
    {
      "cell_type": "code",
      "execution_count": 29,
      "metadata": {
        "colab": {
          "base_uri": "https://localhost:8080/"
        },
        "id": "ugWF_0UXjM7l",
        "outputId": "ea888bfa-5236-4765-8854-e83f95ab4c3c"
      },
      "outputs": [
        {
          "name": "stdout",
          "output_type": "stream",
          "text": [
            "[[   0    0    0 ... 7637 3390 3490]\n",
            " [   0    0    0 ... 6110  109 2347]\n",
            " [   0    0    0 ... 4429 3958 7310]\n",
            " ...\n",
            " [   0    0    0 ... 7623 6951 9413]\n",
            " [   0    0    0 ... 5533 8962 3770]\n",
            " [   0    0    0 ... 8619 9676 7563]]\n"
          ]
        }
      ],
      "source": [
        "sentence_length = 1500\n",
        "embedded_doc = pad_sequences(one_hot_representation,padding='pre',maxlen=sentence_length)\n",
        "print(embedded_doc)"
      ]
    },
    {
      "cell_type": "code",
      "execution_count": 30,
      "metadata": {
        "id": "BPGPVlwRjSF2"
      },
      "outputs": [],
      "source": [
        "X = np.array(embedded_doc)\n",
        "y = np.array(mf_data5[\"Status\"])"
      ]
    },
    {
      "cell_type": "code",
      "execution_count": 31,
      "metadata": {
        "id": "D_8J6dR7jUVr"
      },
      "outputs": [],
      "source": [
        "from sklearn.model_selection import train_test_split\n",
        "X_train,X_test,y_train,y_test = train_test_split(X,y,test_size=0.30,random_state=42)"
      ]
    },
    {
      "cell_type": "markdown",
      "metadata": {
        "id": "pFwI_IJ0jXu8"
      },
      "source": [
        "# svc"
      ]
    },
    {
      "cell_type": "code",
      "execution_count": 32,
      "metadata": {
        "id": "Ra9ylnrHjWU7"
      },
      "outputs": [],
      "source": [
        "from sklearn.svm import SVC\n",
        "from sklearn.metrics import accuracy_score, precision_score, recall_score, f1_score"
      ]
    },
    {
      "cell_type": "code",
      "execution_count": 33,
      "metadata": {
        "colab": {
          "base_uri": "https://localhost:8080/",
          "height": 75
        },
        "id": "9ItY0WVHjcT7",
        "outputId": "4f0d2e54-c45d-4e35-8e08-2049b5ed082e"
      },
      "outputs": [
        {
          "data": {
            "text/html": [
              "<style>#sk-container-id-1 {color: black;}#sk-container-id-1 pre{padding: 0;}#sk-container-id-1 div.sk-toggleable {background-color: white;}#sk-container-id-1 label.sk-toggleable__label {cursor: pointer;display: block;width: 100%;margin-bottom: 0;padding: 0.3em;box-sizing: border-box;text-align: center;}#sk-container-id-1 label.sk-toggleable__label-arrow:before {content: \"▸\";float: left;margin-right: 0.25em;color: #696969;}#sk-container-id-1 label.sk-toggleable__label-arrow:hover:before {color: black;}#sk-container-id-1 div.sk-estimator:hover label.sk-toggleable__label-arrow:before {color: black;}#sk-container-id-1 div.sk-toggleable__content {max-height: 0;max-width: 0;overflow: hidden;text-align: left;background-color: #f0f8ff;}#sk-container-id-1 div.sk-toggleable__content pre {margin: 0.2em;color: black;border-radius: 0.25em;background-color: #f0f8ff;}#sk-container-id-1 input.sk-toggleable__control:checked~div.sk-toggleable__content {max-height: 200px;max-width: 100%;overflow: auto;}#sk-container-id-1 input.sk-toggleable__control:checked~label.sk-toggleable__label-arrow:before {content: \"▾\";}#sk-container-id-1 div.sk-estimator input.sk-toggleable__control:checked~label.sk-toggleable__label {background-color: #d4ebff;}#sk-container-id-1 div.sk-label input.sk-toggleable__control:checked~label.sk-toggleable__label {background-color: #d4ebff;}#sk-container-id-1 input.sk-hidden--visually {border: 0;clip: rect(1px 1px 1px 1px);clip: rect(1px, 1px, 1px, 1px);height: 1px;margin: -1px;overflow: hidden;padding: 0;position: absolute;width: 1px;}#sk-container-id-1 div.sk-estimator {font-family: monospace;background-color: #f0f8ff;border: 1px dotted black;border-radius: 0.25em;box-sizing: border-box;margin-bottom: 0.5em;}#sk-container-id-1 div.sk-estimator:hover {background-color: #d4ebff;}#sk-container-id-1 div.sk-parallel-item::after {content: \"\";width: 100%;border-bottom: 1px solid gray;flex-grow: 1;}#sk-container-id-1 div.sk-label:hover label.sk-toggleable__label {background-color: #d4ebff;}#sk-container-id-1 div.sk-serial::before {content: \"\";position: absolute;border-left: 1px solid gray;box-sizing: border-box;top: 0;bottom: 0;left: 50%;z-index: 0;}#sk-container-id-1 div.sk-serial {display: flex;flex-direction: column;align-items: center;background-color: white;padding-right: 0.2em;padding-left: 0.2em;position: relative;}#sk-container-id-1 div.sk-item {position: relative;z-index: 1;}#sk-container-id-1 div.sk-parallel {display: flex;align-items: stretch;justify-content: center;background-color: white;position: relative;}#sk-container-id-1 div.sk-item::before, #sk-container-id-1 div.sk-parallel-item::before {content: \"\";position: absolute;border-left: 1px solid gray;box-sizing: border-box;top: 0;bottom: 0;left: 50%;z-index: -1;}#sk-container-id-1 div.sk-parallel-item {display: flex;flex-direction: column;z-index: 1;position: relative;background-color: white;}#sk-container-id-1 div.sk-parallel-item:first-child::after {align-self: flex-end;width: 50%;}#sk-container-id-1 div.sk-parallel-item:last-child::after {align-self: flex-start;width: 50%;}#sk-container-id-1 div.sk-parallel-item:only-child::after {width: 0;}#sk-container-id-1 div.sk-dashed-wrapped {border: 1px dashed gray;margin: 0 0.4em 0.5em 0.4em;box-sizing: border-box;padding-bottom: 0.4em;background-color: white;}#sk-container-id-1 div.sk-label label {font-family: monospace;font-weight: bold;display: inline-block;line-height: 1.2em;}#sk-container-id-1 div.sk-label-container {text-align: center;}#sk-container-id-1 div.sk-container {/* jupyter's `normalize.less` sets `[hidden] { display: none; }` but bootstrap.min.css set `[hidden] { display: none !important; }` so we also need the `!important` here to be able to override the default hidden behavior on the sphinx rendered scikit-learn.org. See: https://github.com/scikit-learn/scikit-learn/issues/21755 */display: inline-block !important;position: relative;}#sk-container-id-1 div.sk-text-repr-fallback {display: none;}</style><div id=\"sk-container-id-1\" class=\"sk-top-container\"><div class=\"sk-text-repr-fallback\"><pre>SVC()</pre><b>In a Jupyter environment, please rerun this cell to show the HTML representation or trust the notebook. <br />On GitHub, the HTML representation is unable to render, please try loading this page with nbviewer.org.</b></div><div class=\"sk-container\" hidden><div class=\"sk-item\"><div class=\"sk-estimator sk-toggleable\"><input class=\"sk-toggleable__control sk-hidden--visually\" id=\"sk-estimator-id-1\" type=\"checkbox\" checked><label for=\"sk-estimator-id-1\" class=\"sk-toggleable__label sk-toggleable__label-arrow\">SVC</label><div class=\"sk-toggleable__content\"><pre>SVC()</pre></div></div></div></div></div>"
            ],
            "text/plain": [
              "SVC()"
            ]
          },
          "execution_count": 33,
          "metadata": {},
          "output_type": "execute_result"
        }
      ],
      "source": [
        "svm_model = SVC(kernel='rbf')\n",
        "svm_model.fit(X_train, y_train)"
      ]
    },
    {
      "cell_type": "code",
      "execution_count": 34,
      "metadata": {
        "id": "iQCZYfPSjeHR"
      },
      "outputs": [],
      "source": [
        "predictions_rbf = svm_model.predict(X_test)\n"
      ]
    },
    {
      "cell_type": "code",
      "execution_count": 48,
      "metadata": {
        "id": "C-Cf7LOFjgF_"
      },
      "outputs": [],
      "source": [
        "accuracy = accuracy_score(y_test, predictions_rbf)\n",
        "precision = precision_score(y_test, predictions_rbf)\n",
        "recall = recall_score(y_test, predictions_rbf)\n",
        "f1 = f1_score(y_test, predictions_rbf)\n"
      ]
    },
    {
      "cell_type": "code",
      "execution_count": 49,
      "metadata": {
        "colab": {
          "base_uri": "https://localhost:8080/"
        },
        "id": "dFvLBHAbjihl",
        "outputId": "9326ba40-2d89-413d-8c98-94bdec9192dc"
      },
      "outputs": [
        {
          "name": "stdout",
          "output_type": "stream",
          "text": [
            "Accuracy: 92.57%\n",
            "Precision: 0.93\n",
            "Recall: 1.00\n",
            "F1 Score: 0.96\n"
          ]
        }
      ],
      "source": [
        "\n",
        "print(f\"Accuracy: {accuracy * 100:.2f}%\")\n",
        "print(f\"Precision: {precision:.2f}\")\n",
        "print(f\"Recall: {recall:.2f}\")\n",
        "print(f\"F1 Score: {f1:.2f}\")"
      ]
    },
    {
      "cell_type": "markdown",
      "metadata": {
        "id": "tyYddAOXjlpq"
      },
      "source": [
        "# LDA"
      ]
    },
    {
      "cell_type": "code",
      "execution_count": 50,
      "metadata": {
        "id": "YDhla9ELjlOe"
      },
      "outputs": [],
      "source": [
        "from sklearn.discriminant_analysis import LinearDiscriminantAnalysis"
      ]
    },
    {
      "cell_type": "code",
      "execution_count": 53,
      "metadata": {
        "id": "eQuO12L1jkKG"
      },
      "outputs": [],
      "source": [
        "lda_model = LinearDiscriminantAnalysis()"
      ]
    },
    {
      "cell_type": "code",
      "execution_count": 54,
      "metadata": {
        "colab": {
          "base_uri": "https://localhost:8080/",
          "height": 75
        },
        "id": "DRVfRFpejtDS",
        "outputId": "56d9e6b8-a1d3-47c7-badd-b2b78db269cd"
      },
      "outputs": [
        {
          "data": {
            "text/html": [
              "<style>#sk-container-id-2 {color: black;background-color: white;}#sk-container-id-2 pre{padding: 0;}#sk-container-id-2 div.sk-toggleable {background-color: white;}#sk-container-id-2 label.sk-toggleable__label {cursor: pointer;display: block;width: 100%;margin-bottom: 0;padding: 0.3em;box-sizing: border-box;text-align: center;}#sk-container-id-2 label.sk-toggleable__label-arrow:before {content: \"▸\";float: left;margin-right: 0.25em;color: #696969;}#sk-container-id-2 label.sk-toggleable__label-arrow:hover:before {color: black;}#sk-container-id-2 div.sk-estimator:hover label.sk-toggleable__label-arrow:before {color: black;}#sk-container-id-2 div.sk-toggleable__content {max-height: 0;max-width: 0;overflow: hidden;text-align: left;background-color: #f0f8ff;}#sk-container-id-2 div.sk-toggleable__content pre {margin: 0.2em;color: black;border-radius: 0.25em;background-color: #f0f8ff;}#sk-container-id-2 input.sk-toggleable__control:checked~div.sk-toggleable__content {max-height: 200px;max-width: 100%;overflow: auto;}#sk-container-id-2 input.sk-toggleable__control:checked~label.sk-toggleable__label-arrow:before {content: \"▾\";}#sk-container-id-2 div.sk-estimator input.sk-toggleable__control:checked~label.sk-toggleable__label {background-color: #d4ebff;}#sk-container-id-2 div.sk-label input.sk-toggleable__control:checked~label.sk-toggleable__label {background-color: #d4ebff;}#sk-container-id-2 input.sk-hidden--visually {border: 0;clip: rect(1px 1px 1px 1px);clip: rect(1px, 1px, 1px, 1px);height: 1px;margin: -1px;overflow: hidden;padding: 0;position: absolute;width: 1px;}#sk-container-id-2 div.sk-estimator {font-family: monospace;background-color: #f0f8ff;border: 1px dotted black;border-radius: 0.25em;box-sizing: border-box;margin-bottom: 0.5em;}#sk-container-id-2 div.sk-estimator:hover {background-color: #d4ebff;}#sk-container-id-2 div.sk-parallel-item::after {content: \"\";width: 100%;border-bottom: 1px solid gray;flex-grow: 1;}#sk-container-id-2 div.sk-label:hover label.sk-toggleable__label {background-color: #d4ebff;}#sk-container-id-2 div.sk-serial::before {content: \"\";position: absolute;border-left: 1px solid gray;box-sizing: border-box;top: 0;bottom: 0;left: 50%;z-index: 0;}#sk-container-id-2 div.sk-serial {display: flex;flex-direction: column;align-items: center;background-color: white;padding-right: 0.2em;padding-left: 0.2em;position: relative;}#sk-container-id-2 div.sk-item {position: relative;z-index: 1;}#sk-container-id-2 div.sk-parallel {display: flex;align-items: stretch;justify-content: center;background-color: white;position: relative;}#sk-container-id-2 div.sk-item::before, #sk-container-id-2 div.sk-parallel-item::before {content: \"\";position: absolute;border-left: 1px solid gray;box-sizing: border-box;top: 0;bottom: 0;left: 50%;z-index: -1;}#sk-container-id-2 div.sk-parallel-item {display: flex;flex-direction: column;z-index: 1;position: relative;background-color: white;}#sk-container-id-2 div.sk-parallel-item:first-child::after {align-self: flex-end;width: 50%;}#sk-container-id-2 div.sk-parallel-item:last-child::after {align-self: flex-start;width: 50%;}#sk-container-id-2 div.sk-parallel-item:only-child::after {width: 0;}#sk-container-id-2 div.sk-dashed-wrapped {border: 1px dashed gray;margin: 0 0.4em 0.5em 0.4em;box-sizing: border-box;padding-bottom: 0.4em;background-color: white;}#sk-container-id-2 div.sk-label label {font-family: monospace;font-weight: bold;display: inline-block;line-height: 1.2em;}#sk-container-id-2 div.sk-label-container {text-align: center;}#sk-container-id-2 div.sk-container {/* jupyter's `normalize.less` sets `[hidden] { display: none; }` but bootstrap.min.css set `[hidden] { display: none !important; }` so we also need the `!important` here to be able to override the default hidden behavior on the sphinx rendered scikit-learn.org. See: https://github.com/scikit-learn/scikit-learn/issues/21755 */display: inline-block !important;position: relative;}#sk-container-id-2 div.sk-text-repr-fallback {display: none;}</style><div id=\"sk-container-id-2\" class=\"sk-top-container\"><div class=\"sk-text-repr-fallback\"><pre>LinearDiscriminantAnalysis()</pre><b>In a Jupyter environment, please rerun this cell to show the HTML representation or trust the notebook. <br />On GitHub, the HTML representation is unable to render, please try loading this page with nbviewer.org.</b></div><div class=\"sk-container\" hidden><div class=\"sk-item\"><div class=\"sk-estimator sk-toggleable\"><input class=\"sk-toggleable__control sk-hidden--visually\" id=\"sk-estimator-id-2\" type=\"checkbox\" checked><label for=\"sk-estimator-id-2\" class=\"sk-toggleable__label sk-toggleable__label-arrow\">LinearDiscriminantAnalysis</label><div class=\"sk-toggleable__content\"><pre>LinearDiscriminantAnalysis()</pre></div></div></div></div></div>"
            ],
            "text/plain": [
              "LinearDiscriminantAnalysis()"
            ]
          },
          "execution_count": 54,
          "metadata": {},
          "output_type": "execute_result"
        }
      ],
      "source": [
        "lda_model.fit(X_train,y_train)"
      ]
    },
    {
      "cell_type": "code",
      "execution_count": 55,
      "metadata": {
        "id": "cohpN6fIJN4d"
      },
      "outputs": [],
      "source": [
        "predictions_lda = lda_model.predict(X_test)"
      ]
    },
    {
      "cell_type": "code",
      "execution_count": 56,
      "metadata": {
        "id": "nlCYs7GzjuUz"
      },
      "outputs": [],
      "source": [
        "accuracy = accuracy_score(y_test, predictions_lda)\n",
        "precision = precision_score(y_test, predictions_lda)\n",
        "recall = recall_score(y_test, predictions_lda)\n",
        "f1 = f1_score(y_test, predictions_lda)"
      ]
    },
    {
      "cell_type": "code",
      "execution_count": 57,
      "metadata": {
        "colab": {
          "base_uri": "https://localhost:8080/"
        },
        "id": "7UjbA56kjv0A",
        "outputId": "07fdd78b-38e1-4bfb-c6a3-5fc007d4db56"
      },
      "outputs": [
        {
          "name": "stdout",
          "output_type": "stream",
          "text": [
            "Accuracy: 91.71%\n",
            "Precision: 0.93\n",
            "Recall: 0.99\n",
            "F1 Score: 0.96\n"
          ]
        }
      ],
      "source": [
        "print(f\"Accuracy: {accuracy * 100:.2f}%\")\n",
        "print(f\"Precision: {precision:.2f}\")\n",
        "print(f\"Recall: {recall:.2f}\")\n",
        "print(f\"F1 Score: {f1:.2f}\")"
      ]
    },
    {
      "cell_type": "markdown",
      "metadata": {},
      "source": [
        "## KNN"
      ]
    },
    {
      "cell_type": "code",
      "execution_count": null,
      "metadata": {},
      "outputs": [],
      "source": [
        "from sklearn.neighbors import KNeighborsClassifier\n",
        "\n",
        "knn_classifier = KNeighborsClassifier(n_neighbors=5)\n",
        "knn_classifier.fit(X_train, y_train)\n",
        "knn_pred = knn_classifier.predict(X_test)\n",
        "\n",
        "accuracy = accuracy_score(y_test, knn_pred)\n",
        "precision = precision_score(y_test, knn_pred)\n",
        "recall = recall_score(y_test, knn_pred)\n",
        "f1 = f1_score(y_test, knn_pred)\n",
        "\n",
        "print(f\"Accuracy: {accuracy * 100:.2f}%\")\n",
        "print(f\"Precision: {precision:.2f}\")\n",
        "print(f\"Recall: {recall:.2f}\")\n",
        "print(f\"F1 Score: {f1:.2f}\")\n"
      ]
    },
    {
      "cell_type": "markdown",
      "metadata": {},
      "source": [
        "## Naive Bayes"
      ]
    },
    {
      "cell_type": "code",
      "execution_count": null,
      "metadata": {},
      "outputs": [],
      "source": [
        "from sklearn.naive_bayes import MultinomialNB\n",
        "nb_classifier = MultinomialNB()\n",
        "nb_classifier.fit(X_train, y_train)\n",
        "nb_pred = nb_classifier.predict(X_test)\n",
        "\n",
        "accuracy = accuracy_score(y_test, nb_pred)\n",
        "precision = precision_score(y_test, nb_pred)\n",
        "recall = recall_score(y_test, nb_pred)\n",
        "f1 = f1_score(y_test, nb_pred)\n",
        "\n",
        "print(f\"Accuracy: {accuracy * 100:.2f}%\")\n",
        "print(f\"Precision: {precision:.2f}\")\n",
        "print(f\"Recall: {recall:.2f}\")\n",
        "print(f\"F1 Score: {f1:.2f}\")\n",
        "\n"
      ]
    },
    {
      "cell_type": "markdown",
      "metadata": {},
      "source": [
        "## XG-Boost"
      ]
    },
    {
      "cell_type": "code",
      "execution_count": null,
      "metadata": {},
      "outputs": [],
      "source": [
        "y_train_mapped = np.where(y_train == -1, 0, y_train)\n",
        "y_test_mapped = np.where(y_test == -1, 0, y_test)\n",
        "xgb_classifier = xgb.XGBClassifier()\n",
        "xgb_classifier.fit(X_train, y_train_mapped)\n",
        "xgb_pred = xgb_classifier.predict(X_test)\n",
        "\n",
        "accuracy = accuracy_score(y_test_mapped, xgb_pred)\n",
        "precision = precision_score(y_test_mapped, xgb_pred)\n",
        "recall = recall_score(y_test_mapped, xgb_pred)\n",
        "f1 = f1_score(y_test_mapped, xgb_pred)\n",
        "\n",
        "print(f\"Accuracy: {accuracy * 100:.2f}%\")\n",
        "print(f\"Precision: {precision:.2f}\")\n",
        "print(f\"Recall: {recall:.2f}\")\n",
        "print(f\"F1 Score: {f1:.2f}\")\n"
      ]
    }
  ],
  "metadata": {
    "colab": {
      "provenance": []
    },
    "kernelspec": {
      "display_name": "GPU Kernel",
      "language": "python",
      "name": "gpu_kernel"
    },
    "language_info": {
      "codemirror_mode": {
        "name": "ipython",
        "version": 3
      },
      "file_extension": ".py",
      "mimetype": "text/x-python",
      "name": "python",
      "nbconvert_exporter": "python",
      "pygments_lexer": "ipython3",
      "version": "3.11.5"
    }
  },
  "nbformat": 4,
  "nbformat_minor": 0
}
