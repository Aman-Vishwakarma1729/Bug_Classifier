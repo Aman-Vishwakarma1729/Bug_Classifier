{
  "cells": [
    {
      "cell_type": "markdown",
      "metadata": {
        "id": "tydj3l32t2sD"
      },
      "source": [
        "# Eclipse Platform Bugg Classification:"
      ]
    },
    {
      "cell_type": "code",
      "execution_count": 2,
      "metadata": {
        "id": "7bmAxuIdsuGk"
      },
      "outputs": [],
      "source": [
        "## Importing some basic required libraries\n",
        "\n",
        "import pandas as pd\n",
        "import numpy as np\n",
        "import matplotlib.pyplot as plt\n",
        "import seaborn as sns\n",
        "import warnings\n",
        "warnings.filterwarnings(\"ignore\")"
      ]
    },
    {
      "cell_type": "code",
      "execution_count": 4,
      "metadata": {
        "id": "BVzfV4AlulrT"
      },
      "outputs": [],
      "source": [
        "ep_data1 = pd.read_csv(\"D:\\External_Projects\\Kaushiki_Mishra\\Data and Code\\eclipse_platform.csv\")"
      ]
    },
    {
      "cell_type": "code",
      "execution_count": 5,
      "metadata": {
        "colab": {
          "base_uri": "https://localhost:8080/",
          "height": 614
        },
        "id": "FaUNKjPBut2q",
        "outputId": "50a9e99d-5ae3-4c3f-8e53-2be7aba66a1f"
      },
      "outputs": [
        {
          "data": {
            "text/html": [
              "<div>\n",
              "<style scoped>\n",
              "    .dataframe tbody tr th:only-of-type {\n",
              "        vertical-align: middle;\n",
              "    }\n",
              "\n",
              "    .dataframe tbody tr th {\n",
              "        vertical-align: top;\n",
              "    }\n",
              "\n",
              "    .dataframe thead th {\n",
              "        text-align: right;\n",
              "    }\n",
              "</style>\n",
              "<table border=\"1\" class=\"dataframe\">\n",
              "  <thead>\n",
              "    <tr style=\"text-align: right;\">\n",
              "      <th></th>\n",
              "      <th>Issue_id</th>\n",
              "      <th>Priority</th>\n",
              "      <th>Component</th>\n",
              "      <th>Duplicated_issue</th>\n",
              "      <th>Title</th>\n",
              "      <th>Description</th>\n",
              "      <th>Status</th>\n",
              "      <th>Resolution</th>\n",
              "      <th>Version</th>\n",
              "      <th>Created_time</th>\n",
              "      <th>Resolved_time</th>\n",
              "    </tr>\n",
              "  </thead>\n",
              "  <tbody>\n",
              "    <tr>\n",
              "      <th>0</th>\n",
              "      <td>1</td>\n",
              "      <td>P3</td>\n",
              "      <td>Team</td>\n",
              "      <td>NaN</td>\n",
              "      <td>Usability issue with external editors (1GE6IRL)</td>\n",
              "      <td>- Setup a project that contains a *.gif resour...</td>\n",
              "      <td>CLOSED</td>\n",
              "      <td>FIXED</td>\n",
              "      <td>2.0</td>\n",
              "      <td>2001-10-10 21:34:00 -0400</td>\n",
              "      <td>2012-02-09 15:57:47 -0500</td>\n",
              "    </tr>\n",
              "    <tr>\n",
              "      <th>1</th>\n",
              "      <td>2</td>\n",
              "      <td>P5</td>\n",
              "      <td>Team</td>\n",
              "      <td>NaN</td>\n",
              "      <td>Opening repository resources doesnt honor type...</td>\n",
              "      <td>Opening repository resource always open the de...</td>\n",
              "      <td>RESOLVED</td>\n",
              "      <td>FIXED</td>\n",
              "      <td>2.0</td>\n",
              "      <td>2001-10-10 21:34:00 -0400</td>\n",
              "      <td>2002-05-07 10:33:56 -0400</td>\n",
              "    </tr>\n",
              "    <tr>\n",
              "      <th>2</th>\n",
              "      <td>3</td>\n",
              "      <td>P5</td>\n",
              "      <td>Team</td>\n",
              "      <td>NaN</td>\n",
              "      <td>Sync does not indicate deletion (1GIEN83)</td>\n",
              "      <td>KM (10/2/2001 5:55:18 PM); \\tThis PR about the...</td>\n",
              "      <td>RESOLVED</td>\n",
              "      <td>FIXED</td>\n",
              "      <td>2.0</td>\n",
              "      <td>2001-10-10 21:34:00 -0400</td>\n",
              "      <td>2010-05-07 10:28:53 -0400</td>\n",
              "    </tr>\n",
              "    <tr>\n",
              "      <th>3</th>\n",
              "      <td>4</td>\n",
              "      <td>P5</td>\n",
              "      <td>Team</td>\n",
              "      <td>NaN</td>\n",
              "      <td>need better error message if catching up over ...</td>\n",
              "      <td>- become synchronized with some project in a r...</td>\n",
              "      <td>RESOLVED</td>\n",
              "      <td>FIXED</td>\n",
              "      <td>2.0</td>\n",
              "      <td>2001-10-10 21:34:00 -0400</td>\n",
              "      <td>2002-03-01 16:27:31 -0500</td>\n",
              "    </tr>\n",
              "    <tr>\n",
              "      <th>4</th>\n",
              "      <td>5</td>\n",
              "      <td>P3</td>\n",
              "      <td>Team</td>\n",
              "      <td>NaN</td>\n",
              "      <td>ISharingManager sharing API inconsistent (1GAU...</td>\n",
              "      <td>For getting/setting the managed state of a res...</td>\n",
              "      <td>RESOLVED</td>\n",
              "      <td>WONTFIX</td>\n",
              "      <td>2.0</td>\n",
              "      <td>2001-10-10 21:34:00 -0400</td>\n",
              "      <td>2008-08-15 08:04:36 -0400</td>\n",
              "    </tr>\n",
              "    <tr>\n",
              "      <th>...</th>\n",
              "      <td>...</td>\n",
              "      <td>...</td>\n",
              "      <td>...</td>\n",
              "      <td>...</td>\n",
              "      <td>...</td>\n",
              "      <td>...</td>\n",
              "      <td>...</td>\n",
              "      <td>...</td>\n",
              "      <td>...</td>\n",
              "      <td>...</td>\n",
              "      <td>...</td>\n",
              "    </tr>\n",
              "    <tr>\n",
              "      <th>85151</th>\n",
              "      <td>424679</td>\n",
              "      <td>P3</td>\n",
              "      <td>IDE</td>\n",
              "      <td>390071.0</td>\n",
              "      <td>Crash on bootstarp</td>\n",
              "      <td>NaN</td>\n",
              "      <td>CLOSED</td>\n",
              "      <td>DUPLICATE</td>\n",
              "      <td>4.3</td>\n",
              "      <td>2013-12-26 20:12:00 -0500</td>\n",
              "      <td>2013-12-31 05:32:07 -0500</td>\n",
              "    </tr>\n",
              "    <tr>\n",
              "      <th>85152</th>\n",
              "      <td>424714</td>\n",
              "      <td>P3</td>\n",
              "      <td>UI</td>\n",
              "      <td>NaN</td>\n",
              "      <td>[GTK/Linux] Blank Windows with GTK3</td>\n",
              "      <td>I started testing 4.4 and noticed the editor w...</td>\n",
              "      <td>CLOSED</td>\n",
              "      <td>NDUPLICATE</td>\n",
              "      <td>4.4</td>\n",
              "      <td>2013-12-28 08:57:00 -0500</td>\n",
              "      <td>2014-01-04 13:54:33 -0500</td>\n",
              "    </tr>\n",
              "    <tr>\n",
              "      <th>85153</th>\n",
              "      <td>424722</td>\n",
              "      <td>P3</td>\n",
              "      <td>Website</td>\n",
              "      <td>NaN</td>\n",
              "      <td>software</td>\n",
              "      <td>NaN</td>\n",
              "      <td>RESOLVED</td>\n",
              "      <td>INVALID</td>\n",
              "      <td>4.3.1</td>\n",
              "      <td>2013-12-29 03:57:00 -0500</td>\n",
              "      <td>2014-01-07 08:47:24 -0500</td>\n",
              "    </tr>\n",
              "    <tr>\n",
              "      <th>85154</th>\n",
              "      <td>424764</td>\n",
              "      <td>P3</td>\n",
              "      <td>SWT</td>\n",
              "      <td>NaN</td>\n",
              "      <td>Crash (MacOS) - getIvar</td>\n",
              "      <td>Process:         eclipse [42412]; Path:       ...</td>\n",
              "      <td>CLOSED</td>\n",
              "      <td>NDUPLICATE</td>\n",
              "      <td>4.4</td>\n",
              "      <td>2013-12-30 16:43:00 -0500</td>\n",
              "      <td>2013-12-31 04:35:42 -0500</td>\n",
              "    </tr>\n",
              "    <tr>\n",
              "      <th>85155</th>\n",
              "      <td>424767</td>\n",
              "      <td>P3</td>\n",
              "      <td>IDE</td>\n",
              "      <td>NaN</td>\n",
              "      <td>eclipse</td>\n",
              "      <td>NaN</td>\n",
              "      <td>CLOSED</td>\n",
              "      <td>INVALID</td>\n",
              "      <td>3.2.2</td>\n",
              "      <td>2013-12-30 18:05:00 -0500</td>\n",
              "      <td>2013-12-31 04:21:29 -0500</td>\n",
              "    </tr>\n",
              "  </tbody>\n",
              "</table>\n",
              "<p>85156 rows × 11 columns</p>\n",
              "</div>"
            ],
            "text/plain": [
              "       Issue_id Priority Component  Duplicated_issue  \\\n",
              "0             1       P3      Team               NaN   \n",
              "1             2       P5      Team               NaN   \n",
              "2             3       P5      Team               NaN   \n",
              "3             4       P5      Team               NaN   \n",
              "4             5       P3      Team               NaN   \n",
              "...         ...      ...       ...               ...   \n",
              "85151    424679       P3       IDE          390071.0   \n",
              "85152    424714       P3        UI               NaN   \n",
              "85153    424722       P3   Website               NaN   \n",
              "85154    424764       P3       SWT               NaN   \n",
              "85155    424767       P3       IDE               NaN   \n",
              "\n",
              "                                                   Title  \\\n",
              "0        Usability issue with external editors (1GE6IRL)   \n",
              "1      Opening repository resources doesnt honor type...   \n",
              "2              Sync does not indicate deletion (1GIEN83)   \n",
              "3      need better error message if catching up over ...   \n",
              "4      ISharingManager sharing API inconsistent (1GAU...   \n",
              "...                                                  ...   \n",
              "85151                                 Crash on bootstarp   \n",
              "85152                [GTK/Linux] Blank Windows with GTK3   \n",
              "85153                                           software   \n",
              "85154                            Crash (MacOS) - getIvar   \n",
              "85155                                            eclipse   \n",
              "\n",
              "                                             Description    Status  \\\n",
              "0      - Setup a project that contains a *.gif resour...    CLOSED   \n",
              "1      Opening repository resource always open the de...  RESOLVED   \n",
              "2      KM (10/2/2001 5:55:18 PM); \\tThis PR about the...  RESOLVED   \n",
              "3      - become synchronized with some project in a r...  RESOLVED   \n",
              "4      For getting/setting the managed state of a res...  RESOLVED   \n",
              "...                                                  ...       ...   \n",
              "85151                                                NaN    CLOSED   \n",
              "85152  I started testing 4.4 and noticed the editor w...    CLOSED   \n",
              "85153                                                NaN  RESOLVED   \n",
              "85154  Process:         eclipse [42412]; Path:       ...    CLOSED   \n",
              "85155                                                NaN    CLOSED   \n",
              "\n",
              "       Resolution Version               Created_time  \\\n",
              "0           FIXED     2.0  2001-10-10 21:34:00 -0400   \n",
              "1           FIXED     2.0  2001-10-10 21:34:00 -0400   \n",
              "2           FIXED     2.0  2001-10-10 21:34:00 -0400   \n",
              "3           FIXED     2.0  2001-10-10 21:34:00 -0400   \n",
              "4         WONTFIX     2.0  2001-10-10 21:34:00 -0400   \n",
              "...           ...     ...                        ...   \n",
              "85151   DUPLICATE     4.3  2013-12-26 20:12:00 -0500   \n",
              "85152  NDUPLICATE     4.4  2013-12-28 08:57:00 -0500   \n",
              "85153     INVALID   4.3.1  2013-12-29 03:57:00 -0500   \n",
              "85154  NDUPLICATE     4.4  2013-12-30 16:43:00 -0500   \n",
              "85155     INVALID   3.2.2  2013-12-30 18:05:00 -0500   \n",
              "\n",
              "                   Resolved_time  \n",
              "0      2012-02-09 15:57:47 -0500  \n",
              "1      2002-05-07 10:33:56 -0400  \n",
              "2      2010-05-07 10:28:53 -0400  \n",
              "3      2002-03-01 16:27:31 -0500  \n",
              "4      2008-08-15 08:04:36 -0400  \n",
              "...                          ...  \n",
              "85151  2013-12-31 05:32:07 -0500  \n",
              "85152  2014-01-04 13:54:33 -0500  \n",
              "85153  2014-01-07 08:47:24 -0500  \n",
              "85154  2013-12-31 04:35:42 -0500  \n",
              "85155  2013-12-31 04:21:29 -0500  \n",
              "\n",
              "[85156 rows x 11 columns]"
            ]
          },
          "execution_count": 5,
          "metadata": {},
          "output_type": "execute_result"
        }
      ],
      "source": [
        "ep_data1"
      ]
    },
    {
      "cell_type": "code",
      "execution_count": 6,
      "metadata": {
        "colab": {
          "base_uri": "https://localhost:8080/"
        },
        "id": "cHf5t6XEvE-z",
        "outputId": "a817f3a6-afb7-4c0b-dde4-fc0b7e19d4ea"
      },
      "outputs": [
        {
          "data": {
            "text/plain": [
              "(85156, 11)"
            ]
          },
          "execution_count": 6,
          "metadata": {},
          "output_type": "execute_result"
        }
      ],
      "source": [
        "ep_data1.shape"
      ]
    },
    {
      "cell_type": "code",
      "execution_count": 7,
      "metadata": {
        "colab": {
          "base_uri": "https://localhost:8080/"
        },
        "id": "v6P945DAux8L",
        "outputId": "9e29f711-6ec4-4444-8200-027e8b9d57c6"
      },
      "outputs": [
        {
          "data": {
            "text/plain": [
              "Issue_id                0\n",
              "Priority                0\n",
              "Component               0\n",
              "Duplicated_issue    70752\n",
              "Title                   0\n",
              "Description           129\n",
              "Status                  0\n",
              "Resolution              0\n",
              "Version                 0\n",
              "Created_time            0\n",
              "Resolved_time           0\n",
              "dtype: int64"
            ]
          },
          "execution_count": 7,
          "metadata": {},
          "output_type": "execute_result"
        }
      ],
      "source": [
        "ep_data1.isna().sum()"
      ]
    },
    {
      "cell_type": "code",
      "execution_count": 8,
      "metadata": {
        "id": "Rda2ze7CvDcN"
      },
      "outputs": [],
      "source": [
        "ep_data2 = ep_data1.drop(columns=[\"Duplicated_issue\"])"
      ]
    },
    {
      "cell_type": "code",
      "execution_count": 9,
      "metadata": {
        "colab": {
          "base_uri": "https://localhost:8080/"
        },
        "id": "1Ixf6is_vb-K",
        "outputId": "fe26e8a8-b62a-4f7f-8829-357cb4b4098a"
      },
      "outputs": [
        {
          "data": {
            "text/plain": [
              "(85156, 10)"
            ]
          },
          "execution_count": 9,
          "metadata": {},
          "output_type": "execute_result"
        }
      ],
      "source": [
        "ep_data2.shape"
      ]
    },
    {
      "cell_type": "code",
      "execution_count": 10,
      "metadata": {
        "colab": {
          "base_uri": "https://localhost:8080/"
        },
        "id": "Sa37rpnvvfPZ",
        "outputId": "4c557e47-8411-4778-8ba1-ea994569a243"
      },
      "outputs": [
        {
          "data": {
            "text/plain": [
              "Issue_id           0\n",
              "Priority           0\n",
              "Component          0\n",
              "Title              0\n",
              "Description      129\n",
              "Status             0\n",
              "Resolution         0\n",
              "Version            0\n",
              "Created_time       0\n",
              "Resolved_time      0\n",
              "dtype: int64"
            ]
          },
          "execution_count": 10,
          "metadata": {},
          "output_type": "execute_result"
        }
      ],
      "source": [
        "ep_data2.isna().sum()"
      ]
    },
    {
      "cell_type": "code",
      "execution_count": 11,
      "metadata": {
        "id": "2SKETwGwviv7"
      },
      "outputs": [],
      "source": [
        "ep_data3 = ep_data2.dropna()"
      ]
    },
    {
      "cell_type": "code",
      "execution_count": 12,
      "metadata": {
        "colab": {
          "base_uri": "https://localhost:8080/"
        },
        "id": "SEv5UFervsiG",
        "outputId": "50225199-e44a-409c-a4ac-53d5dbe3877d"
      },
      "outputs": [
        {
          "data": {
            "text/plain": [
              "Issue_id         0\n",
              "Priority         0\n",
              "Component        0\n",
              "Title            0\n",
              "Description      0\n",
              "Status           0\n",
              "Resolution       0\n",
              "Version          0\n",
              "Created_time     0\n",
              "Resolved_time    0\n",
              "dtype: int64"
            ]
          },
          "execution_count": 12,
          "metadata": {},
          "output_type": "execute_result"
        }
      ],
      "source": [
        "ep_data3.isna().sum()"
      ]
    },
    {
      "cell_type": "code",
      "execution_count": 13,
      "metadata": {
        "colab": {
          "base_uri": "https://localhost:8080/"
        },
        "id": "9Lb2rPP4vvqG",
        "outputId": "2831e2b4-f149-4f10-9e4c-90f93ba9ff7f"
      },
      "outputs": [
        {
          "data": {
            "text/plain": [
              "(85027, 10)"
            ]
          },
          "execution_count": 13,
          "metadata": {},
          "output_type": "execute_result"
        }
      ],
      "source": [
        "ep_data3.shape"
      ]
    },
    {
      "cell_type": "code",
      "execution_count": 14,
      "metadata": {
        "id": "FDK71spLvyya"
      },
      "outputs": [],
      "source": [
        "ep_data4 = ep_data3.reset_index(drop=True)"
      ]
    },
    {
      "cell_type": "code",
      "execution_count": 15,
      "metadata": {
        "colab": {
          "base_uri": "https://localhost:8080/",
          "height": 597
        },
        "id": "7nnzKqtDv_Fp",
        "outputId": "5bac684f-5339-426b-a060-34aedbec34c5"
      },
      "outputs": [
        {
          "data": {
            "text/html": [
              "<div>\n",
              "<style scoped>\n",
              "    .dataframe tbody tr th:only-of-type {\n",
              "        vertical-align: middle;\n",
              "    }\n",
              "\n",
              "    .dataframe tbody tr th {\n",
              "        vertical-align: top;\n",
              "    }\n",
              "\n",
              "    .dataframe thead th {\n",
              "        text-align: right;\n",
              "    }\n",
              "</style>\n",
              "<table border=\"1\" class=\"dataframe\">\n",
              "  <thead>\n",
              "    <tr style=\"text-align: right;\">\n",
              "      <th></th>\n",
              "      <th>Issue_id</th>\n",
              "      <th>Priority</th>\n",
              "      <th>Component</th>\n",
              "      <th>Title</th>\n",
              "      <th>Description</th>\n",
              "      <th>Status</th>\n",
              "      <th>Resolution</th>\n",
              "      <th>Version</th>\n",
              "      <th>Created_time</th>\n",
              "      <th>Resolved_time</th>\n",
              "    </tr>\n",
              "  </thead>\n",
              "  <tbody>\n",
              "    <tr>\n",
              "      <th>0</th>\n",
              "      <td>1</td>\n",
              "      <td>P3</td>\n",
              "      <td>Team</td>\n",
              "      <td>Usability issue with external editors (1GE6IRL)</td>\n",
              "      <td>- Setup a project that contains a *.gif resour...</td>\n",
              "      <td>CLOSED</td>\n",
              "      <td>FIXED</td>\n",
              "      <td>2.0</td>\n",
              "      <td>2001-10-10 21:34:00 -0400</td>\n",
              "      <td>2012-02-09 15:57:47 -0500</td>\n",
              "    </tr>\n",
              "    <tr>\n",
              "      <th>1</th>\n",
              "      <td>2</td>\n",
              "      <td>P5</td>\n",
              "      <td>Team</td>\n",
              "      <td>Opening repository resources doesnt honor type...</td>\n",
              "      <td>Opening repository resource always open the de...</td>\n",
              "      <td>RESOLVED</td>\n",
              "      <td>FIXED</td>\n",
              "      <td>2.0</td>\n",
              "      <td>2001-10-10 21:34:00 -0400</td>\n",
              "      <td>2002-05-07 10:33:56 -0400</td>\n",
              "    </tr>\n",
              "    <tr>\n",
              "      <th>2</th>\n",
              "      <td>3</td>\n",
              "      <td>P5</td>\n",
              "      <td>Team</td>\n",
              "      <td>Sync does not indicate deletion (1GIEN83)</td>\n",
              "      <td>KM (10/2/2001 5:55:18 PM); \\tThis PR about the...</td>\n",
              "      <td>RESOLVED</td>\n",
              "      <td>FIXED</td>\n",
              "      <td>2.0</td>\n",
              "      <td>2001-10-10 21:34:00 -0400</td>\n",
              "      <td>2010-05-07 10:28:53 -0400</td>\n",
              "    </tr>\n",
              "    <tr>\n",
              "      <th>3</th>\n",
              "      <td>4</td>\n",
              "      <td>P5</td>\n",
              "      <td>Team</td>\n",
              "      <td>need better error message if catching up over ...</td>\n",
              "      <td>- become synchronized with some project in a r...</td>\n",
              "      <td>RESOLVED</td>\n",
              "      <td>FIXED</td>\n",
              "      <td>2.0</td>\n",
              "      <td>2001-10-10 21:34:00 -0400</td>\n",
              "      <td>2002-03-01 16:27:31 -0500</td>\n",
              "    </tr>\n",
              "    <tr>\n",
              "      <th>4</th>\n",
              "      <td>5</td>\n",
              "      <td>P3</td>\n",
              "      <td>Team</td>\n",
              "      <td>ISharingManager sharing API inconsistent (1GAU...</td>\n",
              "      <td>For getting/setting the managed state of a res...</td>\n",
              "      <td>RESOLVED</td>\n",
              "      <td>WONTFIX</td>\n",
              "      <td>2.0</td>\n",
              "      <td>2001-10-10 21:34:00 -0400</td>\n",
              "      <td>2008-08-15 08:04:36 -0400</td>\n",
              "    </tr>\n",
              "    <tr>\n",
              "      <th>...</th>\n",
              "      <td>...</td>\n",
              "      <td>...</td>\n",
              "      <td>...</td>\n",
              "      <td>...</td>\n",
              "      <td>...</td>\n",
              "      <td>...</td>\n",
              "      <td>...</td>\n",
              "      <td>...</td>\n",
              "      <td>...</td>\n",
              "      <td>...</td>\n",
              "    </tr>\n",
              "    <tr>\n",
              "      <th>85022</th>\n",
              "      <td>424658</td>\n",
              "      <td>P3</td>\n",
              "      <td>SWT</td>\n",
              "      <td>Eclipse Kepler Often Crash On Ubuntu 13.04 and...</td>\n",
              "      <td>Eclipse Kepler often crash on ubuntu 13.04 and...</td>\n",
              "      <td>RESOLVED</td>\n",
              "      <td>NDUPLICATE</td>\n",
              "      <td>4.3.1</td>\n",
              "      <td>2013-12-26 04:06:00 -0500</td>\n",
              "      <td>2014-01-03 21:42:20 -0500</td>\n",
              "    </tr>\n",
              "    <tr>\n",
              "      <th>85023</th>\n",
              "      <td>424671</td>\n",
              "      <td>P3</td>\n",
              "      <td>IDE</td>\n",
              "      <td>Eclipse crashes on startup</td>\n",
              "      <td>Created attachment 238574; /workspace/.metadat...</td>\n",
              "      <td>CLOSED</td>\n",
              "      <td>DUPLICATE</td>\n",
              "      <td>4.4</td>\n",
              "      <td>2013-12-26 12:22:00 -0500</td>\n",
              "      <td>2013-12-31 05:54:48 -0500</td>\n",
              "    </tr>\n",
              "    <tr>\n",
              "      <th>85024</th>\n",
              "      <td>424672</td>\n",
              "      <td>P3</td>\n",
              "      <td>UI</td>\n",
              "      <td>Menu Bar does not display</td>\n",
              "      <td>when i click on one of the buttons on the menu...</td>\n",
              "      <td>CLOSED</td>\n",
              "      <td>NDUPLICATE</td>\n",
              "      <td>4.3</td>\n",
              "      <td>2013-12-26 12:32:00 -0500</td>\n",
              "      <td>2014-01-27 09:20:08 -0500</td>\n",
              "    </tr>\n",
              "    <tr>\n",
              "      <th>85025</th>\n",
              "      <td>424714</td>\n",
              "      <td>P3</td>\n",
              "      <td>UI</td>\n",
              "      <td>[GTK/Linux] Blank Windows with GTK3</td>\n",
              "      <td>I started testing 4.4 and noticed the editor w...</td>\n",
              "      <td>CLOSED</td>\n",
              "      <td>NDUPLICATE</td>\n",
              "      <td>4.4</td>\n",
              "      <td>2013-12-28 08:57:00 -0500</td>\n",
              "      <td>2014-01-04 13:54:33 -0500</td>\n",
              "    </tr>\n",
              "    <tr>\n",
              "      <th>85026</th>\n",
              "      <td>424764</td>\n",
              "      <td>P3</td>\n",
              "      <td>SWT</td>\n",
              "      <td>Crash (MacOS) - getIvar</td>\n",
              "      <td>Process:         eclipse [42412]; Path:       ...</td>\n",
              "      <td>CLOSED</td>\n",
              "      <td>NDUPLICATE</td>\n",
              "      <td>4.4</td>\n",
              "      <td>2013-12-30 16:43:00 -0500</td>\n",
              "      <td>2013-12-31 04:35:42 -0500</td>\n",
              "    </tr>\n",
              "  </tbody>\n",
              "</table>\n",
              "<p>85027 rows × 10 columns</p>\n",
              "</div>"
            ],
            "text/plain": [
              "       Issue_id Priority Component  \\\n",
              "0             1       P3      Team   \n",
              "1             2       P5      Team   \n",
              "2             3       P5      Team   \n",
              "3             4       P5      Team   \n",
              "4             5       P3      Team   \n",
              "...         ...      ...       ...   \n",
              "85022    424658       P3       SWT   \n",
              "85023    424671       P3       IDE   \n",
              "85024    424672       P3        UI   \n",
              "85025    424714       P3        UI   \n",
              "85026    424764       P3       SWT   \n",
              "\n",
              "                                                   Title  \\\n",
              "0        Usability issue with external editors (1GE6IRL)   \n",
              "1      Opening repository resources doesnt honor type...   \n",
              "2              Sync does not indicate deletion (1GIEN83)   \n",
              "3      need better error message if catching up over ...   \n",
              "4      ISharingManager sharing API inconsistent (1GAU...   \n",
              "...                                                  ...   \n",
              "85022  Eclipse Kepler Often Crash On Ubuntu 13.04 and...   \n",
              "85023                         Eclipse crashes on startup   \n",
              "85024                          Menu Bar does not display   \n",
              "85025                [GTK/Linux] Blank Windows with GTK3   \n",
              "85026                            Crash (MacOS) - getIvar   \n",
              "\n",
              "                                             Description    Status  \\\n",
              "0      - Setup a project that contains a *.gif resour...    CLOSED   \n",
              "1      Opening repository resource always open the de...  RESOLVED   \n",
              "2      KM (10/2/2001 5:55:18 PM); \\tThis PR about the...  RESOLVED   \n",
              "3      - become synchronized with some project in a r...  RESOLVED   \n",
              "4      For getting/setting the managed state of a res...  RESOLVED   \n",
              "...                                                  ...       ...   \n",
              "85022  Eclipse Kepler often crash on ubuntu 13.04 and...  RESOLVED   \n",
              "85023  Created attachment 238574; /workspace/.metadat...    CLOSED   \n",
              "85024  when i click on one of the buttons on the menu...    CLOSED   \n",
              "85025  I started testing 4.4 and noticed the editor w...    CLOSED   \n",
              "85026  Process:         eclipse [42412]; Path:       ...    CLOSED   \n",
              "\n",
              "       Resolution Version               Created_time  \\\n",
              "0           FIXED     2.0  2001-10-10 21:34:00 -0400   \n",
              "1           FIXED     2.0  2001-10-10 21:34:00 -0400   \n",
              "2           FIXED     2.0  2001-10-10 21:34:00 -0400   \n",
              "3           FIXED     2.0  2001-10-10 21:34:00 -0400   \n",
              "4         WONTFIX     2.0  2001-10-10 21:34:00 -0400   \n",
              "...           ...     ...                        ...   \n",
              "85022  NDUPLICATE   4.3.1  2013-12-26 04:06:00 -0500   \n",
              "85023   DUPLICATE     4.4  2013-12-26 12:22:00 -0500   \n",
              "85024  NDUPLICATE     4.3  2013-12-26 12:32:00 -0500   \n",
              "85025  NDUPLICATE     4.4  2013-12-28 08:57:00 -0500   \n",
              "85026  NDUPLICATE     4.4  2013-12-30 16:43:00 -0500   \n",
              "\n",
              "                   Resolved_time  \n",
              "0      2012-02-09 15:57:47 -0500  \n",
              "1      2002-05-07 10:33:56 -0400  \n",
              "2      2010-05-07 10:28:53 -0400  \n",
              "3      2002-03-01 16:27:31 -0500  \n",
              "4      2008-08-15 08:04:36 -0400  \n",
              "...                          ...  \n",
              "85022  2014-01-03 21:42:20 -0500  \n",
              "85023  2013-12-31 05:54:48 -0500  \n",
              "85024  2014-01-27 09:20:08 -0500  \n",
              "85025  2014-01-04 13:54:33 -0500  \n",
              "85026  2013-12-31 04:35:42 -0500  \n",
              "\n",
              "[85027 rows x 10 columns]"
            ]
          },
          "execution_count": 15,
          "metadata": {},
          "output_type": "execute_result"
        }
      ],
      "source": [
        "ep_data4"
      ]
    },
    {
      "cell_type": "code",
      "execution_count": 16,
      "metadata": {
        "colab": {
          "base_uri": "https://localhost:8080/"
        },
        "id": "KoqWkqbav-di",
        "outputId": "be8e6b1c-db8e-43d7-fcf8-45cbd71fe802"
      },
      "outputs": [
        {
          "data": {
            "text/plain": [
              "Index(['Issue_id', 'Priority', 'Component', 'Title', 'Description', 'Status',\n",
              "       'Resolution', 'Version', 'Created_time', 'Resolved_time'],\n",
              "      dtype='object')"
            ]
          },
          "execution_count": 16,
          "metadata": {},
          "output_type": "execute_result"
        }
      ],
      "source": [
        "ep_data4.columns"
      ]
    },
    {
      "cell_type": "code",
      "execution_count": 17,
      "metadata": {
        "id": "oiAGFYb9v-Af"
      },
      "outputs": [],
      "source": [
        "ep_data5 = ep_data4.drop(columns=[\"Issue_id\",\"Created_time\", \"Resolved_time\"])"
      ]
    },
    {
      "cell_type": "code",
      "execution_count": 18,
      "metadata": {
        "colab": {
          "base_uri": "https://localhost:8080/",
          "height": 423
        },
        "id": "dJqSoiChwY6s",
        "outputId": "4dbc8228-5781-441d-e59d-da8b210521aa"
      },
      "outputs": [
        {
          "data": {
            "text/html": [
              "<div>\n",
              "<style scoped>\n",
              "    .dataframe tbody tr th:only-of-type {\n",
              "        vertical-align: middle;\n",
              "    }\n",
              "\n",
              "    .dataframe tbody tr th {\n",
              "        vertical-align: top;\n",
              "    }\n",
              "\n",
              "    .dataframe thead th {\n",
              "        text-align: right;\n",
              "    }\n",
              "</style>\n",
              "<table border=\"1\" class=\"dataframe\">\n",
              "  <thead>\n",
              "    <tr style=\"text-align: right;\">\n",
              "      <th></th>\n",
              "      <th>Priority</th>\n",
              "      <th>Component</th>\n",
              "      <th>Title</th>\n",
              "      <th>Description</th>\n",
              "      <th>Status</th>\n",
              "      <th>Resolution</th>\n",
              "      <th>Version</th>\n",
              "    </tr>\n",
              "  </thead>\n",
              "  <tbody>\n",
              "    <tr>\n",
              "      <th>0</th>\n",
              "      <td>P3</td>\n",
              "      <td>Team</td>\n",
              "      <td>Usability issue with external editors (1GE6IRL)</td>\n",
              "      <td>- Setup a project that contains a *.gif resour...</td>\n",
              "      <td>CLOSED</td>\n",
              "      <td>FIXED</td>\n",
              "      <td>2.0</td>\n",
              "    </tr>\n",
              "    <tr>\n",
              "      <th>1</th>\n",
              "      <td>P5</td>\n",
              "      <td>Team</td>\n",
              "      <td>Opening repository resources doesnt honor type...</td>\n",
              "      <td>Opening repository resource always open the de...</td>\n",
              "      <td>RESOLVED</td>\n",
              "      <td>FIXED</td>\n",
              "      <td>2.0</td>\n",
              "    </tr>\n",
              "    <tr>\n",
              "      <th>2</th>\n",
              "      <td>P5</td>\n",
              "      <td>Team</td>\n",
              "      <td>Sync does not indicate deletion (1GIEN83)</td>\n",
              "      <td>KM (10/2/2001 5:55:18 PM); \\tThis PR about the...</td>\n",
              "      <td>RESOLVED</td>\n",
              "      <td>FIXED</td>\n",
              "      <td>2.0</td>\n",
              "    </tr>\n",
              "    <tr>\n",
              "      <th>3</th>\n",
              "      <td>P5</td>\n",
              "      <td>Team</td>\n",
              "      <td>need better error message if catching up over ...</td>\n",
              "      <td>- become synchronized with some project in a r...</td>\n",
              "      <td>RESOLVED</td>\n",
              "      <td>FIXED</td>\n",
              "      <td>2.0</td>\n",
              "    </tr>\n",
              "    <tr>\n",
              "      <th>4</th>\n",
              "      <td>P3</td>\n",
              "      <td>Team</td>\n",
              "      <td>ISharingManager sharing API inconsistent (1GAU...</td>\n",
              "      <td>For getting/setting the managed state of a res...</td>\n",
              "      <td>RESOLVED</td>\n",
              "      <td>WONTFIX</td>\n",
              "      <td>2.0</td>\n",
              "    </tr>\n",
              "    <tr>\n",
              "      <th>...</th>\n",
              "      <td>...</td>\n",
              "      <td>...</td>\n",
              "      <td>...</td>\n",
              "      <td>...</td>\n",
              "      <td>...</td>\n",
              "      <td>...</td>\n",
              "      <td>...</td>\n",
              "    </tr>\n",
              "    <tr>\n",
              "      <th>85022</th>\n",
              "      <td>P3</td>\n",
              "      <td>SWT</td>\n",
              "      <td>Eclipse Kepler Often Crash On Ubuntu 13.04 and...</td>\n",
              "      <td>Eclipse Kepler often crash on ubuntu 13.04 and...</td>\n",
              "      <td>RESOLVED</td>\n",
              "      <td>NDUPLICATE</td>\n",
              "      <td>4.3.1</td>\n",
              "    </tr>\n",
              "    <tr>\n",
              "      <th>85023</th>\n",
              "      <td>P3</td>\n",
              "      <td>IDE</td>\n",
              "      <td>Eclipse crashes on startup</td>\n",
              "      <td>Created attachment 238574; /workspace/.metadat...</td>\n",
              "      <td>CLOSED</td>\n",
              "      <td>DUPLICATE</td>\n",
              "      <td>4.4</td>\n",
              "    </tr>\n",
              "    <tr>\n",
              "      <th>85024</th>\n",
              "      <td>P3</td>\n",
              "      <td>UI</td>\n",
              "      <td>Menu Bar does not display</td>\n",
              "      <td>when i click on one of the buttons on the menu...</td>\n",
              "      <td>CLOSED</td>\n",
              "      <td>NDUPLICATE</td>\n",
              "      <td>4.3</td>\n",
              "    </tr>\n",
              "    <tr>\n",
              "      <th>85025</th>\n",
              "      <td>P3</td>\n",
              "      <td>UI</td>\n",
              "      <td>[GTK/Linux] Blank Windows with GTK3</td>\n",
              "      <td>I started testing 4.4 and noticed the editor w...</td>\n",
              "      <td>CLOSED</td>\n",
              "      <td>NDUPLICATE</td>\n",
              "      <td>4.4</td>\n",
              "    </tr>\n",
              "    <tr>\n",
              "      <th>85026</th>\n",
              "      <td>P3</td>\n",
              "      <td>SWT</td>\n",
              "      <td>Crash (MacOS) - getIvar</td>\n",
              "      <td>Process:         eclipse [42412]; Path:       ...</td>\n",
              "      <td>CLOSED</td>\n",
              "      <td>NDUPLICATE</td>\n",
              "      <td>4.4</td>\n",
              "    </tr>\n",
              "  </tbody>\n",
              "</table>\n",
              "<p>85027 rows × 7 columns</p>\n",
              "</div>"
            ],
            "text/plain": [
              "      Priority Component                                              Title  \\\n",
              "0           P3      Team    Usability issue with external editors (1GE6IRL)   \n",
              "1           P5      Team  Opening repository resources doesnt honor type...   \n",
              "2           P5      Team          Sync does not indicate deletion (1GIEN83)   \n",
              "3           P5      Team  need better error message if catching up over ...   \n",
              "4           P3      Team  ISharingManager sharing API inconsistent (1GAU...   \n",
              "...        ...       ...                                                ...   \n",
              "85022       P3       SWT  Eclipse Kepler Often Crash On Ubuntu 13.04 and...   \n",
              "85023       P3       IDE                         Eclipse crashes on startup   \n",
              "85024       P3        UI                          Menu Bar does not display   \n",
              "85025       P3        UI                [GTK/Linux] Blank Windows with GTK3   \n",
              "85026       P3       SWT                            Crash (MacOS) - getIvar   \n",
              "\n",
              "                                             Description    Status  \\\n",
              "0      - Setup a project that contains a *.gif resour...    CLOSED   \n",
              "1      Opening repository resource always open the de...  RESOLVED   \n",
              "2      KM (10/2/2001 5:55:18 PM); \\tThis PR about the...  RESOLVED   \n",
              "3      - become synchronized with some project in a r...  RESOLVED   \n",
              "4      For getting/setting the managed state of a res...  RESOLVED   \n",
              "...                                                  ...       ...   \n",
              "85022  Eclipse Kepler often crash on ubuntu 13.04 and...  RESOLVED   \n",
              "85023  Created attachment 238574; /workspace/.metadat...    CLOSED   \n",
              "85024  when i click on one of the buttons on the menu...    CLOSED   \n",
              "85025  I started testing 4.4 and noticed the editor w...    CLOSED   \n",
              "85026  Process:         eclipse [42412]; Path:       ...    CLOSED   \n",
              "\n",
              "       Resolution Version  \n",
              "0           FIXED     2.0  \n",
              "1           FIXED     2.0  \n",
              "2           FIXED     2.0  \n",
              "3           FIXED     2.0  \n",
              "4         WONTFIX     2.0  \n",
              "...           ...     ...  \n",
              "85022  NDUPLICATE   4.3.1  \n",
              "85023   DUPLICATE     4.4  \n",
              "85024  NDUPLICATE     4.3  \n",
              "85025  NDUPLICATE     4.4  \n",
              "85026  NDUPLICATE     4.4  \n",
              "\n",
              "[85027 rows x 7 columns]"
            ]
          },
          "execution_count": 18,
          "metadata": {},
          "output_type": "execute_result"
        }
      ],
      "source": [
        "ep_data5"
      ]
    },
    {
      "cell_type": "code",
      "execution_count": 19,
      "metadata": {
        "colab": {
          "base_uri": "https://localhost:8080/"
        },
        "id": "hyd29vNIwar5",
        "outputId": "b5fd01bd-4a4f-444a-fa64-61784b2f512f"
      },
      "outputs": [
        {
          "data": {
            "text/plain": [
              "Resolution\n",
              "FIXED          42327\n",
              "DUPLICATE      14398\n",
              "WONTFIX         9666\n",
              "WORKSFORME      8414\n",
              "INVALID         7090\n",
              "NDUPLICATE      2330\n",
              "NOT_ECLIPSE      801\n",
              "MOVED              1\n",
              "Name: count, dtype: int64"
            ]
          },
          "execution_count": 19,
          "metadata": {},
          "output_type": "execute_result"
        }
      ],
      "source": [
        "ep_data5[\"Resolution\"].value_counts()"
      ]
    },
    {
      "cell_type": "code",
      "execution_count": 20,
      "metadata": {
        "id": "KKP2ch42xGlH"
      },
      "outputs": [],
      "source": [
        "ep_data5[\"Resolution\"] = [-1 if bug_type == \"INVALID\" else 1 for bug_type in ep_data5[\"Resolution\"]]"
      ]
    },
    {
      "cell_type": "code",
      "execution_count": 21,
      "metadata": {
        "colab": {
          "base_uri": "https://localhost:8080/"
        },
        "id": "yf2T1DaBxGbj",
        "outputId": "f62a83ae-7616-4036-cd6a-dbb6955cede0"
      },
      "outputs": [
        {
          "data": {
            "text/plain": [
              "Resolution\n",
              " 1    77937\n",
              "-1     7090\n",
              "Name: count, dtype: int64"
            ]
          },
          "execution_count": 21,
          "metadata": {},
          "output_type": "execute_result"
        }
      ],
      "source": [
        "ep_data5[\"Resolution\"].value_counts()      ## It is highly imbalanced dataset"
      ]
    },
    {
      "cell_type": "code",
      "execution_count": 22,
      "metadata": {
        "id": "TaA8XZGHxGSe"
      },
      "outputs": [],
      "source": [
        "X = ep_data5.drop(columns = \"Resolution\")  ## Our input features for futher analysis"
      ]
    },
    {
      "cell_type": "code",
      "execution_count": 23,
      "metadata": {
        "colab": {
          "base_uri": "https://localhost:8080/",
          "height": 423
        },
        "id": "5X2ehPPSxGIE",
        "outputId": "690e82fa-7ab6-4ff6-f721-f6293865aaac"
      },
      "outputs": [
        {
          "data": {
            "text/html": [
              "<div>\n",
              "<style scoped>\n",
              "    .dataframe tbody tr th:only-of-type {\n",
              "        vertical-align: middle;\n",
              "    }\n",
              "\n",
              "    .dataframe tbody tr th {\n",
              "        vertical-align: top;\n",
              "    }\n",
              "\n",
              "    .dataframe thead th {\n",
              "        text-align: right;\n",
              "    }\n",
              "</style>\n",
              "<table border=\"1\" class=\"dataframe\">\n",
              "  <thead>\n",
              "    <tr style=\"text-align: right;\">\n",
              "      <th></th>\n",
              "      <th>Priority</th>\n",
              "      <th>Component</th>\n",
              "      <th>Title</th>\n",
              "      <th>Description</th>\n",
              "      <th>Status</th>\n",
              "      <th>Version</th>\n",
              "    </tr>\n",
              "  </thead>\n",
              "  <tbody>\n",
              "    <tr>\n",
              "      <th>0</th>\n",
              "      <td>P3</td>\n",
              "      <td>Team</td>\n",
              "      <td>Usability issue with external editors (1GE6IRL)</td>\n",
              "      <td>- Setup a project that contains a *.gif resour...</td>\n",
              "      <td>CLOSED</td>\n",
              "      <td>2.0</td>\n",
              "    </tr>\n",
              "    <tr>\n",
              "      <th>1</th>\n",
              "      <td>P5</td>\n",
              "      <td>Team</td>\n",
              "      <td>Opening repository resources doesnt honor type...</td>\n",
              "      <td>Opening repository resource always open the de...</td>\n",
              "      <td>RESOLVED</td>\n",
              "      <td>2.0</td>\n",
              "    </tr>\n",
              "    <tr>\n",
              "      <th>2</th>\n",
              "      <td>P5</td>\n",
              "      <td>Team</td>\n",
              "      <td>Sync does not indicate deletion (1GIEN83)</td>\n",
              "      <td>KM (10/2/2001 5:55:18 PM); \\tThis PR about the...</td>\n",
              "      <td>RESOLVED</td>\n",
              "      <td>2.0</td>\n",
              "    </tr>\n",
              "    <tr>\n",
              "      <th>3</th>\n",
              "      <td>P5</td>\n",
              "      <td>Team</td>\n",
              "      <td>need better error message if catching up over ...</td>\n",
              "      <td>- become synchronized with some project in a r...</td>\n",
              "      <td>RESOLVED</td>\n",
              "      <td>2.0</td>\n",
              "    </tr>\n",
              "    <tr>\n",
              "      <th>4</th>\n",
              "      <td>P3</td>\n",
              "      <td>Team</td>\n",
              "      <td>ISharingManager sharing API inconsistent (1GAU...</td>\n",
              "      <td>For getting/setting the managed state of a res...</td>\n",
              "      <td>RESOLVED</td>\n",
              "      <td>2.0</td>\n",
              "    </tr>\n",
              "    <tr>\n",
              "      <th>...</th>\n",
              "      <td>...</td>\n",
              "      <td>...</td>\n",
              "      <td>...</td>\n",
              "      <td>...</td>\n",
              "      <td>...</td>\n",
              "      <td>...</td>\n",
              "    </tr>\n",
              "    <tr>\n",
              "      <th>85022</th>\n",
              "      <td>P3</td>\n",
              "      <td>SWT</td>\n",
              "      <td>Eclipse Kepler Often Crash On Ubuntu 13.04 and...</td>\n",
              "      <td>Eclipse Kepler often crash on ubuntu 13.04 and...</td>\n",
              "      <td>RESOLVED</td>\n",
              "      <td>4.3.1</td>\n",
              "    </tr>\n",
              "    <tr>\n",
              "      <th>85023</th>\n",
              "      <td>P3</td>\n",
              "      <td>IDE</td>\n",
              "      <td>Eclipse crashes on startup</td>\n",
              "      <td>Created attachment 238574; /workspace/.metadat...</td>\n",
              "      <td>CLOSED</td>\n",
              "      <td>4.4</td>\n",
              "    </tr>\n",
              "    <tr>\n",
              "      <th>85024</th>\n",
              "      <td>P3</td>\n",
              "      <td>UI</td>\n",
              "      <td>Menu Bar does not display</td>\n",
              "      <td>when i click on one of the buttons on the menu...</td>\n",
              "      <td>CLOSED</td>\n",
              "      <td>4.3</td>\n",
              "    </tr>\n",
              "    <tr>\n",
              "      <th>85025</th>\n",
              "      <td>P3</td>\n",
              "      <td>UI</td>\n",
              "      <td>[GTK/Linux] Blank Windows with GTK3</td>\n",
              "      <td>I started testing 4.4 and noticed the editor w...</td>\n",
              "      <td>CLOSED</td>\n",
              "      <td>4.4</td>\n",
              "    </tr>\n",
              "    <tr>\n",
              "      <th>85026</th>\n",
              "      <td>P3</td>\n",
              "      <td>SWT</td>\n",
              "      <td>Crash (MacOS) - getIvar</td>\n",
              "      <td>Process:         eclipse [42412]; Path:       ...</td>\n",
              "      <td>CLOSED</td>\n",
              "      <td>4.4</td>\n",
              "    </tr>\n",
              "  </tbody>\n",
              "</table>\n",
              "<p>85027 rows × 6 columns</p>\n",
              "</div>"
            ],
            "text/plain": [
              "      Priority Component                                              Title  \\\n",
              "0           P3      Team    Usability issue with external editors (1GE6IRL)   \n",
              "1           P5      Team  Opening repository resources doesnt honor type...   \n",
              "2           P5      Team          Sync does not indicate deletion (1GIEN83)   \n",
              "3           P5      Team  need better error message if catching up over ...   \n",
              "4           P3      Team  ISharingManager sharing API inconsistent (1GAU...   \n",
              "...        ...       ...                                                ...   \n",
              "85022       P3       SWT  Eclipse Kepler Often Crash On Ubuntu 13.04 and...   \n",
              "85023       P3       IDE                         Eclipse crashes on startup   \n",
              "85024       P3        UI                          Menu Bar does not display   \n",
              "85025       P3        UI                [GTK/Linux] Blank Windows with GTK3   \n",
              "85026       P3       SWT                            Crash (MacOS) - getIvar   \n",
              "\n",
              "                                             Description    Status Version  \n",
              "0      - Setup a project that contains a *.gif resour...    CLOSED     2.0  \n",
              "1      Opening repository resource always open the de...  RESOLVED     2.0  \n",
              "2      KM (10/2/2001 5:55:18 PM); \\tThis PR about the...  RESOLVED     2.0  \n",
              "3      - become synchronized with some project in a r...  RESOLVED     2.0  \n",
              "4      For getting/setting the managed state of a res...  RESOLVED     2.0  \n",
              "...                                                  ...       ...     ...  \n",
              "85022  Eclipse Kepler often crash on ubuntu 13.04 and...  RESOLVED   4.3.1  \n",
              "85023  Created attachment 238574; /workspace/.metadat...    CLOSED     4.4  \n",
              "85024  when i click on one of the buttons on the menu...    CLOSED     4.3  \n",
              "85025  I started testing 4.4 and noticed the editor w...    CLOSED     4.4  \n",
              "85026  Process:         eclipse [42412]; Path:       ...    CLOSED     4.4  \n",
              "\n",
              "[85027 rows x 6 columns]"
            ]
          },
          "execution_count": 23,
          "metadata": {},
          "output_type": "execute_result"
        }
      ],
      "source": [
        "X"
      ]
    },
    {
      "cell_type": "code",
      "execution_count": 24,
      "metadata": {
        "id": "zAF2nZAgxGAB"
      },
      "outputs": [],
      "source": [
        "Bug_details = []\n",
        "for i in range(len(X)):\n",
        "  Bug_detail = ' '.join(detail for detail in X.iloc[i,0:6])\n",
        "  Bug_details.append(Bug_detail)"
      ]
    },
    {
      "cell_type": "code",
      "execution_count": 25,
      "metadata": {
        "colab": {
          "base_uri": "https://localhost:8080/",
          "height": 128
        },
        "id": "Jn05mj0ExF24",
        "outputId": "e9384b36-fada-43b7-d8b4-bff57edb6a84"
      },
      "outputs": [
        {
          "data": {
            "text/plain": [
              "'P5 Team Sync does not indicate deletion (1GIEN83) KM (10/2/2001 5:55:18 PM); \\tThis PR about the deletion indicator in the sync viewer being too subtle.; \\tThis would be even more true for someone with vision problems.; \\tNE has good suggestion of using the label of the compare text viewer.; \\tWe may also consider a better icon.; \\tOn to the PR....; ; - delete file from project; - synchronize; - there is no indication that the file has been deleted from the workspace; - it looks the same as if the file is in the workspace but is empty; ; NOTES:; ; KM (8/15/2001 3:37:53 PM); \\tIt should appear as a rightfacing - arrow in the sync view.; \\tSent screen cap to NE requesting clarification.; ; NE (8/20/01 9:13:38 AM); \\tThe - in the arrow is clearer when there are other arrows present too (the + and change ones).; \\tOtherwise; its easy to miss the distinction; especially when the users attention is focussed; \\ton the text compare panes.; \\tId expect the Workspace file: label to indicate that it has been deleted.; \\tThe Repository file: label does this (if I remember correctly) when it has been deleted from the repository. RESOLVED 2.0'"
            ]
          },
          "execution_count": 25,
          "metadata": {},
          "output_type": "execute_result"
        }
      ],
      "source": [
        "Bug_details[2]"
      ]
    },
    {
      "cell_type": "code",
      "execution_count": 26,
      "metadata": {
        "id": "sKS_uXuwxFtf"
      },
      "outputs": [],
      "source": [
        "import nltk\n",
        "import re\n",
        "from nltk.corpus import stopwords\n",
        "from nltk.stem.porter import PorterStemmer\n",
        "from nltk.stem import WordNetLemmatizer"
      ]
    },
    {
      "cell_type": "code",
      "execution_count": 27,
      "metadata": {
        "colab": {
          "base_uri": "https://localhost:8080/"
        },
        "id": "nq1R8N6_xFjl",
        "outputId": "588f6234-e244-459c-d665-bc46c42ac1fc"
      },
      "outputs": [
        {
          "name": "stderr",
          "output_type": "stream",
          "text": [
            "[nltk_data] Downloading package punkt to\n",
            "[nltk_data]     C:\\Users\\amanv\\AppData\\Roaming\\nltk_data...\n",
            "[nltk_data]   Package punkt is already up-to-date!\n"
          ]
        },
        {
          "data": {
            "text/plain": [
              "True"
            ]
          },
          "execution_count": 27,
          "metadata": {},
          "output_type": "execute_result"
        }
      ],
      "source": [
        "nltk.download('punkt')"
      ]
    },
    {
      "cell_type": "code",
      "execution_count": 28,
      "metadata": {
        "colab": {
          "base_uri": "https://localhost:8080/"
        },
        "id": "7YQtxQhExFUu",
        "outputId": "4f8ce485-e247-46c6-f7c1-946e4b28dbd4"
      },
      "outputs": [
        {
          "name": "stderr",
          "output_type": "stream",
          "text": [
            "[nltk_data] Downloading package stopwords to\n",
            "[nltk_data]     C:\\Users\\amanv\\AppData\\Roaming\\nltk_data...\n",
            "[nltk_data]   Package stopwords is already up-to-date!\n"
          ]
        },
        {
          "data": {
            "text/plain": [
              "True"
            ]
          },
          "execution_count": 28,
          "metadata": {},
          "output_type": "execute_result"
        }
      ],
      "source": [
        "nltk.download('stopwords')"
      ]
    },
    {
      "cell_type": "code",
      "execution_count": 29,
      "metadata": {
        "colab": {
          "base_uri": "https://localhost:8080/"
        },
        "id": "eMJfP7P0xEru",
        "outputId": "53611242-39f4-4e14-aa7e-22ef2bcf0a0a"
      },
      "outputs": [
        {
          "name": "stderr",
          "output_type": "stream",
          "text": [
            "[nltk_data] Downloading package wordnet to\n",
            "[nltk_data]     C:\\Users\\amanv\\AppData\\Roaming\\nltk_data...\n",
            "[nltk_data]   Package wordnet is already up-to-date!\n"
          ]
        },
        {
          "data": {
            "text/plain": [
              "True"
            ]
          },
          "execution_count": 29,
          "metadata": {},
          "output_type": "execute_result"
        }
      ],
      "source": [
        "nltk.download('wordnet')"
      ]
    },
    {
      "cell_type": "code",
      "execution_count": 30,
      "metadata": {
        "id": "EKGja78a0Eh_"
      },
      "outputs": [],
      "source": [
        "Lemmatizer = WordNetLemmatizer()"
      ]
    },
    {
      "cell_type": "code",
      "execution_count": 30,
      "metadata": {
        "id": "EZ_I-sEC0GzJ"
      },
      "outputs": [],
      "source": [
        "bug_details_cleaned = []\n",
        "\n",
        "for i in range(len(Bug_details)):\n",
        "  bug_detail = Bug_details[i]\n",
        "  bug_detail = re.sub(r'\\(\\d{1,2}/\\d{1,2}/\\d{4} \\d{1,2}:\\d{1,2}:\\d{1,2} [APMapm]{2}\\);', '', bug_detail)\n",
        "  bug_detail_words = nltk.word_tokenize(bug_detail)\n",
        "  bug_detail_words = [Lemmatizer.lemmatize(word) for word in bug_detail_words if word not in set(stopwords.words('english'))]\n",
        "  bug_detail = ' '.join(bug_detail_words)\n",
        "  bug_detail = bug_detail.lower()\n",
        "  bug_details_cleaned.append(bug_detail)"
      ]
    },
    {
      "cell_type": "code",
      "execution_count": 31,
      "metadata": {
        "colab": {
          "base_uri": "https://localhost:8080/",
          "height": 128
        },
        "id": "fH_CwA6c2-0l",
        "outputId": "00d7647f-1917-4e6c-d857-257eba2f2343"
      },
      "outputs": [
        {
          "data": {
            "text/plain": [
              "'p3 team usability issue external editor ( 1ge6irl ) - setup project contains * .gif resource ; - release project cvs ; - edit * .gif resource external editor ; e.g . paintshop ; - save close external editor ; - navigator open icon resource verify change ; - release project ; - > nothing release ! ; - navigator open icon resource verify change still ; ; problem : i never refreshed local ; workspace hasnt changed release didnt find anything . ; however opening resource external editor found modified file disk showed change . ; ; the real problem occurs release actually find something release dont spot resource missing . ; this extremely error prone : one change didnt made build 110 ! ; ; notes : ; eg ( 5/23/01 3:00:33 pm ) ; release refresh local release . ; moving vcm ; ; ; km ( 05/27/01 5:10:19 pm ) ; comments jm related email : ; ; should free . could setting made optoinal nt mandatory . default setting could . ; consider swt team keep workspace network drive . this slow . ; ; side effect build run refresh completed unless somehow workspace runnable dont end ; runnable release . this would le optimal builder may responsible maintaining invariant deriving resource releasable . if dont run builder releasing ; invariant maintained release inconsistent state . ; ; summary : offer ensure local consistency releasing . ; ; km ( 5/31/01 1:30:35 pm ) ; see also 1geag1a : itpvcm : winnt - internal error comparing document ; failed error . never got log tod though . closed 2.0'"
            ]
          },
          "execution_count": 31,
          "metadata": {},
          "output_type": "execute_result"
        }
      ],
      "source": [
        "bug_details_cleaned[0]"
      ]
    },
    {
      "cell_type": "code",
      "execution_count": 32,
      "metadata": {
        "id": "uBPxiKxk_hCC"
      },
      "outputs": [],
      "source": [
        "word_count = [len(bug_detail) for bug_detail in bug_details_cleaned]"
      ]
    },
    {
      "cell_type": "code",
      "execution_count": 33,
      "metadata": {
        "id": "w0ZUfH-EAKeN"
      },
      "outputs": [],
      "source": [
        "ep_des_df = pd.DataFrame({\n",
        "                            \"Description\" : bug_details_cleaned,\n",
        "                            \"Description_length\" : word_count\n",
        "\n",
        "\n",
        "})"
      ]
    },
    {
      "cell_type": "code",
      "execution_count": 34,
      "metadata": {
        "colab": {
          "base_uri": "https://localhost:8080/",
          "height": 423
        },
        "id": "uSX0gxamAmcf",
        "outputId": "6d75e571-e72c-4eaf-8979-3597bce97657"
      },
      "outputs": [
        {
          "data": {
            "text/html": [
              "<div>\n",
              "<style scoped>\n",
              "    .dataframe tbody tr th:only-of-type {\n",
              "        vertical-align: middle;\n",
              "    }\n",
              "\n",
              "    .dataframe tbody tr th {\n",
              "        vertical-align: top;\n",
              "    }\n",
              "\n",
              "    .dataframe thead th {\n",
              "        text-align: right;\n",
              "    }\n",
              "</style>\n",
              "<table border=\"1\" class=\"dataframe\">\n",
              "  <thead>\n",
              "    <tr style=\"text-align: right;\">\n",
              "      <th></th>\n",
              "      <th>Description</th>\n",
              "      <th>Description_length</th>\n",
              "    </tr>\n",
              "  </thead>\n",
              "  <tbody>\n",
              "    <tr>\n",
              "      <th>0</th>\n",
              "      <td>p3 team usability issue external editor ( 1ge6...</td>\n",
              "      <td>1491</td>\n",
              "    </tr>\n",
              "    <tr>\n",
              "      <th>1</th>\n",
              "      <td>p5 team opening repository resource doesnt hon...</td>\n",
              "      <td>857</td>\n",
              "    </tr>\n",
              "    <tr>\n",
              "      <th>2</th>\n",
              "      <td>p5 team sync indicate deletion ( 1gien83 ) km ...</td>\n",
              "      <td>788</td>\n",
              "    </tr>\n",
              "    <tr>\n",
              "      <th>3</th>\n",
              "      <td>p5 team need better error message catching rea...</td>\n",
              "      <td>615</td>\n",
              "    </tr>\n",
              "    <tr>\n",
              "      <th>4</th>\n",
              "      <td>p3 team isharingmanager sharing api inconsiste...</td>\n",
              "      <td>483</td>\n",
              "    </tr>\n",
              "    <tr>\n",
              "      <th>...</th>\n",
              "      <td>...</td>\n",
              "      <td>...</td>\n",
              "    </tr>\n",
              "    <tr>\n",
              "      <th>85022</th>\n",
              "      <td>p3 swt eclipse kepler often crash on ubuntu 13...</td>\n",
              "      <td>155</td>\n",
              "    </tr>\n",
              "    <tr>\n",
              "      <th>85023</th>\n",
              "      <td>p3 ide eclipse crash startup created attachmen...</td>\n",
              "      <td>621</td>\n",
              "    </tr>\n",
              "    <tr>\n",
              "      <th>85024</th>\n",
              "      <td>p3 ui menu bar display click one button menu b...</td>\n",
              "      <td>207</td>\n",
              "    </tr>\n",
              "    <tr>\n",
              "      <th>85025</th>\n",
              "      <td>p3 ui [ gtk/linux ] blank windows gtk3 i start...</td>\n",
              "      <td>397</td>\n",
              "    </tr>\n",
              "    <tr>\n",
              "      <th>85026</th>\n",
              "      <td>p3 swt crash ( macos ) - getivar process : ecl...</td>\n",
              "      <td>13661</td>\n",
              "    </tr>\n",
              "  </tbody>\n",
              "</table>\n",
              "<p>85027 rows × 2 columns</p>\n",
              "</div>"
            ],
            "text/plain": [
              "                                             Description  Description_length\n",
              "0      p3 team usability issue external editor ( 1ge6...                1491\n",
              "1      p5 team opening repository resource doesnt hon...                 857\n",
              "2      p5 team sync indicate deletion ( 1gien83 ) km ...                 788\n",
              "3      p5 team need better error message catching rea...                 615\n",
              "4      p3 team isharingmanager sharing api inconsiste...                 483\n",
              "...                                                  ...                 ...\n",
              "85022  p3 swt eclipse kepler often crash on ubuntu 13...                 155\n",
              "85023  p3 ide eclipse crash startup created attachmen...                 621\n",
              "85024  p3 ui menu bar display click one button menu b...                 207\n",
              "85025  p3 ui [ gtk/linux ] blank windows gtk3 i start...                 397\n",
              "85026  p3 swt crash ( macos ) - getivar process : ecl...               13661\n",
              "\n",
              "[85027 rows x 2 columns]"
            ]
          },
          "execution_count": 34,
          "metadata": {},
          "output_type": "execute_result"
        }
      ],
      "source": [
        "ep_des_df"
      ]
    },
    {
      "cell_type": "code",
      "execution_count": 35,
      "metadata": {
        "colab": {
          "base_uri": "https://localhost:8080/"
        },
        "id": "wp9CdUvyAn9j",
        "outputId": "350617f6-b01f-4e18-e5d8-6abafb686a41"
      },
      "outputs": [
        {
          "data": {
            "text/plain": [
              "<bound method NDFrame.describe of 0         1491\n",
              "1          857\n",
              "2          788\n",
              "3          615\n",
              "4          483\n",
              "         ...  \n",
              "85022      155\n",
              "85023      621\n",
              "85024      207\n",
              "85025      397\n",
              "85026    13661\n",
              "Name: Description_length, Length: 85027, dtype: int64>"
            ]
          },
          "execution_count": 35,
          "metadata": {},
          "output_type": "execute_result"
        }
      ],
      "source": [
        "ep_des_df[\"Description_length\"].describe"
      ]
    },
    {
      "cell_type": "code",
      "execution_count": 36,
      "metadata": {
        "colab": {
          "base_uri": "https://localhost:8080/",
          "height": 423
        },
        "id": "GPMRJ-vlSKlE",
        "outputId": "8971dedb-5aec-492b-e733-1d5694090935"
      },
      "outputs": [
        {
          "data": {
            "text/html": [
              "<div>\n",
              "<style scoped>\n",
              "    .dataframe tbody tr th:only-of-type {\n",
              "        vertical-align: middle;\n",
              "    }\n",
              "\n",
              "    .dataframe tbody tr th {\n",
              "        vertical-align: top;\n",
              "    }\n",
              "\n",
              "    .dataframe thead th {\n",
              "        text-align: right;\n",
              "    }\n",
              "</style>\n",
              "<table border=\"1\" class=\"dataframe\">\n",
              "  <thead>\n",
              "    <tr style=\"text-align: right;\">\n",
              "      <th></th>\n",
              "      <th>Description</th>\n",
              "      <th>Description_length</th>\n",
              "    </tr>\n",
              "  </thead>\n",
              "  <tbody>\n",
              "    <tr>\n",
              "      <th>0</th>\n",
              "      <td>p3 team usability issue external editor ( 1ge6...</td>\n",
              "      <td>1491</td>\n",
              "    </tr>\n",
              "    <tr>\n",
              "      <th>1</th>\n",
              "      <td>p5 team opening repository resource doesnt hon...</td>\n",
              "      <td>857</td>\n",
              "    </tr>\n",
              "    <tr>\n",
              "      <th>2</th>\n",
              "      <td>p5 team sync indicate deletion ( 1gien83 ) km ...</td>\n",
              "      <td>788</td>\n",
              "    </tr>\n",
              "    <tr>\n",
              "      <th>3</th>\n",
              "      <td>p5 team need better error message catching rea...</td>\n",
              "      <td>615</td>\n",
              "    </tr>\n",
              "    <tr>\n",
              "      <th>4</th>\n",
              "      <td>p3 team isharingmanager sharing api inconsiste...</td>\n",
              "      <td>483</td>\n",
              "    </tr>\n",
              "    <tr>\n",
              "      <th>...</th>\n",
              "      <td>...</td>\n",
              "      <td>...</td>\n",
              "    </tr>\n",
              "    <tr>\n",
              "      <th>85022</th>\n",
              "      <td>p3 swt eclipse kepler often crash on ubuntu 13...</td>\n",
              "      <td>155</td>\n",
              "    </tr>\n",
              "    <tr>\n",
              "      <th>85023</th>\n",
              "      <td>p3 ide eclipse crash startup created attachmen...</td>\n",
              "      <td>621</td>\n",
              "    </tr>\n",
              "    <tr>\n",
              "      <th>85024</th>\n",
              "      <td>p3 ui menu bar display click one button menu b...</td>\n",
              "      <td>207</td>\n",
              "    </tr>\n",
              "    <tr>\n",
              "      <th>85025</th>\n",
              "      <td>p3 ui [ gtk/linux ] blank windows gtk3 i start...</td>\n",
              "      <td>397</td>\n",
              "    </tr>\n",
              "    <tr>\n",
              "      <th>85026</th>\n",
              "      <td>p3 swt crash ( macos ) - getivar process : ecl...</td>\n",
              "      <td>13661</td>\n",
              "    </tr>\n",
              "  </tbody>\n",
              "</table>\n",
              "<p>85027 rows × 2 columns</p>\n",
              "</div>"
            ],
            "text/plain": [
              "                                             Description  Description_length\n",
              "0      p3 team usability issue external editor ( 1ge6...                1491\n",
              "1      p5 team opening repository resource doesnt hon...                 857\n",
              "2      p5 team sync indicate deletion ( 1gien83 ) km ...                 788\n",
              "3      p5 team need better error message catching rea...                 615\n",
              "4      p3 team isharingmanager sharing api inconsiste...                 483\n",
              "...                                                  ...                 ...\n",
              "85022  p3 swt eclipse kepler often crash on ubuntu 13...                 155\n",
              "85023  p3 ide eclipse crash startup created attachmen...                 621\n",
              "85024  p3 ui menu bar display click one button menu b...                 207\n",
              "85025  p3 ui [ gtk/linux ] blank windows gtk3 i start...                 397\n",
              "85026  p3 swt crash ( macos ) - getivar process : ecl...               13661\n",
              "\n",
              "[85027 rows x 2 columns]"
            ]
          },
          "execution_count": 36,
          "metadata": {},
          "output_type": "execute_result"
        }
      ],
      "source": [
        "ep_des_df"
      ]
    },
    {
      "cell_type": "code",
      "execution_count": 37,
      "metadata": {
        "id": "ujggHAaFSN-u"
      },
      "outputs": [
        {
          "name": "stdout",
          "output_type": "stream",
          "text": [
            "WARNING:tensorflow:From c:\\Users\\Vedant Vidhate\\anaconda3\\Lib\\site-packages\\keras\\src\\losses.py:2976: The name tf.losses.sparse_softmax_cross_entropy is deprecated. Please use tf.compat.v1.losses.sparse_softmax_cross_entropy instead.\n",
            "\n"
          ]
        }
      ],
      "source": [
        "import tensorflow as tf"
      ]
    },
    {
      "cell_type": "code",
      "execution_count": 38,
      "metadata": {
        "id": "r7zbDZyKe-CD"
      },
      "outputs": [],
      "source": [
        "from tensorflow.keras.preprocessing.text import one_hot\n",
        "from tensorflow.keras.layers import Embedding\n",
        "from tensorflow.keras.preprocessing.sequence import pad_sequences"
      ]
    },
    {
      "cell_type": "code",
      "execution_count": 39,
      "metadata": {
        "id": "7vs2h7KzfA2A"
      },
      "outputs": [],
      "source": [
        "voc_size = 10000\n",
        "one_hot_representation = [one_hot(news,voc_size) for news in bug_details_cleaned]"
      ]
    },
    {
      "cell_type": "code",
      "execution_count": 40,
      "metadata": {
        "colab": {
          "base_uri": "https://localhost:8080/"
        },
        "id": "RYXdJMcAfDJG",
        "outputId": "de127844-193e-4731-b118-6adaf35e166a"
      },
      "outputs": [
        {
          "name": "stdout",
          "output_type": "stream",
          "text": [
            "[[   0    0    0 ... 1451 6223 5745]\n",
            " [   0    0    0 ... 8406 6223 5745]\n",
            " [   0    0    0 ... 8406 6223 5745]\n",
            " ...\n",
            " [   0    0    0 ... 1451 9433 1434]\n",
            " [   0    0    0 ... 1451 9433 9433]\n",
            " [   0    0    0 ... 1451 9433 9433]]\n"
          ]
        }
      ],
      "source": [
        "sentence_length = 10000\n",
        "embedded_doc = pad_sequences(one_hot_representation,padding='pre',maxlen=sentence_length)\n",
        "print(embedded_doc)"
      ]
    },
    {
      "cell_type": "code",
      "execution_count": 41,
      "metadata": {
        "id": "nuT6K67EfKbV"
      },
      "outputs": [],
      "source": [
        "X = np.array(embedded_doc)\n",
        "y = np.array(ep_data5[\"Resolution\"])"
      ]
    },
    {
      "cell_type": "code",
      "execution_count": 42,
      "metadata": {
        "id": "g1B93dinfYs9"
      },
      "outputs": [],
      "source": [
        "from sklearn.model_selection import train_test_split\n",
        "X_train,X_test,y_train,y_test = train_test_split(X,y,test_size=0.30,random_state=42)"
      ]
    },
    {
      "cell_type": "markdown",
      "metadata": {
        "id": "X8fEANcffhhT"
      },
      "source": [
        "## Support Vector Classifier"
      ]
    },
    {
      "cell_type": "code",
      "execution_count": 43,
      "metadata": {
        "id": "CSP4-TzgfdfS"
      },
      "outputs": [],
      "source": [
        "from sklearn.svm import SVC\n",
        "from sklearn.metrics import accuracy_score, precision_score, recall_score, f1_score"
      ]
    },
    {
      "cell_type": "code",
      "execution_count": 44,
      "metadata": {
        "id": "DVZB9DgMflIy"
      },
      "outputs": [],
      "source": [
        "svm_model = SVC(kernel='rbf')\n",
        "svm_model.fit(X_train, y_train)"
      ]
    },
    {
      "cell_type": "code",
      "execution_count": null,
      "metadata": {
        "id": "oCoHAYy_fo2v"
      },
      "outputs": [],
      "source": [
        "predictions_rbf = svm_model.predict(X_test)"
      ]
    },
    {
      "cell_type": "code",
      "execution_count": null,
      "metadata": {
        "id": "1Ej9lJRTfzim"
      },
      "outputs": [],
      "source": [
        "accuracy = accuracy_score(y_test, predictions_rbf)\n",
        "precision = precision_score(y_test, predictions_rbf)\n",
        "recall = recall_score(y_test, predictions_rbf)\n",
        "f1 = f1_score(y_test, predictions_rbf)"
      ]
    },
    {
      "cell_type": "code",
      "execution_count": null,
      "metadata": {
        "id": "bMFxvFsVf0eM"
      },
      "outputs": [],
      "source": [
        "\n",
        "print(f\"Accuracy: {accuracy * 100:.2f}%\")\n",
        "print(f\"Precision: {precision:.2f}\")\n",
        "print(f\"Recall: {recall:.2f}\")\n",
        "print(f\"F1 Score: {f1:.2f}\")"
      ]
    },
    {
      "cell_type": "markdown",
      "metadata": {
        "id": "oBfMYj6Hf5AO"
      },
      "source": [
        "Linear Discriminant Analysis"
      ]
    },
    {
      "cell_type": "code",
      "execution_count": null,
      "metadata": {
        "id": "yRlFg-cMf4wr"
      },
      "outputs": [],
      "source": [
        "from sklearn.discriminant_analysis import LinearDiscriminantAnalysis"
      ]
    },
    {
      "cell_type": "code",
      "execution_count": null,
      "metadata": {
        "id": "ZTSwvVJjf2-M"
      },
      "outputs": [],
      "source": [
        "lda_model = LinearDiscriminantAnalysis()"
      ]
    },
    {
      "cell_type": "code",
      "execution_count": null,
      "metadata": {
        "id": "YR8ekFgcf_cF"
      },
      "outputs": [],
      "source": [
        "lda_model.fit(X_train, y_train)"
      ]
    },
    {
      "cell_type": "code",
      "execution_count": null,
      "metadata": {
        "id": "RxuvQ9WkgBfe"
      },
      "outputs": [],
      "source": [
        "predictions_lda = lda_model.predict(X_test)"
      ]
    },
    {
      "cell_type": "code",
      "execution_count": null,
      "metadata": {
        "id": "yA9ZSrY4gEOt"
      },
      "outputs": [],
      "source": [
        "accuracy = accuracy_score(y_test, predictions_lda)\n",
        "precision = precision_score(y_test, predictions_lda)\n",
        "recall = recall_score(y_test, predictions_lda)\n",
        "f1 = f1_score(y_test, predictions_lda)"
      ]
    },
    {
      "cell_type": "code",
      "execution_count": null,
      "metadata": {
        "id": "46ipQsMrgGY5"
      },
      "outputs": [],
      "source": [
        "print(f\"Accuracy: {accuracy * 100:.2f}%\")\n",
        "print(f\"Precision: {precision:.2f}\")\n",
        "print(f\"Recall: {recall:.2f}\")\n",
        "print(f\"F1 Score: {f1:.2f}\")"
      ]
    },
    {
      "cell_type": "markdown",
      "metadata": {},
      "source": [
        "## KNN"
      ]
    },
    {
      "cell_type": "code",
      "execution_count": null,
      "metadata": {},
      "outputs": [],
      "source": [
        "from sklearn.neighbors import KNeighborsClassifier\n",
        "\n",
        "knn_classifier = KNeighborsClassifier(n_neighbors=5)\n",
        "knn_classifier.fit(X_train, y_train)\n",
        "knn_pred = knn_classifier.predict(X_test)\n",
        "\n",
        "accuracy = accuracy_score(y_test, knn_pred)\n",
        "precision = precision_score(y_test, knn_pred)\n",
        "recall = recall_score(y_test, knn_pred)\n",
        "f1 = f1_score(y_test, knn_pred)\n",
        "\n",
        "print(f\"Accuracy: {accuracy * 100:.2f}%\")\n",
        "print(f\"Precision: {precision:.2f}\")\n",
        "print(f\"Recall: {recall:.2f}\")\n",
        "print(f\"F1 Score: {f1:.2f}\")\n"
      ]
    },
    {
      "cell_type": "markdown",
      "metadata": {},
      "source": [
        "## Naive Bayes"
      ]
    },
    {
      "cell_type": "code",
      "execution_count": null,
      "metadata": {},
      "outputs": [],
      "source": [
        "from sklearn.naive_bayes import MultinomialNB\n",
        "nb_classifier = MultinomialNB()\n",
        "nb_classifier.fit(X_train, y_train)\n",
        "nb_pred = nb_classifier.predict(X_test)\n",
        "\n",
        "accuracy = accuracy_score(y_test, nb_pred)\n",
        "precision = precision_score(y_test, nb_pred)\n",
        "recall = recall_score(y_test, nb_pred)\n",
        "f1 = f1_score(y_test, nb_pred)\n",
        "\n",
        "print(f\"Accuracy: {accuracy * 100:.2f}%\")\n",
        "print(f\"Precision: {precision:.2f}\")\n",
        "print(f\"Recall: {recall:.2f}\")\n",
        "print(f\"F1 Score: {f1:.2f}\")\n",
        "\n"
      ]
    },
    {
      "cell_type": "markdown",
      "metadata": {},
      "source": [
        "## XG- Boost"
      ]
    },
    {
      "cell_type": "code",
      "execution_count": null,
      "metadata": {},
      "outputs": [],
      "source": [
        "y_train_mapped = np.where(y_train == -1, 0, y_train)\n",
        "y_test_mapped = np.where(y_test == -1, 0, y_test)\n",
        "xgb_classifier = xgb.XGBClassifier()\n",
        "xgb_classifier.fit(X_train, y_train_mapped)\n",
        "xgb_pred = xgb_classifier.predict(X_test)\n",
        "\n",
        "accuracy = accuracy_score(y_test_mapped, xgb_pred)\n",
        "precision = precision_score(y_test_mapped, xgb_pred)\n",
        "recall = recall_score(y_test_mapped, xgb_pred)\n",
        "f1 = f1_score(y_test_mapped, xgb_pred)\n",
        "\n",
        "print(f\"Accuracy: {accuracy * 100:.2f}%\")\n",
        "print(f\"Precision: {precision:.2f}\")\n",
        "print(f\"Recall: {recall:.2f}\")\n",
        "print(f\"F1 Score: {f1:.2f}\")\n"
      ]
    }
  ],
  "metadata": {
    "colab": {
      "provenance": []
    },
    "kernelspec": {
      "display_name": "Python 3",
      "language": "python",
      "name": "python3"
    },
    "language_info": {
      "codemirror_mode": {
        "name": "ipython",
        "version": 3
      },
      "file_extension": ".py",
      "mimetype": "text/x-python",
      "name": "python",
      "nbconvert_exporter": "python",
      "pygments_lexer": "ipython3",
      "version": "3.11.0"
    }
  },
  "nbformat": 4,
  "nbformat_minor": 0
}
