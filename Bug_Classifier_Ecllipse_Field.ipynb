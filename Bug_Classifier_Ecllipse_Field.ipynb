{
 "cells": [
  {
   "cell_type": "markdown",
   "metadata": {
    "id": "BxvX_CNB6xPx"
   },
   "source": [
    "# Ecllipse Field Bug Classifier"
   ]
  },
  {
   "cell_type": "code",
   "execution_count": 3,
   "metadata": {
    "id": "IlTdRthx6yen"
   },
   "outputs": [],
   "source": [
    "## Importing some basic required libraries\n",
    "\n",
    "import pandas as pd\n",
    "import numpy as np\n",
    "import matplotlib.pyplot as plt\n",
    "import seaborn as sns\n",
    "import warnings\n",
    "warnings.filterwarnings(\"ignore\")"
   ]
  },
  {
   "cell_type": "code",
   "execution_count": 4,
   "metadata": {
    "id": "ygPtoASf69MH"
   },
   "outputs": [],
   "source": [
    "ef_data1 = pd.read_csv(\"D:\\External_Projects\\Kaushiki_Mishra\\Data and Code\\EclipseFields.csv\")"
   ]
  },
  {
   "cell_type": "code",
   "execution_count": 5,
   "metadata": {
    "colab": {
     "base_uri": "https://localhost:8080/",
     "height": 1000
    },
    "id": "nPBgGCnz7EZ_",
    "outputId": "83932260-db74-4c59-c443-77045fa53956"
   },
   "outputs": [
    {
     "data": {
      "text/html": [
       "<div>\n",
       "<style scoped>\n",
       "    .dataframe tbody tr th:only-of-type {\n",
       "        vertical-align: middle;\n",
       "    }\n",
       "\n",
       "    .dataframe tbody tr th {\n",
       "        vertical-align: top;\n",
       "    }\n",
       "\n",
       "    .dataframe thead th {\n",
       "        text-align: right;\n",
       "    }\n",
       "</style>\n",
       "<table border=\"1\" class=\"dataframe\">\n",
       "  <thead>\n",
       "    <tr style=\"text-align: right;\">\n",
       "      <th></th>\n",
       "      <th>BugID</th>\n",
       "      <th>MasterID</th>\n",
       "      <th>MergeID</th>\n",
       "      <th>Product</th>\n",
       "      <th>Component</th>\n",
       "      <th>Type</th>\n",
       "      <th>Priority</th>\n",
       "      <th>PriorityNumber</th>\n",
       "      <th>Version</th>\n",
       "      <th>VersionNumber</th>\n",
       "      <th>...</th>\n",
       "      <th>CloseDate</th>\n",
       "      <th>Status</th>\n",
       "      <th>Stars</th>\n",
       "      <th>crypto</th>\n",
       "      <th>general</th>\n",
       "      <th>java</th>\n",
       "      <th>networking</th>\n",
       "      <th>Title</th>\n",
       "      <th>Description</th>\n",
       "      <th>Summary</th>\n",
       "    </tr>\n",
       "  </thead>\n",
       "  <tbody>\n",
       "    <tr>\n",
       "      <th>0</th>\n",
       "      <td>214049</td>\n",
       "      <td>0</td>\n",
       "      <td>0</td>\n",
       "      <td>z_Archived</td>\n",
       "      <td>STP</td>\n",
       "      <td>normal</td>\n",
       "      <td>P3</td>\n",
       "      <td>3.0</td>\n",
       "      <td>unspecified</td>\n",
       "      <td>0.0</td>\n",
       "      <td>...</td>\n",
       "      <td>Fri Sep 21 22:10:55 IRST 2012</td>\n",
       "      <td>FIXED</td>\n",
       "      <td>0</td>\n",
       "      <td>4.82183</td>\n",
       "      <td>5.38393</td>\n",
       "      <td>5.38393</td>\n",
       "      <td>5.38393</td>\n",
       "      <td>produce tutorial content for policy editor for...</td>\n",
       "      <td>eclipsecon 2007 has a tutorial on policy edito...</td>\n",
       "      <td>NaN</td>\n",
       "    </tr>\n",
       "    <tr>\n",
       "      <th>1</th>\n",
       "      <td>224159</td>\n",
       "      <td>0</td>\n",
       "      <td>0</td>\n",
       "      <td>z_Archived</td>\n",
       "      <td>Cosmos</td>\n",
       "      <td>normal</td>\n",
       "      <td>P3</td>\n",
       "      <td>3.0</td>\n",
       "      <td>unspecified</td>\n",
       "      <td>0.0</td>\n",
       "      <td>...</td>\n",
       "      <td>Tue Jan 03 22:18:21 IRST 2012</td>\n",
       "      <td>FIXED</td>\n",
       "      <td>0</td>\n",
       "      <td>3.50751</td>\n",
       "      <td>5.10120</td>\n",
       "      <td>3.50751</td>\n",
       "      <td>3.50751</td>\n",
       "      <td>graph response viewer: table columns can not b...</td>\n",
       "      <td>table columns shown in the graph response view...</td>\n",
       "      <td>NaN</td>\n",
       "    </tr>\n",
       "    <tr>\n",
       "      <th>2</th>\n",
       "      <td>224160</td>\n",
       "      <td>0</td>\n",
       "      <td>0</td>\n",
       "      <td>Platform</td>\n",
       "      <td>Text</td>\n",
       "      <td>normal</td>\n",
       "      <td>P3</td>\n",
       "      <td>3.0</td>\n",
       "      <td>3.4</td>\n",
       "      <td>0.0</td>\n",
       "      <td>...</td>\n",
       "      <td>Tue May 13 14:57:07 IRDT 2008</td>\n",
       "      <td>NaN</td>\n",
       "      <td>0</td>\n",
       "      <td>5.67471</td>\n",
       "      <td>6.51821</td>\n",
       "      <td>6.51821</td>\n",
       "      <td>5.13549</td>\n",
       "      <td>[templates view] editor drop target has problems</td>\n",
       "      <td>i20080327-0100.  the editor drop target has pr...</td>\n",
       "      <td>NaN</td>\n",
       "    </tr>\n",
       "    <tr>\n",
       "      <th>3</th>\n",
       "      <td>224161</td>\n",
       "      <td>0</td>\n",
       "      <td>0</td>\n",
       "      <td>z_Archived</td>\n",
       "      <td>Cosmos</td>\n",
       "      <td>normal</td>\n",
       "      <td>P3</td>\n",
       "      <td>3.0</td>\n",
       "      <td>unspecified</td>\n",
       "      <td>0.0</td>\n",
       "      <td>...</td>\n",
       "      <td>Tue Jan 03 22:17:09 IRST 2012</td>\n",
       "      <td>FIXED</td>\n",
       "      <td>0</td>\n",
       "      <td>12.18324</td>\n",
       "      <td>16.71032</td>\n",
       "      <td>15.29347</td>\n",
       "      <td>12.18324</td>\n",
       "      <td>graph response viewer: improve the format of t...</td>\n",
       "      <td>should format the xml structure of the record ...</td>\n",
       "      <td>NaN</td>\n",
       "    </tr>\n",
       "    <tr>\n",
       "      <th>4</th>\n",
       "      <td>224162</td>\n",
       "      <td>0</td>\n",
       "      <td>0</td>\n",
       "      <td>Target Management</td>\n",
       "      <td>RSE</td>\n",
       "      <td>major</td>\n",
       "      <td>P2</td>\n",
       "      <td>2.0</td>\n",
       "      <td>unspecified</td>\n",
       "      <td>0.0</td>\n",
       "      <td>...</td>\n",
       "      <td>Wed Apr 02 22:05:41 IRDT 2008</td>\n",
       "      <td>FIXED</td>\n",
       "      <td>0</td>\n",
       "      <td>10.08601</td>\n",
       "      <td>13.12250</td>\n",
       "      <td>11.81216</td>\n",
       "      <td>11.47312</td>\n",
       "      <td>systemeditableremotefile.saveas does not work ...</td>\n",
       "      <td>created attachment 93648 plugin with junit tha...</td>\n",
       "      <td>NaN</td>\n",
       "    </tr>\n",
       "    <tr>\n",
       "      <th>...</th>\n",
       "      <td>...</td>\n",
       "      <td>...</td>\n",
       "      <td>...</td>\n",
       "      <td>...</td>\n",
       "      <td>...</td>\n",
       "      <td>...</td>\n",
       "      <td>...</td>\n",
       "      <td>...</td>\n",
       "      <td>...</td>\n",
       "      <td>...</td>\n",
       "      <td>...</td>\n",
       "      <td>...</td>\n",
       "      <td>...</td>\n",
       "      <td>...</td>\n",
       "      <td>...</td>\n",
       "      <td>...</td>\n",
       "      <td>...</td>\n",
       "      <td>...</td>\n",
       "      <td>...</td>\n",
       "      <td>...</td>\n",
       "      <td>...</td>\n",
       "    </tr>\n",
       "    <tr>\n",
       "      <th>45229</th>\n",
       "      <td>224157</td>\n",
       "      <td>0</td>\n",
       "      <td>0</td>\n",
       "      <td>z_Archived</td>\n",
       "      <td>Cosmos</td>\n",
       "      <td>normal</td>\n",
       "      <td>P3</td>\n",
       "      <td>3.0</td>\n",
       "      <td>unspecified</td>\n",
       "      <td>0.0</td>\n",
       "      <td>...</td>\n",
       "      <td>Tue Jan 03 22:17:39 IRST 2012</td>\n",
       "      <td>FIXED</td>\n",
       "      <td>0</td>\n",
       "      <td>4.21042</td>\n",
       "      <td>7.68664</td>\n",
       "      <td>6.28164</td>\n",
       "      <td>6.28164</td>\n",
       "      <td>graph response viewer: need to better decode u...</td>\n",
       "      <td>when a url is shown in the graph response view...</td>\n",
       "      <td>NaN</td>\n",
       "    </tr>\n",
       "    <tr>\n",
       "      <th>45230</th>\n",
       "      <td>224158</td>\n",
       "      <td>0</td>\n",
       "      <td>0</td>\n",
       "      <td>JDT</td>\n",
       "      <td>Text</td>\n",
       "      <td>normal</td>\n",
       "      <td>P3</td>\n",
       "      <td>3.0</td>\n",
       "      <td>3.3.1</td>\n",
       "      <td>0.0</td>\n",
       "      <td>...</td>\n",
       "      <td>Fri Mar 28 14:13:27 IRDT 2008</td>\n",
       "      <td>FIXED</td>\n",
       "      <td>0</td>\n",
       "      <td>4.37787</td>\n",
       "      <td>5.85958</td>\n",
       "      <td>5.85958</td>\n",
       "      <td>5.85958</td>\n",
       "      <td>[syntax highlighting] class is not colored whe...</td>\n",
       "      <td>created attachment 93646 screenshot of cot col...</td>\n",
       "      <td>NaN</td>\n",
       "    </tr>\n",
       "    <tr>\n",
       "      <th>45231</th>\n",
       "      <td>215057</td>\n",
       "      <td>0</td>\n",
       "      <td>0</td>\n",
       "      <td>Mylyn</td>\n",
       "      <td>Tasks</td>\n",
       "      <td>enhancement</td>\n",
       "      <td>P3</td>\n",
       "      <td>3.0</td>\n",
       "      <td>unspecified</td>\n",
       "      <td>0.0</td>\n",
       "      <td>...</td>\n",
       "      <td>Wed Nov 05 06:01:27 IRST 2008</td>\n",
       "      <td>FIXED</td>\n",
       "      <td>0</td>\n",
       "      <td>5.41726</td>\n",
       "      <td>10.69461</td>\n",
       "      <td>7.39037</td>\n",
       "      <td>9.53942</td>\n",
       "      <td>[api] add support for pre and post task deacti...</td>\n",
       "      <td>it would be nice to have support for pre- and ...</td>\n",
       "      <td>NaN</td>\n",
       "    </tr>\n",
       "    <tr>\n",
       "      <th>45232</th>\n",
       "      <td>214148</td>\n",
       "      <td>0</td>\n",
       "      <td>0</td>\n",
       "      <td>PDE</td>\n",
       "      <td>UI</td>\n",
       "      <td>enhancement</td>\n",
       "      <td>P3</td>\n",
       "      <td>3.0</td>\n",
       "      <td>3.4</td>\n",
       "      <td>0.0</td>\n",
       "      <td>...</td>\n",
       "      <td>Tue Feb 05 23:20:17 IRST 2008</td>\n",
       "      <td>FIXED</td>\n",
       "      <td>0</td>\n",
       "      <td>0.00000</td>\n",
       "      <td>8.18088</td>\n",
       "      <td>1.91619</td>\n",
       "      <td>0.70898</td>\n",
       "      <td>remove the classpath: setting</td>\n",
       "      <td>since the dawn of jarred plug-ins  setting the...</td>\n",
       "      <td>NaN</td>\n",
       "    </tr>\n",
       "    <tr>\n",
       "      <th>45233</th>\n",
       "      <td>214058</td>\n",
       "      <td>0</td>\n",
       "      <td>108534</td>\n",
       "      <td>Platform</td>\n",
       "      <td>Resources</td>\n",
       "      <td>normal</td>\n",
       "      <td>P3</td>\n",
       "      <td>3.0</td>\n",
       "      <td>3.3</td>\n",
       "      <td>0.0</td>\n",
       "      <td>...</td>\n",
       "      <td>Mon Jan 07 15:26:11 IRST 2008</td>\n",
       "      <td>DUPLICATE</td>\n",
       "      <td>0</td>\n",
       "      <td>8.47968</td>\n",
       "      <td>9.65786</td>\n",
       "      <td>9.65786</td>\n",
       "      <td>8.47968</td>\n",
       "      <td>files which are copied while building workspac...</td>\n",
       "      <td>build id: i20070625-1500  steps to reproduce: ...</td>\n",
       "      <td>NaN</td>\n",
       "    </tr>\n",
       "  </tbody>\n",
       "</table>\n",
       "<p>45234 rows × 21 columns</p>\n",
       "</div>"
      ],
      "text/plain": [
       "        BugID  MasterID  MergeID            Product  Component         Type  \\\n",
       "0      214049         0        0         z_Archived        STP       normal   \n",
       "1      224159         0        0         z_Archived     Cosmos       normal   \n",
       "2      224160         0        0           Platform       Text       normal   \n",
       "3      224161         0        0         z_Archived     Cosmos       normal   \n",
       "4      224162         0        0  Target Management        RSE        major   \n",
       "...       ...       ...      ...                ...        ...          ...   \n",
       "45229  224157         0        0         z_Archived     Cosmos       normal   \n",
       "45230  224158         0        0                JDT       Text       normal   \n",
       "45231  215057         0        0              Mylyn      Tasks  enhancement   \n",
       "45232  214148         0        0                PDE         UI  enhancement   \n",
       "45233  214058         0   108534           Platform  Resources       normal   \n",
       "\n",
       "      Priority  PriorityNumber      Version  VersionNumber  ...  \\\n",
       "0           P3             3.0  unspecified            0.0  ...   \n",
       "1           P3             3.0  unspecified            0.0  ...   \n",
       "2           P3             3.0          3.4            0.0  ...   \n",
       "3           P3             3.0  unspecified            0.0  ...   \n",
       "4           P2             2.0  unspecified            0.0  ...   \n",
       "...        ...             ...          ...            ...  ...   \n",
       "45229       P3             3.0  unspecified            0.0  ...   \n",
       "45230       P3             3.0        3.3.1            0.0  ...   \n",
       "45231       P3             3.0  unspecified            0.0  ...   \n",
       "45232       P3             3.0          3.4            0.0  ...   \n",
       "45233       P3             3.0          3.3            0.0  ...   \n",
       "\n",
       "                           CloseDate     Status Stars    crypto   general  \\\n",
       "0      Fri Sep 21 22:10:55 IRST 2012      FIXED     0   4.82183   5.38393   \n",
       "1      Tue Jan 03 22:18:21 IRST 2012      FIXED     0   3.50751   5.10120   \n",
       "2      Tue May 13 14:57:07 IRDT 2008        NaN     0   5.67471   6.51821   \n",
       "3      Tue Jan 03 22:17:09 IRST 2012      FIXED     0  12.18324  16.71032   \n",
       "4      Wed Apr 02 22:05:41 IRDT 2008      FIXED     0  10.08601  13.12250   \n",
       "...                              ...        ...   ...       ...       ...   \n",
       "45229  Tue Jan 03 22:17:39 IRST 2012      FIXED     0   4.21042   7.68664   \n",
       "45230  Fri Mar 28 14:13:27 IRDT 2008      FIXED     0   4.37787   5.85958   \n",
       "45231  Wed Nov 05 06:01:27 IRST 2008      FIXED     0   5.41726  10.69461   \n",
       "45232  Tue Feb 05 23:20:17 IRST 2008      FIXED     0   0.00000   8.18088   \n",
       "45233  Mon Jan 07 15:26:11 IRST 2008  DUPLICATE     0   8.47968   9.65786   \n",
       "\n",
       "           java  networking  \\\n",
       "0       5.38393     5.38393   \n",
       "1       3.50751     3.50751   \n",
       "2       6.51821     5.13549   \n",
       "3      15.29347    12.18324   \n",
       "4      11.81216    11.47312   \n",
       "...         ...         ...   \n",
       "45229   6.28164     6.28164   \n",
       "45230   5.85958     5.85958   \n",
       "45231   7.39037     9.53942   \n",
       "45232   1.91619     0.70898   \n",
       "45233   9.65786     8.47968   \n",
       "\n",
       "                                                   Title  \\\n",
       "0      produce tutorial content for policy editor for...   \n",
       "1      graph response viewer: table columns can not b...   \n",
       "2       [templates view] editor drop target has problems   \n",
       "3      graph response viewer: improve the format of t...   \n",
       "4      systemeditableremotefile.saveas does not work ...   \n",
       "...                                                  ...   \n",
       "45229  graph response viewer: need to better decode u...   \n",
       "45230  [syntax highlighting] class is not colored whe...   \n",
       "45231  [api] add support for pre and post task deacti...   \n",
       "45232                      remove the classpath: setting   \n",
       "45233  files which are copied while building workspac...   \n",
       "\n",
       "                                             Description Summary  \n",
       "0      eclipsecon 2007 has a tutorial on policy edito...     NaN  \n",
       "1      table columns shown in the graph response view...     NaN  \n",
       "2      i20080327-0100.  the editor drop target has pr...     NaN  \n",
       "3      should format the xml structure of the record ...     NaN  \n",
       "4      created attachment 93648 plugin with junit tha...     NaN  \n",
       "...                                                  ...     ...  \n",
       "45229  when a url is shown in the graph response view...     NaN  \n",
       "45230  created attachment 93646 screenshot of cot col...     NaN  \n",
       "45231  it would be nice to have support for pre- and ...     NaN  \n",
       "45232  since the dawn of jarred plug-ins  setting the...     NaN  \n",
       "45233  build id: i20070625-1500  steps to reproduce: ...     NaN  \n",
       "\n",
       "[45234 rows x 21 columns]"
      ]
     },
     "execution_count": 5,
     "metadata": {},
     "output_type": "execute_result"
    }
   ],
   "source": [
    "ef_data1"
   ]
  },
  {
   "cell_type": "code",
   "execution_count": 6,
   "metadata": {
    "colab": {
     "base_uri": "https://localhost:8080/"
    },
    "id": "sEsXa22V7J7o",
    "outputId": "e8cbf4bc-bf7a-4564-8d23-9ccbdf01e843"
   },
   "outputs": [
    {
     "data": {
      "text/plain": [
       "(45234, 21)"
      ]
     },
     "execution_count": 6,
     "metadata": {},
     "output_type": "execute_result"
    }
   ],
   "source": [
    "ef_data1.shape"
   ]
  },
  {
   "cell_type": "code",
   "execution_count": 7,
   "metadata": {
    "colab": {
     "base_uri": "https://localhost:8080/"
    },
    "id": "eBxHPUMU7Rrm",
    "outputId": "1cc7d522-96dd-4201-c1eb-dd5658366407"
   },
   "outputs": [
    {
     "data": {
      "text/plain": [
       "BugID                 0\n",
       "MasterID              0\n",
       "MergeID               0\n",
       "Product               0\n",
       "Component             0\n",
       "Type                  0\n",
       "Priority              0\n",
       "PriorityNumber        0\n",
       "Version               0\n",
       "VersionNumber         0\n",
       "OpenDate              0\n",
       "CloseDate             0\n",
       "Status             6797\n",
       "Stars                 0\n",
       "crypto                0\n",
       "general               0\n",
       "java                  0\n",
       "networking            0\n",
       "Title                 0\n",
       "Description           2\n",
       "Summary           45234\n",
       "dtype: int64"
      ]
     },
     "execution_count": 7,
     "metadata": {},
     "output_type": "execute_result"
    }
   ],
   "source": [
    "ef_data1.isna().sum()"
   ]
  },
  {
   "cell_type": "code",
   "execution_count": 8,
   "metadata": {
    "id": "qIP7iKI87ZDn"
   },
   "outputs": [],
   "source": [
    "ef_data2 = ef_data1.drop(columns=\"Summary\")"
   ]
  },
  {
   "cell_type": "code",
   "execution_count": 9,
   "metadata": {
    "colab": {
     "base_uri": "https://localhost:8080/"
    },
    "id": "m3pO9uw87i6n",
    "outputId": "f70da0f2-781a-48b6-9dc5-e53775294cc1"
   },
   "outputs": [
    {
     "data": {
      "text/plain": [
       "BugID                0\n",
       "MasterID             0\n",
       "MergeID              0\n",
       "Product              0\n",
       "Component            0\n",
       "Type                 0\n",
       "Priority             0\n",
       "PriorityNumber       0\n",
       "Version              0\n",
       "VersionNumber        0\n",
       "OpenDate             0\n",
       "CloseDate            0\n",
       "Status            6797\n",
       "Stars                0\n",
       "crypto               0\n",
       "general              0\n",
       "java                 0\n",
       "networking           0\n",
       "Title                0\n",
       "Description          2\n",
       "dtype: int64"
      ]
     },
     "execution_count": 9,
     "metadata": {},
     "output_type": "execute_result"
    }
   ],
   "source": [
    "ef_data2.isnull().sum()"
   ]
  },
  {
   "cell_type": "code",
   "execution_count": 10,
   "metadata": {
    "id": "iT5p9jIy7uHE"
   },
   "outputs": [],
   "source": [
    "ef_data3 = ef_data2.dropna()"
   ]
  },
  {
   "cell_type": "code",
   "execution_count": 11,
   "metadata": {
    "colab": {
     "base_uri": "https://localhost:8080/"
    },
    "id": "qDEKoN5S7t92",
    "outputId": "2c6a6dc1-a3ee-4288-e2f4-93065e195665"
   },
   "outputs": [
    {
     "data": {
      "text/plain": [
       "BugID             0\n",
       "MasterID          0\n",
       "MergeID           0\n",
       "Product           0\n",
       "Component         0\n",
       "Type              0\n",
       "Priority          0\n",
       "PriorityNumber    0\n",
       "Version           0\n",
       "VersionNumber     0\n",
       "OpenDate          0\n",
       "CloseDate         0\n",
       "Status            0\n",
       "Stars             0\n",
       "crypto            0\n",
       "general           0\n",
       "java              0\n",
       "networking        0\n",
       "Title             0\n",
       "Description       0\n",
       "dtype: int64"
      ]
     },
     "execution_count": 11,
     "metadata": {},
     "output_type": "execute_result"
    }
   ],
   "source": [
    "ef_data3.isna().sum()"
   ]
  },
  {
   "cell_type": "code",
   "execution_count": 12,
   "metadata": {
    "colab": {
     "base_uri": "https://localhost:8080/"
    },
    "id": "AmXQPmHq7t2p",
    "outputId": "fd390693-10db-42c6-9d8d-077390ee25be"
   },
   "outputs": [
    {
     "data": {
      "text/plain": [
       "MasterID\n",
       "0    38435\n",
       "Name: count, dtype: int64"
      ]
     },
     "execution_count": 12,
     "metadata": {},
     "output_type": "execute_result"
    }
   ],
   "source": [
    "ef_data3[\"MasterID\"].value_counts()"
   ]
  },
  {
   "cell_type": "code",
   "execution_count": 13,
   "metadata": {
    "colab": {
     "base_uri": "https://localhost:8080/"
    },
    "id": "9xxO8Qfy7tuc",
    "outputId": "8850eaa9-903d-45f2-9106-7f06c4db9688"
   },
   "outputs": [
    {
     "data": {
      "text/plain": [
       "MergeID\n",
       "0         34094\n",
       "214092       33\n",
       "240753       29\n",
       "248683       20\n",
       "236513       19\n",
       "          ...  \n",
       "234591        1\n",
       "221969        1\n",
       "196308        1\n",
       "237109        1\n",
       "108534        1\n",
       "Name: count, Length: 3382, dtype: int64"
      ]
     },
     "execution_count": 13,
     "metadata": {},
     "output_type": "execute_result"
    }
   ],
   "source": [
    "ef_data3[\"MergeID\"].value_counts()"
   ]
  },
  {
   "cell_type": "code",
   "execution_count": 14,
   "metadata": {
    "colab": {
     "base_uri": "https://localhost:8080/"
    },
    "id": "HnVeAKZa9OsS",
    "outputId": "17d6157e-68c8-49b9-e64e-66cb3bd488f3"
   },
   "outputs": [
    {
     "data": {
      "text/plain": [
       "Stars\n",
       "0    38435\n",
       "Name: count, dtype: int64"
      ]
     },
     "execution_count": 14,
     "metadata": {},
     "output_type": "execute_result"
    }
   ],
   "source": [
    "ef_data3[\"Stars\"].value_counts()"
   ]
  },
  {
   "cell_type": "code",
   "execution_count": 15,
   "metadata": {
    "colab": {
     "base_uri": "https://localhost:8080/"
    },
    "id": "pewhqZwN9dNC",
    "outputId": "34fb5bc0-12fc-431b-b9af-676c338e2dab"
   },
   "outputs": [
    {
     "data": {
      "text/plain": [
       "VersionNumber\n",
       "0.0    38435\n",
       "Name: count, dtype: int64"
      ]
     },
     "execution_count": 15,
     "metadata": {},
     "output_type": "execute_result"
    }
   ],
   "source": [
    "ef_data3[\"VersionNumber\"].value_counts()"
   ]
  },
  {
   "cell_type": "code",
   "execution_count": 16,
   "metadata": {
    "colab": {
     "base_uri": "https://localhost:8080/"
    },
    "id": "EV1_iEDI9qhc",
    "outputId": "64be155e-7a06-4bc2-905a-857ddd17d29b"
   },
   "outputs": [
    {
     "data": {
      "text/plain": [
       "Version\n",
       "unspecified    11363\n",
       "3.4             7141\n",
       "3.0             2284\n",
       "2.3.0           2210\n",
       "3.5             1825\n",
       "               ...  \n",
       "2.0 M2             1\n",
       "0.6                1\n",
       "4.4                1\n",
       "3.6.2              1\n",
       "1.1.1              1\n",
       "Name: count, Length: 167, dtype: int64"
      ]
     },
     "execution_count": 16,
     "metadata": {},
     "output_type": "execute_result"
    }
   ],
   "source": [
    "ef_data3[\"Version\"].value_counts()"
   ]
  },
  {
   "cell_type": "code",
   "execution_count": 17,
   "metadata": {
    "id": "AuNupBEZ7tmR"
   },
   "outputs": [],
   "source": [
    "ef_data4 = ef_data3.drop(columns=[\"BugID\",\"MasterID\",\"MergeID\",\"OpenDate\",\"CloseDate\",\"Stars\",\"VersionNumber\"])"
   ]
  },
  {
   "cell_type": "code",
   "execution_count": 18,
   "metadata": {
    "colab": {
     "base_uri": "https://localhost:8080/",
     "height": 926
    },
    "id": "NpbMqaTa7s-S",
    "outputId": "c862e419-b0a2-47b1-b7ac-ba553c5b16f9"
   },
   "outputs": [
    {
     "data": {
      "text/html": [
       "<div>\n",
       "<style scoped>\n",
       "    .dataframe tbody tr th:only-of-type {\n",
       "        vertical-align: middle;\n",
       "    }\n",
       "\n",
       "    .dataframe tbody tr th {\n",
       "        vertical-align: top;\n",
       "    }\n",
       "\n",
       "    .dataframe thead th {\n",
       "        text-align: right;\n",
       "    }\n",
       "</style>\n",
       "<table border=\"1\" class=\"dataframe\">\n",
       "  <thead>\n",
       "    <tr style=\"text-align: right;\">\n",
       "      <th></th>\n",
       "      <th>Product</th>\n",
       "      <th>Component</th>\n",
       "      <th>Type</th>\n",
       "      <th>Priority</th>\n",
       "      <th>PriorityNumber</th>\n",
       "      <th>Version</th>\n",
       "      <th>Status</th>\n",
       "      <th>crypto</th>\n",
       "      <th>general</th>\n",
       "      <th>java</th>\n",
       "      <th>networking</th>\n",
       "      <th>Title</th>\n",
       "      <th>Description</th>\n",
       "    </tr>\n",
       "  </thead>\n",
       "  <tbody>\n",
       "    <tr>\n",
       "      <th>0</th>\n",
       "      <td>z_Archived</td>\n",
       "      <td>STP</td>\n",
       "      <td>normal</td>\n",
       "      <td>P3</td>\n",
       "      <td>3.0</td>\n",
       "      <td>unspecified</td>\n",
       "      <td>FIXED</td>\n",
       "      <td>4.82183</td>\n",
       "      <td>5.38393</td>\n",
       "      <td>5.38393</td>\n",
       "      <td>5.38393</td>\n",
       "      <td>produce tutorial content for policy editor for...</td>\n",
       "      <td>eclipsecon 2007 has a tutorial on policy edito...</td>\n",
       "    </tr>\n",
       "    <tr>\n",
       "      <th>1</th>\n",
       "      <td>z_Archived</td>\n",
       "      <td>Cosmos</td>\n",
       "      <td>normal</td>\n",
       "      <td>P3</td>\n",
       "      <td>3.0</td>\n",
       "      <td>unspecified</td>\n",
       "      <td>FIXED</td>\n",
       "      <td>3.50751</td>\n",
       "      <td>5.10120</td>\n",
       "      <td>3.50751</td>\n",
       "      <td>3.50751</td>\n",
       "      <td>graph response viewer: table columns can not b...</td>\n",
       "      <td>table columns shown in the graph response view...</td>\n",
       "    </tr>\n",
       "    <tr>\n",
       "      <th>3</th>\n",
       "      <td>z_Archived</td>\n",
       "      <td>Cosmos</td>\n",
       "      <td>normal</td>\n",
       "      <td>P3</td>\n",
       "      <td>3.0</td>\n",
       "      <td>unspecified</td>\n",
       "      <td>FIXED</td>\n",
       "      <td>12.18324</td>\n",
       "      <td>16.71032</td>\n",
       "      <td>15.29347</td>\n",
       "      <td>12.18324</td>\n",
       "      <td>graph response viewer: improve the format of t...</td>\n",
       "      <td>should format the xml structure of the record ...</td>\n",
       "    </tr>\n",
       "    <tr>\n",
       "      <th>4</th>\n",
       "      <td>Target Management</td>\n",
       "      <td>RSE</td>\n",
       "      <td>major</td>\n",
       "      <td>P2</td>\n",
       "      <td>2.0</td>\n",
       "      <td>unspecified</td>\n",
       "      <td>FIXED</td>\n",
       "      <td>10.08601</td>\n",
       "      <td>13.12250</td>\n",
       "      <td>11.81216</td>\n",
       "      <td>11.47312</td>\n",
       "      <td>systemeditableremotefile.saveas does not work ...</td>\n",
       "      <td>created attachment 93648 plugin with junit tha...</td>\n",
       "    </tr>\n",
       "    <tr>\n",
       "      <th>5</th>\n",
       "      <td>EclipseLink</td>\n",
       "      <td>Foundation</td>\n",
       "      <td>normal</td>\n",
       "      <td>P3</td>\n",
       "      <td>3.0</td>\n",
       "      <td>1.0</td>\n",
       "      <td>FIXED</td>\n",
       "      <td>0.00000</td>\n",
       "      <td>0.00000</td>\n",
       "      <td>0.00000</td>\n",
       "      <td>0.00000</td>\n",
       "      <td>build needs to generate jars per component</td>\n",
       "      <td>these are the precursors to osgi bundles.</td>\n",
       "    </tr>\n",
       "    <tr>\n",
       "      <th>...</th>\n",
       "      <td>...</td>\n",
       "      <td>...</td>\n",
       "      <td>...</td>\n",
       "      <td>...</td>\n",
       "      <td>...</td>\n",
       "      <td>...</td>\n",
       "      <td>...</td>\n",
       "      <td>...</td>\n",
       "      <td>...</td>\n",
       "      <td>...</td>\n",
       "      <td>...</td>\n",
       "      <td>...</td>\n",
       "      <td>...</td>\n",
       "    </tr>\n",
       "    <tr>\n",
       "      <th>45229</th>\n",
       "      <td>z_Archived</td>\n",
       "      <td>Cosmos</td>\n",
       "      <td>normal</td>\n",
       "      <td>P3</td>\n",
       "      <td>3.0</td>\n",
       "      <td>unspecified</td>\n",
       "      <td>FIXED</td>\n",
       "      <td>4.21042</td>\n",
       "      <td>7.68664</td>\n",
       "      <td>6.28164</td>\n",
       "      <td>6.28164</td>\n",
       "      <td>graph response viewer: need to better decode u...</td>\n",
       "      <td>when a url is shown in the graph response view...</td>\n",
       "    </tr>\n",
       "    <tr>\n",
       "      <th>45230</th>\n",
       "      <td>JDT</td>\n",
       "      <td>Text</td>\n",
       "      <td>normal</td>\n",
       "      <td>P3</td>\n",
       "      <td>3.0</td>\n",
       "      <td>3.3.1</td>\n",
       "      <td>FIXED</td>\n",
       "      <td>4.37787</td>\n",
       "      <td>5.85958</td>\n",
       "      <td>5.85958</td>\n",
       "      <td>5.85958</td>\n",
       "      <td>[syntax highlighting] class is not colored whe...</td>\n",
       "      <td>created attachment 93646 screenshot of cot col...</td>\n",
       "    </tr>\n",
       "    <tr>\n",
       "      <th>45231</th>\n",
       "      <td>Mylyn</td>\n",
       "      <td>Tasks</td>\n",
       "      <td>enhancement</td>\n",
       "      <td>P3</td>\n",
       "      <td>3.0</td>\n",
       "      <td>unspecified</td>\n",
       "      <td>FIXED</td>\n",
       "      <td>5.41726</td>\n",
       "      <td>10.69461</td>\n",
       "      <td>7.39037</td>\n",
       "      <td>9.53942</td>\n",
       "      <td>[api] add support for pre and post task deacti...</td>\n",
       "      <td>it would be nice to have support for pre- and ...</td>\n",
       "    </tr>\n",
       "    <tr>\n",
       "      <th>45232</th>\n",
       "      <td>PDE</td>\n",
       "      <td>UI</td>\n",
       "      <td>enhancement</td>\n",
       "      <td>P3</td>\n",
       "      <td>3.0</td>\n",
       "      <td>3.4</td>\n",
       "      <td>FIXED</td>\n",
       "      <td>0.00000</td>\n",
       "      <td>8.18088</td>\n",
       "      <td>1.91619</td>\n",
       "      <td>0.70898</td>\n",
       "      <td>remove the classpath: setting</td>\n",
       "      <td>since the dawn of jarred plug-ins  setting the...</td>\n",
       "    </tr>\n",
       "    <tr>\n",
       "      <th>45233</th>\n",
       "      <td>Platform</td>\n",
       "      <td>Resources</td>\n",
       "      <td>normal</td>\n",
       "      <td>P3</td>\n",
       "      <td>3.0</td>\n",
       "      <td>3.3</td>\n",
       "      <td>DUPLICATE</td>\n",
       "      <td>8.47968</td>\n",
       "      <td>9.65786</td>\n",
       "      <td>9.65786</td>\n",
       "      <td>8.47968</td>\n",
       "      <td>files which are copied while building workspac...</td>\n",
       "      <td>build id: i20070625-1500  steps to reproduce: ...</td>\n",
       "    </tr>\n",
       "  </tbody>\n",
       "</table>\n",
       "<p>38435 rows × 13 columns</p>\n",
       "</div>"
      ],
      "text/plain": [
       "                 Product   Component         Type Priority  PriorityNumber  \\\n",
       "0             z_Archived         STP       normal       P3             3.0   \n",
       "1             z_Archived      Cosmos       normal       P3             3.0   \n",
       "3             z_Archived      Cosmos       normal       P3             3.0   \n",
       "4      Target Management         RSE        major       P2             2.0   \n",
       "5            EclipseLink  Foundation       normal       P3             3.0   \n",
       "...                  ...         ...          ...      ...             ...   \n",
       "45229         z_Archived      Cosmos       normal       P3             3.0   \n",
       "45230                JDT        Text       normal       P3             3.0   \n",
       "45231              Mylyn       Tasks  enhancement       P3             3.0   \n",
       "45232                PDE          UI  enhancement       P3             3.0   \n",
       "45233           Platform   Resources       normal       P3             3.0   \n",
       "\n",
       "           Version     Status    crypto   general      java  networking  \\\n",
       "0      unspecified      FIXED   4.82183   5.38393   5.38393     5.38393   \n",
       "1      unspecified      FIXED   3.50751   5.10120   3.50751     3.50751   \n",
       "3      unspecified      FIXED  12.18324  16.71032  15.29347    12.18324   \n",
       "4      unspecified      FIXED  10.08601  13.12250  11.81216    11.47312   \n",
       "5              1.0      FIXED   0.00000   0.00000   0.00000     0.00000   \n",
       "...            ...        ...       ...       ...       ...         ...   \n",
       "45229  unspecified      FIXED   4.21042   7.68664   6.28164     6.28164   \n",
       "45230        3.3.1      FIXED   4.37787   5.85958   5.85958     5.85958   \n",
       "45231  unspecified      FIXED   5.41726  10.69461   7.39037     9.53942   \n",
       "45232          3.4      FIXED   0.00000   8.18088   1.91619     0.70898   \n",
       "45233          3.3  DUPLICATE   8.47968   9.65786   9.65786     8.47968   \n",
       "\n",
       "                                                   Title  \\\n",
       "0      produce tutorial content for policy editor for...   \n",
       "1      graph response viewer: table columns can not b...   \n",
       "3      graph response viewer: improve the format of t...   \n",
       "4      systemeditableremotefile.saveas does not work ...   \n",
       "5             build needs to generate jars per component   \n",
       "...                                                  ...   \n",
       "45229  graph response viewer: need to better decode u...   \n",
       "45230  [syntax highlighting] class is not colored whe...   \n",
       "45231  [api] add support for pre and post task deacti...   \n",
       "45232                      remove the classpath: setting   \n",
       "45233  files which are copied while building workspac...   \n",
       "\n",
       "                                             Description  \n",
       "0      eclipsecon 2007 has a tutorial on policy edito...  \n",
       "1      table columns shown in the graph response view...  \n",
       "3      should format the xml structure of the record ...  \n",
       "4      created attachment 93648 plugin with junit tha...  \n",
       "5              these are the precursors to osgi bundles.  \n",
       "...                                                  ...  \n",
       "45229  when a url is shown in the graph response view...  \n",
       "45230  created attachment 93646 screenshot of cot col...  \n",
       "45231  it would be nice to have support for pre- and ...  \n",
       "45232  since the dawn of jarred plug-ins  setting the...  \n",
       "45233  build id: i20070625-1500  steps to reproduce: ...  \n",
       "\n",
       "[38435 rows x 13 columns]"
      ]
     },
     "execution_count": 18,
     "metadata": {},
     "output_type": "execute_result"
    }
   ],
   "source": [
    "ef_data4"
   ]
  },
  {
   "cell_type": "code",
   "execution_count": 19,
   "metadata": {
    "id": "0KBRmI6V7sey"
   },
   "outputs": [],
   "source": [
    "ef_data5 = ef_data4.reset_index(drop=True)"
   ]
  },
  {
   "cell_type": "code",
   "execution_count": 20,
   "metadata": {
    "colab": {
     "base_uri": "https://localhost:8080/"
    },
    "id": "nmjx1KY29-q0",
    "outputId": "1153f2d1-23b9-443a-96c4-0cc058e135c8"
   },
   "outputs": [
    {
     "data": {
      "text/plain": [
       "Status\n",
       "FIXED          27019\n",
       "DUPLICATE       4341\n",
       "WONTFIX         2343\n",
       "WORKSFORME      2107\n",
       "INVALID         1938\n",
       "NOT_ECLIPSE      687\n",
       "Name: count, dtype: int64"
      ]
     },
     "execution_count": 20,
     "metadata": {},
     "output_type": "execute_result"
    }
   ],
   "source": [
    "ef_data5[\"Status\"].value_counts()"
   ]
  },
  {
   "cell_type": "code",
   "execution_count": 21,
   "metadata": {
    "id": "QukKZpNq9-g3"
   },
   "outputs": [],
   "source": [
    "ef_data5[\"Status\"] = [-1 if bug_type == \"INVALID\" else 1 for bug_type in ef_data5[\"Status\"]]"
   ]
  },
  {
   "cell_type": "code",
   "execution_count": 22,
   "metadata": {
    "colab": {
     "base_uri": "https://localhost:8080/"
    },
    "id": "HsXyZ_Xd9-I-",
    "outputId": "fef246ac-080d-4f96-d692-e5fd245fd679"
   },
   "outputs": [
    {
     "data": {
      "text/plain": [
       "Status\n",
       " 1    36497\n",
       "-1     1938\n",
       "Name: count, dtype: int64"
      ]
     },
     "execution_count": 22,
     "metadata": {},
     "output_type": "execute_result"
    }
   ],
   "source": [
    "ef_data5[\"Status\"].value_counts()   ## Data is highly imbalance"
   ]
  },
  {
   "cell_type": "code",
   "execution_count": 23,
   "metadata": {
    "id": "fvykb5BW-j4G"
   },
   "outputs": [],
   "source": [
    "X = ef_data5.drop(columns = \"Status\")  ## Our input features for futher analysis"
   ]
  },
  {
   "cell_type": "code",
   "execution_count": 24,
   "metadata": {
    "colab": {
     "base_uri": "https://localhost:8080/",
     "height": 684
    },
    "id": "eshYOT5--0nj",
    "outputId": "38201518-cf29-466b-80c9-4e66f739ca03"
   },
   "outputs": [
    {
     "data": {
      "text/html": [
       "<div>\n",
       "<style scoped>\n",
       "    .dataframe tbody tr th:only-of-type {\n",
       "        vertical-align: middle;\n",
       "    }\n",
       "\n",
       "    .dataframe tbody tr th {\n",
       "        vertical-align: top;\n",
       "    }\n",
       "\n",
       "    .dataframe thead th {\n",
       "        text-align: right;\n",
       "    }\n",
       "</style>\n",
       "<table border=\"1\" class=\"dataframe\">\n",
       "  <thead>\n",
       "    <tr style=\"text-align: right;\">\n",
       "      <th></th>\n",
       "      <th>Product</th>\n",
       "      <th>Component</th>\n",
       "      <th>Type</th>\n",
       "      <th>Priority</th>\n",
       "      <th>PriorityNumber</th>\n",
       "      <th>Version</th>\n",
       "      <th>crypto</th>\n",
       "      <th>general</th>\n",
       "      <th>java</th>\n",
       "      <th>networking</th>\n",
       "      <th>Title</th>\n",
       "      <th>Description</th>\n",
       "    </tr>\n",
       "  </thead>\n",
       "  <tbody>\n",
       "    <tr>\n",
       "      <th>0</th>\n",
       "      <td>z_Archived</td>\n",
       "      <td>STP</td>\n",
       "      <td>normal</td>\n",
       "      <td>P3</td>\n",
       "      <td>3.0</td>\n",
       "      <td>unspecified</td>\n",
       "      <td>4.82183</td>\n",
       "      <td>5.38393</td>\n",
       "      <td>5.38393</td>\n",
       "      <td>5.38393</td>\n",
       "      <td>produce tutorial content for policy editor for...</td>\n",
       "      <td>eclipsecon 2007 has a tutorial on policy edito...</td>\n",
       "    </tr>\n",
       "    <tr>\n",
       "      <th>1</th>\n",
       "      <td>z_Archived</td>\n",
       "      <td>Cosmos</td>\n",
       "      <td>normal</td>\n",
       "      <td>P3</td>\n",
       "      <td>3.0</td>\n",
       "      <td>unspecified</td>\n",
       "      <td>3.50751</td>\n",
       "      <td>5.10120</td>\n",
       "      <td>3.50751</td>\n",
       "      <td>3.50751</td>\n",
       "      <td>graph response viewer: table columns can not b...</td>\n",
       "      <td>table columns shown in the graph response view...</td>\n",
       "    </tr>\n",
       "    <tr>\n",
       "      <th>2</th>\n",
       "      <td>z_Archived</td>\n",
       "      <td>Cosmos</td>\n",
       "      <td>normal</td>\n",
       "      <td>P3</td>\n",
       "      <td>3.0</td>\n",
       "      <td>unspecified</td>\n",
       "      <td>12.18324</td>\n",
       "      <td>16.71032</td>\n",
       "      <td>15.29347</td>\n",
       "      <td>12.18324</td>\n",
       "      <td>graph response viewer: improve the format of t...</td>\n",
       "      <td>should format the xml structure of the record ...</td>\n",
       "    </tr>\n",
       "    <tr>\n",
       "      <th>3</th>\n",
       "      <td>Target Management</td>\n",
       "      <td>RSE</td>\n",
       "      <td>major</td>\n",
       "      <td>P2</td>\n",
       "      <td>2.0</td>\n",
       "      <td>unspecified</td>\n",
       "      <td>10.08601</td>\n",
       "      <td>13.12250</td>\n",
       "      <td>11.81216</td>\n",
       "      <td>11.47312</td>\n",
       "      <td>systemeditableremotefile.saveas does not work ...</td>\n",
       "      <td>created attachment 93648 plugin with junit tha...</td>\n",
       "    </tr>\n",
       "    <tr>\n",
       "      <th>4</th>\n",
       "      <td>EclipseLink</td>\n",
       "      <td>Foundation</td>\n",
       "      <td>normal</td>\n",
       "      <td>P3</td>\n",
       "      <td>3.0</td>\n",
       "      <td>1.0</td>\n",
       "      <td>0.00000</td>\n",
       "      <td>0.00000</td>\n",
       "      <td>0.00000</td>\n",
       "      <td>0.00000</td>\n",
       "      <td>build needs to generate jars per component</td>\n",
       "      <td>these are the precursors to osgi bundles.</td>\n",
       "    </tr>\n",
       "    <tr>\n",
       "      <th>...</th>\n",
       "      <td>...</td>\n",
       "      <td>...</td>\n",
       "      <td>...</td>\n",
       "      <td>...</td>\n",
       "      <td>...</td>\n",
       "      <td>...</td>\n",
       "      <td>...</td>\n",
       "      <td>...</td>\n",
       "      <td>...</td>\n",
       "      <td>...</td>\n",
       "      <td>...</td>\n",
       "      <td>...</td>\n",
       "    </tr>\n",
       "    <tr>\n",
       "      <th>38430</th>\n",
       "      <td>z_Archived</td>\n",
       "      <td>Cosmos</td>\n",
       "      <td>normal</td>\n",
       "      <td>P3</td>\n",
       "      <td>3.0</td>\n",
       "      <td>unspecified</td>\n",
       "      <td>4.21042</td>\n",
       "      <td>7.68664</td>\n",
       "      <td>6.28164</td>\n",
       "      <td>6.28164</td>\n",
       "      <td>graph response viewer: need to better decode u...</td>\n",
       "      <td>when a url is shown in the graph response view...</td>\n",
       "    </tr>\n",
       "    <tr>\n",
       "      <th>38431</th>\n",
       "      <td>JDT</td>\n",
       "      <td>Text</td>\n",
       "      <td>normal</td>\n",
       "      <td>P3</td>\n",
       "      <td>3.0</td>\n",
       "      <td>3.3.1</td>\n",
       "      <td>4.37787</td>\n",
       "      <td>5.85958</td>\n",
       "      <td>5.85958</td>\n",
       "      <td>5.85958</td>\n",
       "      <td>[syntax highlighting] class is not colored whe...</td>\n",
       "      <td>created attachment 93646 screenshot of cot col...</td>\n",
       "    </tr>\n",
       "    <tr>\n",
       "      <th>38432</th>\n",
       "      <td>Mylyn</td>\n",
       "      <td>Tasks</td>\n",
       "      <td>enhancement</td>\n",
       "      <td>P3</td>\n",
       "      <td>3.0</td>\n",
       "      <td>unspecified</td>\n",
       "      <td>5.41726</td>\n",
       "      <td>10.69461</td>\n",
       "      <td>7.39037</td>\n",
       "      <td>9.53942</td>\n",
       "      <td>[api] add support for pre and post task deacti...</td>\n",
       "      <td>it would be nice to have support for pre- and ...</td>\n",
       "    </tr>\n",
       "    <tr>\n",
       "      <th>38433</th>\n",
       "      <td>PDE</td>\n",
       "      <td>UI</td>\n",
       "      <td>enhancement</td>\n",
       "      <td>P3</td>\n",
       "      <td>3.0</td>\n",
       "      <td>3.4</td>\n",
       "      <td>0.00000</td>\n",
       "      <td>8.18088</td>\n",
       "      <td>1.91619</td>\n",
       "      <td>0.70898</td>\n",
       "      <td>remove the classpath: setting</td>\n",
       "      <td>since the dawn of jarred plug-ins  setting the...</td>\n",
       "    </tr>\n",
       "    <tr>\n",
       "      <th>38434</th>\n",
       "      <td>Platform</td>\n",
       "      <td>Resources</td>\n",
       "      <td>normal</td>\n",
       "      <td>P3</td>\n",
       "      <td>3.0</td>\n",
       "      <td>3.3</td>\n",
       "      <td>8.47968</td>\n",
       "      <td>9.65786</td>\n",
       "      <td>9.65786</td>\n",
       "      <td>8.47968</td>\n",
       "      <td>files which are copied while building workspac...</td>\n",
       "      <td>build id: i20070625-1500  steps to reproduce: ...</td>\n",
       "    </tr>\n",
       "  </tbody>\n",
       "</table>\n",
       "<p>38435 rows × 12 columns</p>\n",
       "</div>"
      ],
      "text/plain": [
       "                 Product   Component         Type Priority  PriorityNumber  \\\n",
       "0             z_Archived         STP       normal       P3             3.0   \n",
       "1             z_Archived      Cosmos       normal       P3             3.0   \n",
       "2             z_Archived      Cosmos       normal       P3             3.0   \n",
       "3      Target Management         RSE        major       P2             2.0   \n",
       "4            EclipseLink  Foundation       normal       P3             3.0   \n",
       "...                  ...         ...          ...      ...             ...   \n",
       "38430         z_Archived      Cosmos       normal       P3             3.0   \n",
       "38431                JDT        Text       normal       P3             3.0   \n",
       "38432              Mylyn       Tasks  enhancement       P3             3.0   \n",
       "38433                PDE          UI  enhancement       P3             3.0   \n",
       "38434           Platform   Resources       normal       P3             3.0   \n",
       "\n",
       "           Version    crypto   general      java  networking  \\\n",
       "0      unspecified   4.82183   5.38393   5.38393     5.38393   \n",
       "1      unspecified   3.50751   5.10120   3.50751     3.50751   \n",
       "2      unspecified  12.18324  16.71032  15.29347    12.18324   \n",
       "3      unspecified  10.08601  13.12250  11.81216    11.47312   \n",
       "4              1.0   0.00000   0.00000   0.00000     0.00000   \n",
       "...            ...       ...       ...       ...         ...   \n",
       "38430  unspecified   4.21042   7.68664   6.28164     6.28164   \n",
       "38431        3.3.1   4.37787   5.85958   5.85958     5.85958   \n",
       "38432  unspecified   5.41726  10.69461   7.39037     9.53942   \n",
       "38433          3.4   0.00000   8.18088   1.91619     0.70898   \n",
       "38434          3.3   8.47968   9.65786   9.65786     8.47968   \n",
       "\n",
       "                                                   Title  \\\n",
       "0      produce tutorial content for policy editor for...   \n",
       "1      graph response viewer: table columns can not b...   \n",
       "2      graph response viewer: improve the format of t...   \n",
       "3      systemeditableremotefile.saveas does not work ...   \n",
       "4             build needs to generate jars per component   \n",
       "...                                                  ...   \n",
       "38430  graph response viewer: need to better decode u...   \n",
       "38431  [syntax highlighting] class is not colored whe...   \n",
       "38432  [api] add support for pre and post task deacti...   \n",
       "38433                      remove the classpath: setting   \n",
       "38434  files which are copied while building workspac...   \n",
       "\n",
       "                                             Description  \n",
       "0      eclipsecon 2007 has a tutorial on policy edito...  \n",
       "1      table columns shown in the graph response view...  \n",
       "2      should format the xml structure of the record ...  \n",
       "3      created attachment 93648 plugin with junit tha...  \n",
       "4              these are the precursors to osgi bundles.  \n",
       "...                                                  ...  \n",
       "38430  when a url is shown in the graph response view...  \n",
       "38431  created attachment 93646 screenshot of cot col...  \n",
       "38432  it would be nice to have support for pre- and ...  \n",
       "38433  since the dawn of jarred plug-ins  setting the...  \n",
       "38434  build id: i20070625-1500  steps to reproduce: ...  \n",
       "\n",
       "[38435 rows x 12 columns]"
      ]
     },
     "execution_count": 24,
     "metadata": {},
     "output_type": "execute_result"
    }
   ],
   "source": [
    "X"
   ]
  },
  {
   "cell_type": "code",
   "execution_count": 25,
   "metadata": {
    "id": "SBmAbrWs-1OQ"
   },
   "outputs": [],
   "source": [
    "Bug_details = []\n",
    "for i in range(len(X)):\n",
    "  Bug_detail = ' '.join(str(detail) for detail in X.iloc[i,0:12])\n",
    "  Bug_details.append(Bug_detail)"
   ]
  },
  {
   "cell_type": "code",
   "execution_count": 26,
   "metadata": {
    "colab": {
     "base_uri": "https://localhost:8080/",
     "height": 128
    },
    "id": "TF8KtY5O_PSg",
    "outputId": "6bbf074a-ef57-4fd4-9e89-971cf567a6cb"
   },
   "outputs": [
    {
     "data": {
      "text/plain": [
       "'Target Management RSE major P2 2.0 unspecified 10.08601 13.1225 11.81216 11.47312 systemeditableremotefile.saveas does not work because fileservicesubsytem.upload does invalid check created attachment 93648 plugin with junit that demonstrates the error  build id: i20080207-1530  steps to reproduce: 1. detach the project that has been included with this bug 2. right click on class saveaserror and run a junit plug-in test 3. when prompted  select any *.txt file on your local machine (this testcase will attempt to save the *.txt file to the name *.txt.saveastest in the same folder as the selected object) 4. press ok 5. you will then see an error appear (rseg8002). 6. press ok. testcase fails  and the file was not saved to the new name.  more information: the save as operation fails for editors that implement isystemtexteditor and use systemeditableremotefile.saveas method. the reason for this seems to be that the fileservicesubsystem.upload method that gets eventually called does the following check: if (!destination.canwrite())  however  this check is not valid in the save as scenario as the destination file does not yet exist and canwrite returns false (this has been tested for local files and uss files).  i think this check should instead: a1) check if the destination exists   b1) if so  check for canwrite   b2) if not  check for canwrite on parent'"
      ]
     },
     "execution_count": 26,
     "metadata": {},
     "output_type": "execute_result"
    }
   ],
   "source": [
    "Bug_details[3]"
   ]
  },
  {
   "cell_type": "code",
   "execution_count": 27,
   "metadata": {
    "id": "PZoXPbPl_dp1"
   },
   "outputs": [],
   "source": [
    "import nltk\n",
    "import re\n",
    "from nltk.corpus import stopwords\n",
    "from nltk.stem.porter import PorterStemmer\n",
    "from nltk.stem import WordNetLemmatizer"
   ]
  },
  {
   "cell_type": "code",
   "execution_count": 28,
   "metadata": {
    "colab": {
     "base_uri": "https://localhost:8080/"
    },
    "id": "c-_vNKtqCamk",
    "outputId": "6310ddc8-b43a-4a55-808a-bf1983883935"
   },
   "outputs": [
    {
     "name": "stderr",
     "output_type": "stream",
     "text": [
      "[nltk_data] Downloading package punkt to\n",
      "[nltk_data]     C:\\Users\\amanv\\AppData\\Roaming\\nltk_data...\n",
      "[nltk_data]   Unzipping tokenizers\\punkt.zip.\n"
     ]
    },
    {
     "data": {
      "text/plain": [
       "True"
      ]
     },
     "execution_count": 28,
     "metadata": {},
     "output_type": "execute_result"
    }
   ],
   "source": [
    "nltk.download('punkt')"
   ]
  },
  {
   "cell_type": "code",
   "execution_count": 29,
   "metadata": {
    "colab": {
     "base_uri": "https://localhost:8080/"
    },
    "id": "6QoTboQrCcTN",
    "outputId": "c47f1946-2d37-4fe5-f302-dd794e64c4a2"
   },
   "outputs": [
    {
     "name": "stderr",
     "output_type": "stream",
     "text": [
      "[nltk_data] Downloading package stopwords to\n",
      "[nltk_data]     C:\\Users\\amanv\\AppData\\Roaming\\nltk_data...\n",
      "[nltk_data]   Unzipping corpora\\stopwords.zip.\n"
     ]
    },
    {
     "data": {
      "text/plain": [
       "True"
      ]
     },
     "execution_count": 29,
     "metadata": {},
     "output_type": "execute_result"
    }
   ],
   "source": [
    "nltk.download('stopwords')"
   ]
  },
  {
   "cell_type": "code",
   "execution_count": 30,
   "metadata": {
    "colab": {
     "base_uri": "https://localhost:8080/"
    },
    "id": "rJVLOvDHCeO3",
    "outputId": "7437f22e-ef92-4786-92e0-e5e1ac4b35a7"
   },
   "outputs": [
    {
     "name": "stderr",
     "output_type": "stream",
     "text": [
      "[nltk_data] Downloading package wordnet to\n",
      "[nltk_data]     C:\\Users\\amanv\\AppData\\Roaming\\nltk_data...\n"
     ]
    },
    {
     "data": {
      "text/plain": [
       "True"
      ]
     },
     "execution_count": 30,
     "metadata": {},
     "output_type": "execute_result"
    }
   ],
   "source": [
    "nltk.download('wordnet')"
   ]
  },
  {
   "cell_type": "code",
   "execution_count": 31,
   "metadata": {
    "id": "RBUIbaRsCgM2"
   },
   "outputs": [],
   "source": [
    "Lemmatizer = WordNetLemmatizer()"
   ]
  },
  {
   "cell_type": "code",
   "execution_count": 32,
   "metadata": {
    "id": "kHGwyW-SCh6x"
   },
   "outputs": [],
   "source": [
    "bug_details_cleaned = []\n",
    "\n",
    "for i in range(len(Bug_details)):\n",
    "    bug_detail = Bug_details[i]\n",
    "    bug_detail = re.sub(r'\\(\\d{1,2}/\\d{1,2}/\\d{4} \\d{1,2}:\\d{1,2}:\\d{1,2} [APMapm]{2}\\);', '', bug_detail)\n",
    "    bug_detail_words = nltk.word_tokenize(bug_detail)\n",
    "    bug_detail_words = [Lemmatizer.lemmatize(word) for word in bug_detail_words if word not in set(stopwords.words('english'))]\n",
    "    bug_detail = ' '.join(bug_detail_words)\n",
    "    bug_detail = bug_detail.lower()\n",
    "    bug_details_cleaned.append(bug_detail)"
   ]
  },
  {
   "cell_type": "code",
   "execution_count": 33,
   "metadata": {
    "colab": {
     "base_uri": "https://localhost:8080/",
     "height": 55
    },
    "id": "XSKWkdOkCrOF",
    "outputId": "b19fca70-b6e8-4ad7-85d8-4c35a7bd8f7c"
   },
   "outputs": [
    {
     "data": {
      "text/plain": [
       "'z_archived cosmos normal p3 3.0 unspecified 12.18324 16.71032 15.29347 12.18324 graph response viewer : improve format xml format xml structure record content . format happen demand . user expands node call javascript function format xml string store formatted string back store .'"
      ]
     },
     "execution_count": 33,
     "metadata": {},
     "output_type": "execute_result"
    }
   ],
   "source": [
    "bug_details_cleaned[2]"
   ]
  },
  {
   "cell_type": "code",
   "execution_count": 34,
   "metadata": {
    "id": "A9EJImdgF5xd"
   },
   "outputs": [],
   "source": [
    "word_count = [len(bug_detail) for bug_detail in bug_details_cleaned]"
   ]
  },
  {
   "cell_type": "code",
   "execution_count": 35,
   "metadata": {
    "id": "EyH31yx1GBuu"
   },
   "outputs": [],
   "source": [
    "ef_des_df = pd.DataFrame({\n",
    "                            \"Description\" : bug_details_cleaned,\n",
    "                            \"Description_length\" : word_count\n",
    "\n",
    "\n",
    "})"
   ]
  },
  {
   "cell_type": "code",
   "execution_count": 36,
   "metadata": {
    "colab": {
     "base_uri": "https://localhost:8080/",
     "height": 423
    },
    "id": "aJItPC6VGIIu",
    "outputId": "5f365f9d-0c49-48de-975d-17c0f4c4a330"
   },
   "outputs": [
    {
     "data": {
      "text/html": [
       "<div>\n",
       "<style scoped>\n",
       "    .dataframe tbody tr th:only-of-type {\n",
       "        vertical-align: middle;\n",
       "    }\n",
       "\n",
       "    .dataframe tbody tr th {\n",
       "        vertical-align: top;\n",
       "    }\n",
       "\n",
       "    .dataframe thead th {\n",
       "        text-align: right;\n",
       "    }\n",
       "</style>\n",
       "<table border=\"1\" class=\"dataframe\">\n",
       "  <thead>\n",
       "    <tr style=\"text-align: right;\">\n",
       "      <th></th>\n",
       "      <th>Description</th>\n",
       "      <th>Description_length</th>\n",
       "    </tr>\n",
       "  </thead>\n",
       "  <tbody>\n",
       "    <tr>\n",
       "      <th>0</th>\n",
       "      <td>z_archived stp normal p3 3.0 unspecified 4.821...</td>\n",
       "      <td>282</td>\n",
       "    </tr>\n",
       "    <tr>\n",
       "      <th>1</th>\n",
       "      <td>z_archived cosmos normal p3 3.0 unspecified 3....</td>\n",
       "      <td>168</td>\n",
       "    </tr>\n",
       "    <tr>\n",
       "      <th>2</th>\n",
       "      <td>z_archived cosmos normal p3 3.0 unspecified 12...</td>\n",
       "      <td>280</td>\n",
       "    </tr>\n",
       "    <tr>\n",
       "      <th>3</th>\n",
       "      <td>target management rse major p2 2.0 unspecified...</td>\n",
       "      <td>1020</td>\n",
       "    </tr>\n",
       "    <tr>\n",
       "      <th>4</th>\n",
       "      <td>eclipselink foundation normal p3 3.0 1.0 0.0 0...</td>\n",
       "      <td>118</td>\n",
       "    </tr>\n",
       "    <tr>\n",
       "      <th>...</th>\n",
       "      <td>...</td>\n",
       "      <td>...</td>\n",
       "    </tr>\n",
       "    <tr>\n",
       "      <th>38430</th>\n",
       "      <td>z_archived cosmos normal p3 3.0 unspecified 4....</td>\n",
       "      <td>233</td>\n",
       "    </tr>\n",
       "    <tr>\n",
       "      <th>38431</th>\n",
       "      <td>jdt text normal p3 3.0 3.3.1 4.37787 5.85958 5...</td>\n",
       "      <td>406</td>\n",
       "    </tr>\n",
       "    <tr>\n",
       "      <th>38432</th>\n",
       "      <td>mylyn tasks enhancement p3 3.0 unspecified 5.4...</td>\n",
       "      <td>473</td>\n",
       "    </tr>\n",
       "    <tr>\n",
       "      <th>38433</th>\n",
       "      <td>pde ui enhancement p3 3.0 3.4 0.0 8.18088 1.91...</td>\n",
       "      <td>259</td>\n",
       "    </tr>\n",
       "    <tr>\n",
       "      <th>38434</th>\n",
       "      <td>platform resources normal p3 3.0 3.3 8.47968 9...</td>\n",
       "      <td>673</td>\n",
       "    </tr>\n",
       "  </tbody>\n",
       "</table>\n",
       "<p>38435 rows × 2 columns</p>\n",
       "</div>"
      ],
      "text/plain": [
       "                                             Description  Description_length\n",
       "0      z_archived stp normal p3 3.0 unspecified 4.821...                 282\n",
       "1      z_archived cosmos normal p3 3.0 unspecified 3....                 168\n",
       "2      z_archived cosmos normal p3 3.0 unspecified 12...                 280\n",
       "3      target management rse major p2 2.0 unspecified...                1020\n",
       "4      eclipselink foundation normal p3 3.0 1.0 0.0 0...                 118\n",
       "...                                                  ...                 ...\n",
       "38430  z_archived cosmos normal p3 3.0 unspecified 4....                 233\n",
       "38431  jdt text normal p3 3.0 3.3.1 4.37787 5.85958 5...                 406\n",
       "38432  mylyn tasks enhancement p3 3.0 unspecified 5.4...                 473\n",
       "38433  pde ui enhancement p3 3.0 3.4 0.0 8.18088 1.91...                 259\n",
       "38434  platform resources normal p3 3.0 3.3 8.47968 9...                 673\n",
       "\n",
       "[38435 rows x 2 columns]"
      ]
     },
     "execution_count": 36,
     "metadata": {},
     "output_type": "execute_result"
    }
   ],
   "source": [
    "ef_des_df"
   ]
  },
  {
   "cell_type": "code",
   "execution_count": 37,
   "metadata": {
    "colab": {
     "base_uri": "https://localhost:8080/"
    },
    "id": "Bh6MKKu1GKox",
    "outputId": "63c86283-722a-4051-ff4e-5e5fde3450cd"
   },
   "outputs": [
    {
     "data": {
      "text/plain": [
       "count    38435.000000\n",
       "mean      1012.210329\n",
       "std       2445.653323\n",
       "min         57.000000\n",
       "25%        283.000000\n",
       "50%        438.000000\n",
       "75%        766.000000\n",
       "max      72777.000000\n",
       "Name: Description_length, dtype: float64"
      ]
     },
     "execution_count": 37,
     "metadata": {},
     "output_type": "execute_result"
    }
   ],
   "source": [
    "ef_des_df[\"Description_length\"].describe()"
   ]
  },
  {
   "cell_type": "code",
   "execution_count": 39,
   "metadata": {
    "id": "Z1p3p03YYHMP"
   },
   "outputs": [],
   "source": [
    "import tensorflow as tf"
   ]
  },
  {
   "cell_type": "code",
   "execution_count": 40,
   "metadata": {
    "id": "kD-y1gIyYAeg"
   },
   "outputs": [],
   "source": [
    "from tensorflow.keras.preprocessing.text import one_hot\n",
    "from tensorflow.keras.layers import Embedding\n",
    "from tensorflow.keras.preprocessing.sequence import pad_sequences"
   ]
  },
  {
   "cell_type": "code",
   "execution_count": 41,
   "metadata": {
    "id": "7ySVxm62QpdC"
   },
   "outputs": [],
   "source": [
    "voc_size = 10000\n",
    "one_hot_representation = [one_hot(news,voc_size) for news in bug_details_cleaned]"
   ]
  },
  {
   "cell_type": "code",
   "execution_count": 42,
   "metadata": {
    "colab": {
     "base_uri": "https://localhost:8080/"
    },
    "id": "Zgrg_L68YIsH",
    "outputId": "6779f58c-3e1d-4b70-dcbd-0c3614dbba25"
   },
   "outputs": [
    {
     "name": "stdout",
     "output_type": "stream",
     "text": [
      "[[   0    0    0 ... 6244 2240 5249]\n",
      " [   0    0    0 ... 3028 3930 7027]\n",
      " [   0    0    0 ... 4529 9281 4357]\n",
      " ...\n",
      " [   0    0    0 ... 9622 2562 1656]\n",
      " [   0    0    0 ... 1911 1410 5952]\n",
      " [   0    0    0 ... 2751 8693 2331]]\n"
     ]
    }
   ],
   "source": [
    "sentence_length = 1113\n",
    "embedded_doc = pad_sequences(one_hot_representation,padding='pre',maxlen=sentence_length)\n",
    "print(embedded_doc)"
   ]
  },
  {
   "cell_type": "code",
   "execution_count": 43,
   "metadata": {
    "id": "8j3PmIz2YXBH"
   },
   "outputs": [],
   "source": [
    "X = np.array(embedded_doc)\n",
    "y = np.array(ef_data5[\"Status\"])"
   ]
  },
  {
   "cell_type": "code",
   "execution_count": 45,
   "metadata": {
    "id": "QKCM-vKjYpGU"
   },
   "outputs": [],
   "source": [
    "from sklearn.model_selection import train_test_split\n",
    "X_train,X_test,y_train,y_test = train_test_split(X,y,test_size=0.30,random_state=42)"
   ]
  },
  {
   "cell_type": "markdown",
   "metadata": {
    "id": "ttl_Vql-ZQ0a"
   },
   "source": [
    "## Support Vector Classifier"
   ]
  },
  {
   "cell_type": "code",
   "execution_count": 48,
   "metadata": {
    "id": "BxKyVOYJY8SO"
   },
   "outputs": [],
   "source": [
    "from sklearn.svm import SVC\n",
    "from sklearn.metrics import accuracy_score, precision_score, recall_score, f1_score"
   ]
  },
  {
   "cell_type": "code",
   "execution_count": 44,
   "metadata": {
    "colab": {
     "base_uri": "https://localhost:8080/",
     "height": 75
    },
    "id": "TOEiutq5YxIs",
    "outputId": "759f53bc-6344-4fb4-b0a3-07d29b47676d"
   },
   "outputs": [
    {
     "data": {
      "text/html": [
       "<style>#sk-container-id-1 {color: black;}#sk-container-id-1 pre{padding: 0;}#sk-container-id-1 div.sk-toggleable {background-color: white;}#sk-container-id-1 label.sk-toggleable__label {cursor: pointer;display: block;width: 100%;margin-bottom: 0;padding: 0.3em;box-sizing: border-box;text-align: center;}#sk-container-id-1 label.sk-toggleable__label-arrow:before {content: \"▸\";float: left;margin-right: 0.25em;color: #696969;}#sk-container-id-1 label.sk-toggleable__label-arrow:hover:before {color: black;}#sk-container-id-1 div.sk-estimator:hover label.sk-toggleable__label-arrow:before {color: black;}#sk-container-id-1 div.sk-toggleable__content {max-height: 0;max-width: 0;overflow: hidden;text-align: left;background-color: #f0f8ff;}#sk-container-id-1 div.sk-toggleable__content pre {margin: 0.2em;color: black;border-radius: 0.25em;background-color: #f0f8ff;}#sk-container-id-1 input.sk-toggleable__control:checked~div.sk-toggleable__content {max-height: 200px;max-width: 100%;overflow: auto;}#sk-container-id-1 input.sk-toggleable__control:checked~label.sk-toggleable__label-arrow:before {content: \"▾\";}#sk-container-id-1 div.sk-estimator input.sk-toggleable__control:checked~label.sk-toggleable__label {background-color: #d4ebff;}#sk-container-id-1 div.sk-label input.sk-toggleable__control:checked~label.sk-toggleable__label {background-color: #d4ebff;}#sk-container-id-1 input.sk-hidden--visually {border: 0;clip: rect(1px 1px 1px 1px);clip: rect(1px, 1px, 1px, 1px);height: 1px;margin: -1px;overflow: hidden;padding: 0;position: absolute;width: 1px;}#sk-container-id-1 div.sk-estimator {font-family: monospace;background-color: #f0f8ff;border: 1px dotted black;border-radius: 0.25em;box-sizing: border-box;margin-bottom: 0.5em;}#sk-container-id-1 div.sk-estimator:hover {background-color: #d4ebff;}#sk-container-id-1 div.sk-parallel-item::after {content: \"\";width: 100%;border-bottom: 1px solid gray;flex-grow: 1;}#sk-container-id-1 div.sk-label:hover label.sk-toggleable__label {background-color: #d4ebff;}#sk-container-id-1 div.sk-serial::before {content: \"\";position: absolute;border-left: 1px solid gray;box-sizing: border-box;top: 0;bottom: 0;left: 50%;z-index: 0;}#sk-container-id-1 div.sk-serial {display: flex;flex-direction: column;align-items: center;background-color: white;padding-right: 0.2em;padding-left: 0.2em;position: relative;}#sk-container-id-1 div.sk-item {position: relative;z-index: 1;}#sk-container-id-1 div.sk-parallel {display: flex;align-items: stretch;justify-content: center;background-color: white;position: relative;}#sk-container-id-1 div.sk-item::before, #sk-container-id-1 div.sk-parallel-item::before {content: \"\";position: absolute;border-left: 1px solid gray;box-sizing: border-box;top: 0;bottom: 0;left: 50%;z-index: -1;}#sk-container-id-1 div.sk-parallel-item {display: flex;flex-direction: column;z-index: 1;position: relative;background-color: white;}#sk-container-id-1 div.sk-parallel-item:first-child::after {align-self: flex-end;width: 50%;}#sk-container-id-1 div.sk-parallel-item:last-child::after {align-self: flex-start;width: 50%;}#sk-container-id-1 div.sk-parallel-item:only-child::after {width: 0;}#sk-container-id-1 div.sk-dashed-wrapped {border: 1px dashed gray;margin: 0 0.4em 0.5em 0.4em;box-sizing: border-box;padding-bottom: 0.4em;background-color: white;}#sk-container-id-1 div.sk-label label {font-family: monospace;font-weight: bold;display: inline-block;line-height: 1.2em;}#sk-container-id-1 div.sk-label-container {text-align: center;}#sk-container-id-1 div.sk-container {/* jupyter's `normalize.less` sets `[hidden] { display: none; }` but bootstrap.min.css set `[hidden] { display: none !important; }` so we also need the `!important` here to be able to override the default hidden behavior on the sphinx rendered scikit-learn.org. See: https://github.com/scikit-learn/scikit-learn/issues/21755 */display: inline-block !important;position: relative;}#sk-container-id-1 div.sk-text-repr-fallback {display: none;}</style><div id=\"sk-container-id-1\" class=\"sk-top-container\"><div class=\"sk-text-repr-fallback\"><pre>SVC()</pre><b>In a Jupyter environment, please rerun this cell to show the HTML representation or trust the notebook. <br />On GitHub, the HTML representation is unable to render, please try loading this page with nbviewer.org.</b></div><div class=\"sk-container\" hidden><div class=\"sk-item\"><div class=\"sk-estimator sk-toggleable\"><input class=\"sk-toggleable__control sk-hidden--visually\" id=\"sk-estimator-id-1\" type=\"checkbox\" checked><label for=\"sk-estimator-id-1\" class=\"sk-toggleable__label sk-toggleable__label-arrow\">SVC</label><div class=\"sk-toggleable__content\"><pre>SVC()</pre></div></div></div></div></div>"
      ],
      "text/plain": [
       "SVC()"
      ]
     },
     "execution_count": 44,
     "metadata": {},
     "output_type": "execute_result"
    }
   ],
   "source": [
    "svm_model = SVC(kernel='rbf')\n",
    "svm_model.fit(X_train, y_train)"
   ]
  },
  {
   "cell_type": "code",
   "execution_count": 45,
   "metadata": {
    "id": "MLxtHUH0ZKTv"
   },
   "outputs": [],
   "source": [
    "predictions_rbf = svm_model.predict(X_test)\n"
   ]
  },
  {
   "cell_type": "code",
   "execution_count": 46,
   "metadata": {
    "id": "kiys9p6mZ5ZQ"
   },
   "outputs": [],
   "source": [
    "accuracy = accuracy_score(y_test, predictions_rbf)\n",
    "precision = precision_score(y_test, predictions_rbf)\n",
    "recall = recall_score(y_test, predictions_rbf)\n",
    "f1 = f1_score(y_test, predictions_rbf)\n"
   ]
  },
  {
   "cell_type": "code",
   "execution_count": 47,
   "metadata": {
    "colab": {
     "base_uri": "https://localhost:8080/"
    },
    "id": "3CY6xktrZ8BX",
    "outputId": "89e946e7-3ac2-4631-b50f-6b8b0fac74c6"
   },
   "outputs": [
    {
     "name": "stdout",
     "output_type": "stream",
     "text": [
      "Accuracy: 94.86%\n",
      "Precision: 0.95\n",
      "Recall: 1.00\n",
      "F1 Score: 0.97\n"
     ]
    }
   ],
   "source": [
    "\n",
    "print(f\"Accuracy: {accuracy * 100:.2f}%\")\n",
    "print(f\"Precision: {precision:.2f}\")\n",
    "print(f\"Recall: {recall:.2f}\")\n",
    "print(f\"F1 Score: {f1:.2f}\")"
   ]
  },
  {
   "cell_type": "markdown",
   "metadata": {
    "id": "vuggn9ZTaTbe"
   },
   "source": [
    "## Linear Discriminant Analysis"
   ]
  },
  {
   "cell_type": "code",
   "execution_count": 85,
   "metadata": {
    "id": "H0SkmitYaGKW"
   },
   "outputs": [],
   "source": [
    "from sklearn.discriminant_analysis import LinearDiscriminantAnalysis"
   ]
  },
  {
   "cell_type": "code",
   "execution_count": 86,
   "metadata": {
    "id": "igKvJpbyaw8h"
   },
   "outputs": [],
   "source": [
    "lda_model = LinearDiscriminantAnalysis()"
   ]
  },
  {
   "cell_type": "code",
   "execution_count": 87,
   "metadata": {
    "colab": {
     "base_uri": "https://localhost:8080/",
     "height": 75
    },
    "id": "DjBq9-V0awwh",
    "outputId": "886e488e-c0a2-49d5-fc40-602ccbec9026"
   },
   "outputs": [
    {
     "data": {
      "text/html": [
       "<style>#sk-container-id-2 {color: black;background-color: white;}#sk-container-id-2 pre{padding: 0;}#sk-container-id-2 div.sk-toggleable {background-color: white;}#sk-container-id-2 label.sk-toggleable__label {cursor: pointer;display: block;width: 100%;margin-bottom: 0;padding: 0.3em;box-sizing: border-box;text-align: center;}#sk-container-id-2 label.sk-toggleable__label-arrow:before {content: \"▸\";float: left;margin-right: 0.25em;color: #696969;}#sk-container-id-2 label.sk-toggleable__label-arrow:hover:before {color: black;}#sk-container-id-2 div.sk-estimator:hover label.sk-toggleable__label-arrow:before {color: black;}#sk-container-id-2 div.sk-toggleable__content {max-height: 0;max-width: 0;overflow: hidden;text-align: left;background-color: #f0f8ff;}#sk-container-id-2 div.sk-toggleable__content pre {margin: 0.2em;color: black;border-radius: 0.25em;background-color: #f0f8ff;}#sk-container-id-2 input.sk-toggleable__control:checked~div.sk-toggleable__content {max-height: 200px;max-width: 100%;overflow: auto;}#sk-container-id-2 input.sk-toggleable__control:checked~label.sk-toggleable__label-arrow:before {content: \"▾\";}#sk-container-id-2 div.sk-estimator input.sk-toggleable__control:checked~label.sk-toggleable__label {background-color: #d4ebff;}#sk-container-id-2 div.sk-label input.sk-toggleable__control:checked~label.sk-toggleable__label {background-color: #d4ebff;}#sk-container-id-2 input.sk-hidden--visually {border: 0;clip: rect(1px 1px 1px 1px);clip: rect(1px, 1px, 1px, 1px);height: 1px;margin: -1px;overflow: hidden;padding: 0;position: absolute;width: 1px;}#sk-container-id-2 div.sk-estimator {font-family: monospace;background-color: #f0f8ff;border: 1px dotted black;border-radius: 0.25em;box-sizing: border-box;margin-bottom: 0.5em;}#sk-container-id-2 div.sk-estimator:hover {background-color: #d4ebff;}#sk-container-id-2 div.sk-parallel-item::after {content: \"\";width: 100%;border-bottom: 1px solid gray;flex-grow: 1;}#sk-container-id-2 div.sk-label:hover label.sk-toggleable__label {background-color: #d4ebff;}#sk-container-id-2 div.sk-serial::before {content: \"\";position: absolute;border-left: 1px solid gray;box-sizing: border-box;top: 0;bottom: 0;left: 50%;z-index: 0;}#sk-container-id-2 div.sk-serial {display: flex;flex-direction: column;align-items: center;background-color: white;padding-right: 0.2em;padding-left: 0.2em;position: relative;}#sk-container-id-2 div.sk-item {position: relative;z-index: 1;}#sk-container-id-2 div.sk-parallel {display: flex;align-items: stretch;justify-content: center;background-color: white;position: relative;}#sk-container-id-2 div.sk-item::before, #sk-container-id-2 div.sk-parallel-item::before {content: \"\";position: absolute;border-left: 1px solid gray;box-sizing: border-box;top: 0;bottom: 0;left: 50%;z-index: -1;}#sk-container-id-2 div.sk-parallel-item {display: flex;flex-direction: column;z-index: 1;position: relative;background-color: white;}#sk-container-id-2 div.sk-parallel-item:first-child::after {align-self: flex-end;width: 50%;}#sk-container-id-2 div.sk-parallel-item:last-child::after {align-self: flex-start;width: 50%;}#sk-container-id-2 div.sk-parallel-item:only-child::after {width: 0;}#sk-container-id-2 div.sk-dashed-wrapped {border: 1px dashed gray;margin: 0 0.4em 0.5em 0.4em;box-sizing: border-box;padding-bottom: 0.4em;background-color: white;}#sk-container-id-2 div.sk-label label {font-family: monospace;font-weight: bold;display: inline-block;line-height: 1.2em;}#sk-container-id-2 div.sk-label-container {text-align: center;}#sk-container-id-2 div.sk-container {/* jupyter's `normalize.less` sets `[hidden] { display: none; }` but bootstrap.min.css set `[hidden] { display: none !important; }` so we also need the `!important` here to be able to override the default hidden behavior on the sphinx rendered scikit-learn.org. See: https://github.com/scikit-learn/scikit-learn/issues/21755 */display: inline-block !important;position: relative;}#sk-container-id-2 div.sk-text-repr-fallback {display: none;}</style><div id=\"sk-container-id-2\" class=\"sk-top-container\"><div class=\"sk-text-repr-fallback\"><pre>LinearDiscriminantAnalysis()</pre><b>In a Jupyter environment, please rerun this cell to show the HTML representation or trust the notebook. <br />On GitHub, the HTML representation is unable to render, please try loading this page with nbviewer.org.</b></div><div class=\"sk-container\" hidden><div class=\"sk-item\"><div class=\"sk-estimator sk-toggleable\"><input class=\"sk-toggleable__control sk-hidden--visually\" id=\"sk-estimator-id-2\" type=\"checkbox\" checked><label for=\"sk-estimator-id-2\" class=\"sk-toggleable__label sk-toggleable__label-arrow\">LinearDiscriminantAnalysis</label><div class=\"sk-toggleable__content\"><pre>LinearDiscriminantAnalysis()</pre></div></div></div></div></div>"
      ],
      "text/plain": [
       "LinearDiscriminantAnalysis()"
      ]
     },
     "execution_count": 87,
     "metadata": {},
     "output_type": "execute_result"
    }
   ],
   "source": [
    "lda_model.fit(X_train, y_train)"
   ]
  },
  {
   "cell_type": "code",
   "execution_count": 88,
   "metadata": {
    "id": "LZmVkfySawnC"
   },
   "outputs": [],
   "source": [
    "predictions_lda = lda_model.predict(X_test)"
   ]
  },
  {
   "cell_type": "code",
   "execution_count": 89,
   "metadata": {
    "id": "PgCO8N0xawcV"
   },
   "outputs": [],
   "source": [
    "accuracy = accuracy_score(y_test, predictions_lda)\n",
    "precision = precision_score(y_test, predictions_lda)\n",
    "recall = recall_score(y_test, predictions_lda)\n",
    "f1 = f1_score(y_test, predictions_lda)"
   ]
  },
  {
   "cell_type": "code",
   "execution_count": 90,
   "metadata": {
    "colab": {
     "base_uri": "https://localhost:8080/"
    },
    "id": "VnQy3chiawL-",
    "outputId": "8473029a-30a5-43aa-aff2-c57cebb22eff"
   },
   "outputs": [
    {
     "name": "stdout",
     "output_type": "stream",
     "text": [
      "Accuracy: 93.31%\n",
      "Precision: 0.95\n",
      "Recall: 0.98\n",
      "F1 Score: 0.97\n"
     ]
    }
   ],
   "source": [
    "print(f\"Accuracy: {accuracy * 100:.2f}%\")\n",
    "print(f\"Precision: {precision:.2f}\")\n",
    "print(f\"Recall: {recall:.2f}\")\n",
    "print(f\"F1 Score: {f1:.2f}\")"
   ]
  },
  {
   "cell_type": "markdown",
   "metadata": {},
   "source": [
    "## KNN"
   ]
  },
  {
   "cell_type": "code",
   "execution_count": 49,
   "metadata": {
    "id": "pHilvnriavi7"
   },
   "outputs": [
    {
     "name": "stdout",
     "output_type": "stream",
     "text": [
      "Accuracy: 94.87%\n",
      "Precision: 0.95\n",
      "Recall: 1.00\n",
      "F1 Score: 0.97\n"
     ]
    }
   ],
   "source": [
    "from sklearn.neighbors import KNeighborsClassifier\n",
    "\n",
    "knn_classifier = KNeighborsClassifier(n_neighbors=5)\n",
    "knn_classifier.fit(X_train, y_train)\n",
    "knn_pred = knn_classifier.predict(X_test)\n",
    "\n",
    "accuracy = accuracy_score(y_test, knn_pred)\n",
    "precision = precision_score(y_test, knn_pred)\n",
    "recall = recall_score(y_test, knn_pred)\n",
    "f1 = f1_score(y_test, knn_pred)\n",
    "\n",
    "print(f\"Accuracy: {accuracy * 100:.2f}%\")\n",
    "print(f\"Precision: {precision:.2f}\")\n",
    "print(f\"Recall: {recall:.2f}\")\n",
    "print(f\"F1 Score: {f1:.2f}\")\n",
    "\n"
   ]
  },
  {
   "cell_type": "markdown",
   "metadata": {},
   "source": [
    "## Naive Bayes"
   ]
  },
  {
   "cell_type": "code",
   "execution_count": 51,
   "metadata": {},
   "outputs": [
    {
     "name": "stdout",
     "output_type": "stream",
     "text": [
      "Accuracy: 39.65%\n",
      "Precision: 0.96\n",
      "Recall: 0.38\n",
      "F1 Score: 0.55\n"
     ]
    }
   ],
   "source": [
    "from sklearn.naive_bayes import MultinomialNB\n",
    "nb_classifier = MultinomialNB()\n",
    "nb_classifier.fit(X_train, y_train)\n",
    "nb_pred = nb_classifier.predict(X_test)\n",
    "\n",
    "accuracy = accuracy_score(y_test, nb_pred)\n",
    "precision = precision_score(y_test, nb_pred)\n",
    "recall = recall_score(y_test, nb_pred)\n",
    "f1 = f1_score(y_test, nb_pred)\n",
    "\n",
    "print(f\"Accuracy: {accuracy * 100:.2f}%\")\n",
    "print(f\"Precision: {precision:.2f}\")\n",
    "print(f\"Recall: {recall:.2f}\")\n",
    "print(f\"F1 Score: {f1:.2f}\")\n",
    "\n"
   ]
  },
  {
   "cell_type": "markdown",
   "metadata": {},
   "source": [
    "## XG-Boost Classifier"
   ]
  },
  {
   "cell_type": "code",
   "execution_count": 55,
   "metadata": {},
   "outputs": [
    {
     "name": "stdout",
     "output_type": "stream",
     "text": [
      "Accuracy: 94.95%\n",
      "Precision: 0.95\n",
      "Recall: 1.00\n",
      "F1 Score: 0.97\n"
     ]
    }
   ],
   "source": [
    "y_train_mapped = np.where(y_train == -1, 0, y_train)\n",
    "y_test_mapped = np.where(y_test == -1, 0, y_test)\n",
    "xgb_classifier = xgb.XGBClassifier()\n",
    "xgb_classifier.fit(X_train, y_train_mapped)\n",
    "xgb_pred = xgb_classifier.predict(X_test)\n",
    "\n",
    "accuracy = accuracy_score(y_test_mapped, xgb_pred)\n",
    "precision = precision_score(y_test_mapped, xgb_pred)\n",
    "recall = recall_score(y_test_mapped, xgb_pred)\n",
    "f1 = f1_score(y_test_mapped, xgb_pred)\n",
    "\n",
    "print(f\"Accuracy: {accuracy * 100:.2f}%\")\n",
    "print(f\"Precision: {precision:.2f}\")\n",
    "print(f\"Recall: {recall:.2f}\")\n",
    "print(f\"F1 Score: {f1:.2f}\")\n"
   ]
  },
  {
   "cell_type": "code",
   "execution_count": null,
   "metadata": {},
   "outputs": [],
   "source": []
  }
 ],
 "metadata": {
  "colab": {
   "provenance": []
  },
  "kernelspec": {
   "display_name": "Python 3 (ipykernel)",
   "language": "python",
   "name": "python3"
  },
  "language_info": {
   "codemirror_mode": {
    "name": "ipython",
    "version": 3
   },
   "file_extension": ".py",
   "mimetype": "text/x-python",
   "name": "python",
   "nbconvert_exporter": "python",
   "pygments_lexer": "ipython3",
   "version": "3.11.0"
  }
 },
 "nbformat": 4,
 "nbformat_minor": 1
}
