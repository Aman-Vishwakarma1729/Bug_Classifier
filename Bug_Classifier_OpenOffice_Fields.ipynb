{
  "cells": [
    {
      "cell_type": "markdown",
      "metadata": {
        "id": "jE84wcZvEJtg"
      },
      "source": [
        "# OpenOffice Fields Bug Classifier\n"
      ]
    },
    {
      "cell_type": "code",
      "execution_count": 1,
      "metadata": {
        "id": "s_9wmaR0Dxtk"
      },
      "outputs": [],
      "source": [
        "## Importing some basic required libraries\n",
        "\n",
        "import pandas as pd\n",
        "import numpy as np\n",
        "import matplotlib.pyplot as plt\n",
        "import seaborn as sns\n",
        "import warnings\n",
        "warnings.filterwarnings(\"ignore\")"
      ]
    },
    {
      "cell_type": "code",
      "execution_count": 2,
      "metadata": {
        "id": "gb0xSnHRESKK"
      },
      "outputs": [],
      "source": [
        "mf_data1 = pd.read_csv(\"D:\\External_Projects\\Kaushiki_Mishra\\Data and Code\\OpenOfficeFields.csv\")"
      ]
    },
    {
      "cell_type": "code",
      "execution_count": 3,
      "metadata": {
        "colab": {
          "base_uri": "https://localhost:8080/",
          "height": 981
        },
        "id": "OsRg_hhdEYBE",
        "outputId": "2172026b-69c0-4c65-8739-05f44d848bea"
      },
      "outputs": [
        {
          "data": {
            "text/html": [
              "<div>\n",
              "<style scoped>\n",
              "    .dataframe tbody tr th:only-of-type {\n",
              "        vertical-align: middle;\n",
              "    }\n",
              "\n",
              "    .dataframe tbody tr th {\n",
              "        vertical-align: top;\n",
              "    }\n",
              "\n",
              "    .dataframe thead th {\n",
              "        text-align: right;\n",
              "    }\n",
              "</style>\n",
              "<table border=\"1\" class=\"dataframe\">\n",
              "  <thead>\n",
              "    <tr style=\"text-align: right;\">\n",
              "      <th></th>\n",
              "      <th>BugID</th>\n",
              "      <th>MasterID</th>\n",
              "      <th>MergeID</th>\n",
              "      <th>Product</th>\n",
              "      <th>Component</th>\n",
              "      <th>Type</th>\n",
              "      <th>Priority</th>\n",
              "      <th>PriorityNumber</th>\n",
              "      <th>Version</th>\n",
              "      <th>VersionNumber</th>\n",
              "      <th>...</th>\n",
              "      <th>CloseDate</th>\n",
              "      <th>Status</th>\n",
              "      <th>Stars</th>\n",
              "      <th>crypto</th>\n",
              "      <th>general</th>\n",
              "      <th>java</th>\n",
              "      <th>networking</th>\n",
              "      <th>Title</th>\n",
              "      <th>Description</th>\n",
              "      <th>Summary</th>\n",
              "    </tr>\n",
              "  </thead>\n",
              "  <tbody>\n",
              "    <tr>\n",
              "      <th>0</th>\n",
              "      <td>84934</td>\n",
              "      <td>0</td>\n",
              "      <td>0</td>\n",
              "      <td>Calc</td>\n",
              "      <td>programming</td>\n",
              "      <td>trivial</td>\n",
              "      <td>P3</td>\n",
              "      <td>3.0</td>\n",
              "      <td>OOo 2.3.1</td>\n",
              "      <td>0.0</td>\n",
              "      <td>...</td>\n",
              "      <td>Fri Oct 17 13:52:32 IRST 2008</td>\n",
              "      <td>FIXED</td>\n",
              "      <td>0</td>\n",
              "      <td>4.49804</td>\n",
              "      <td>6.27436</td>\n",
              "      <td>4.89773</td>\n",
              "      <td>4.89773</td>\n",
              "      <td>odff: days360 compliance</td>\n",
              "      <td>mail reader message refers: http://www.openoff...</td>\n",
              "      <td>NaN</td>\n",
              "    </tr>\n",
              "    <tr>\n",
              "      <th>1</th>\n",
              "      <td>94985</td>\n",
              "      <td>0</td>\n",
              "      <td>0</td>\n",
              "      <td>qa</td>\n",
              "      <td>www</td>\n",
              "      <td>trivial</td>\n",
              "      <td>P3</td>\n",
              "      <td>3.0</td>\n",
              "      <td>current</td>\n",
              "      <td>0.0</td>\n",
              "      <td>...</td>\n",
              "      <td>Tue Jul 21 18:59:33 IRDT 2009</td>\n",
              "      <td>FIXED</td>\n",
              "      <td>0</td>\n",
              "      <td>8.03226</td>\n",
              "      <td>8.03226</td>\n",
              "      <td>5.76255</td>\n",
              "      <td>6.80746</td>\n",
              "      <td>distribute norwegian 3.0.0rc4 as final</td>\n",
              "      <td>i got the following approval  &gt; -------- origi...</td>\n",
              "      <td>NaN</td>\n",
              "    </tr>\n",
              "    <tr>\n",
              "      <th>2</th>\n",
              "      <td>94986</td>\n",
              "      <td>0</td>\n",
              "      <td>0</td>\n",
              "      <td>qa</td>\n",
              "      <td>testscripts</td>\n",
              "      <td>trivial</td>\n",
              "      <td>P3</td>\n",
              "      <td>3.0</td>\n",
              "      <td>current</td>\n",
              "      <td>0.0</td>\n",
              "      <td>...</td>\n",
              "      <td>Tue Dec 16 18:14:33 IRST 2008</td>\n",
              "      <td>FIXED</td>\n",
              "      <td>0</td>\n",
              "      <td>0.00000</td>\n",
              "      <td>0.00000</td>\n",
              "      <td>0.00000</td>\n",
              "      <td>0.00000</td>\n",
              "      <td>ssh-file for cws/svm-tooling</td>\n",
              "      <td>ssh-file for cws/svm-tooling</td>\n",
              "      <td>NaN</td>\n",
              "    </tr>\n",
              "    <tr>\n",
              "      <th>3</th>\n",
              "      <td>94987</td>\n",
              "      <td>0</td>\n",
              "      <td>0</td>\n",
              "      <td>Writer</td>\n",
              "      <td>code</td>\n",
              "      <td>trivial</td>\n",
              "      <td>P3</td>\n",
              "      <td>3.0</td>\n",
              "      <td>OOO300m9</td>\n",
              "      <td>0.0</td>\n",
              "      <td>...</td>\n",
              "      <td>Mon Feb 09 14:00:30 IRST 2009</td>\n",
              "      <td>FIXED</td>\n",
              "      <td>0</td>\n",
              "      <td>5.34247</td>\n",
              "      <td>5.64565</td>\n",
              "      <td>5.34247</td>\n",
              "      <td>5.64565</td>\n",
              "      <td>api service annotation change incompatible wit...</td>\n",
              "      <td>an existing macro that created text notes did ...</td>\n",
              "      <td>NaN</td>\n",
              "    </tr>\n",
              "    <tr>\n",
              "      <th>4</th>\n",
              "      <td>94988</td>\n",
              "      <td>0</td>\n",
              "      <td>0</td>\n",
              "      <td>General</td>\n",
              "      <td>code</td>\n",
              "      <td>trivial</td>\n",
              "      <td>P3</td>\n",
              "      <td>3.0</td>\n",
              "      <td>OOO300m9</td>\n",
              "      <td>0.0</td>\n",
              "      <td>...</td>\n",
              "      <td>Mon Jan 19 19:00:12 IRST 2009</td>\n",
              "      <td>IRREPRODUCIBLE</td>\n",
              "      <td>0</td>\n",
              "      <td>0.52058</td>\n",
              "      <td>3.12153</td>\n",
              "      <td>0.52058</td>\n",
              "      <td>0.52058</td>\n",
              "      <td>pdf import installation fails</td>\n",
              "      <td>while trying to install the pdf import extensi...</td>\n",
              "      <td>NaN</td>\n",
              "    </tr>\n",
              "    <tr>\n",
              "      <th>...</th>\n",
              "      <td>...</td>\n",
              "      <td>...</td>\n",
              "      <td>...</td>\n",
              "      <td>...</td>\n",
              "      <td>...</td>\n",
              "      <td>...</td>\n",
              "      <td>...</td>\n",
              "      <td>...</td>\n",
              "      <td>...</td>\n",
              "      <td>...</td>\n",
              "      <td>...</td>\n",
              "      <td>...</td>\n",
              "      <td>...</td>\n",
              "      <td>...</td>\n",
              "      <td>...</td>\n",
              "      <td>...</td>\n",
              "      <td>...</td>\n",
              "      <td>...</td>\n",
              "      <td>...</td>\n",
              "      <td>...</td>\n",
              "      <td>...</td>\n",
              "    </tr>\n",
              "    <tr>\n",
              "      <th>31130</th>\n",
              "      <td>94983</td>\n",
              "      <td>0</td>\n",
              "      <td>0</td>\n",
              "      <td>Calc</td>\n",
              "      <td>ui</td>\n",
              "      <td>trivial</td>\n",
              "      <td>P3</td>\n",
              "      <td>3.0</td>\n",
              "      <td>OOo 3.0</td>\n",
              "      <td>0.0</td>\n",
              "      <td>...</td>\n",
              "      <td>Fri Mar 15 13:10:18 IRST 2013</td>\n",
              "      <td>IRREPRODUCIBLE</td>\n",
              "      <td>0</td>\n",
              "      <td>3.27015</td>\n",
              "      <td>7.00472</td>\n",
              "      <td>5.48095</td>\n",
              "      <td>5.48095</td>\n",
              "      <td>scrollwheel opposite direction</td>\n",
              "      <td>when i use the scrollwheel to scroll vertical ...</td>\n",
              "      <td>NaN</td>\n",
              "    </tr>\n",
              "    <tr>\n",
              "      <th>31131</th>\n",
              "      <td>94984</td>\n",
              "      <td>0</td>\n",
              "      <td>0</td>\n",
              "      <td>App Dev</td>\n",
              "      <td>api</td>\n",
              "      <td>trivial</td>\n",
              "      <td>P3</td>\n",
              "      <td>3.0</td>\n",
              "      <td>pre AOO 3.4.0</td>\n",
              "      <td>0.0</td>\n",
              "      <td>...</td>\n",
              "      <td>Mon Feb 25 00:40:17 IRST 2013</td>\n",
              "      <td>FIXED</td>\n",
              "      <td>0</td>\n",
              "      <td>3.09946</td>\n",
              "      <td>4.31044</td>\n",
              "      <td>6.14400</td>\n",
              "      <td>4.31044</td>\n",
              "      <td>runner: checkapi should use environment variab...</td>\n",
              "      <td>if you develop the runner and you need to chec...</td>\n",
              "      <td>NaN</td>\n",
              "    </tr>\n",
              "    <tr>\n",
              "      <th>31132</th>\n",
              "      <td>85939</td>\n",
              "      <td>0</td>\n",
              "      <td>0</td>\n",
              "      <td>General</td>\n",
              "      <td>ui</td>\n",
              "      <td>trivial</td>\n",
              "      <td>P4</td>\n",
              "      <td>4.0</td>\n",
              "      <td>OOo 2.3.1</td>\n",
              "      <td>0.0</td>\n",
              "      <td>...</td>\n",
              "      <td>Mon Mar 15 17:08:25 IRST 2010</td>\n",
              "      <td>IRREPRODUCIBLE</td>\n",
              "      <td>0</td>\n",
              "      <td>5.79982</td>\n",
              "      <td>10.76450</td>\n",
              "      <td>7.30592</td>\n",
              "      <td>7.68534</td>\n",
              "      <td>australian spell check issue</td>\n",
              "      <td>dear community   after one installs openoffice...</td>\n",
              "      <td>NaN</td>\n",
              "    </tr>\n",
              "    <tr>\n",
              "      <th>31133</th>\n",
              "      <td>85036</td>\n",
              "      <td>0</td>\n",
              "      <td>0</td>\n",
              "      <td>App Dev</td>\n",
              "      <td>scripting</td>\n",
              "      <td>trivial</td>\n",
              "      <td>P3</td>\n",
              "      <td>3.0</td>\n",
              "      <td>pre AOO 3.4.0</td>\n",
              "      <td>0.0</td>\n",
              "      <td>...</td>\n",
              "      <td>Mon Feb 25 00:30:32 IRST 2013</td>\n",
              "      <td>FIXED</td>\n",
              "      <td>0</td>\n",
              "      <td>8.11245</td>\n",
              "      <td>5.79051</td>\n",
              "      <td>8.11245</td>\n",
              "      <td>5.79051</td>\n",
              "      <td>vba: strconv function is not supported</td>\n",
              "      <td>in vba  the strconv function returns a string ...</td>\n",
              "      <td>NaN</td>\n",
              "    </tr>\n",
              "    <tr>\n",
              "      <th>31134</th>\n",
              "      <td>84943</td>\n",
              "      <td>0</td>\n",
              "      <td>0</td>\n",
              "      <td>Writer</td>\n",
              "      <td>ui</td>\n",
              "      <td>trivial</td>\n",
              "      <td>P3</td>\n",
              "      <td>3.0</td>\n",
              "      <td>OOo 2.3.1</td>\n",
              "      <td>0.0</td>\n",
              "      <td>...</td>\n",
              "      <td>Fri Feb 08 01:27:32 IRST 2013</td>\n",
              "      <td>NaN</td>\n",
              "      <td>0</td>\n",
              "      <td>9.02306</td>\n",
              "      <td>11.54245</td>\n",
              "      <td>9.91670</td>\n",
              "      <td>10.70828</td>\n",
              "      <td>cannot proceed in mail merge at insert address...</td>\n",
              "      <td>hello.  when using the mail merge wizard  at s...</td>\n",
              "      <td>NaN</td>\n",
              "    </tr>\n",
              "  </tbody>\n",
              "</table>\n",
              "<p>31135 rows × 21 columns</p>\n",
              "</div>"
            ],
            "text/plain": [
              "       BugID  MasterID  MergeID  Product    Component     Type Priority  \\\n",
              "0      84934         0        0     Calc  programming  trivial       P3   \n",
              "1      94985         0        0       qa          www  trivial       P3   \n",
              "2      94986         0        0       qa  testscripts  trivial       P3   \n",
              "3      94987         0        0   Writer         code  trivial       P3   \n",
              "4      94988         0        0  General         code  trivial       P3   \n",
              "...      ...       ...      ...      ...          ...      ...      ...   \n",
              "31130  94983         0        0     Calc           ui  trivial       P3   \n",
              "31131  94984         0        0  App Dev          api  trivial       P3   \n",
              "31132  85939         0        0  General           ui  trivial       P4   \n",
              "31133  85036         0        0  App Dev    scripting  trivial       P3   \n",
              "31134  84943         0        0   Writer           ui  trivial       P3   \n",
              "\n",
              "       PriorityNumber        Version  VersionNumber  ...  \\\n",
              "0                 3.0      OOo 2.3.1            0.0  ...   \n",
              "1                 3.0        current            0.0  ...   \n",
              "2                 3.0        current            0.0  ...   \n",
              "3                 3.0       OOO300m9            0.0  ...   \n",
              "4                 3.0       OOO300m9            0.0  ...   \n",
              "...               ...            ...            ...  ...   \n",
              "31130             3.0        OOo 3.0            0.0  ...   \n",
              "31131             3.0  pre AOO 3.4.0            0.0  ...   \n",
              "31132             4.0      OOo 2.3.1            0.0  ...   \n",
              "31133             3.0  pre AOO 3.4.0            0.0  ...   \n",
              "31134             3.0      OOo 2.3.1            0.0  ...   \n",
              "\n",
              "                           CloseDate          Status Stars   crypto   general  \\\n",
              "0      Fri Oct 17 13:52:32 IRST 2008           FIXED     0  4.49804   6.27436   \n",
              "1      Tue Jul 21 18:59:33 IRDT 2009           FIXED     0  8.03226   8.03226   \n",
              "2      Tue Dec 16 18:14:33 IRST 2008           FIXED     0  0.00000   0.00000   \n",
              "3      Mon Feb 09 14:00:30 IRST 2009           FIXED     0  5.34247   5.64565   \n",
              "4      Mon Jan 19 19:00:12 IRST 2009  IRREPRODUCIBLE     0  0.52058   3.12153   \n",
              "...                              ...             ...   ...      ...       ...   \n",
              "31130  Fri Mar 15 13:10:18 IRST 2013  IRREPRODUCIBLE     0  3.27015   7.00472   \n",
              "31131  Mon Feb 25 00:40:17 IRST 2013           FIXED     0  3.09946   4.31044   \n",
              "31132  Mon Mar 15 17:08:25 IRST 2010  IRREPRODUCIBLE     0  5.79982  10.76450   \n",
              "31133  Mon Feb 25 00:30:32 IRST 2013           FIXED     0  8.11245   5.79051   \n",
              "31134  Fri Feb 08 01:27:32 IRST 2013             NaN     0  9.02306  11.54245   \n",
              "\n",
              "          java  networking                                              Title  \\\n",
              "0      4.89773     4.89773                           odff: days360 compliance   \n",
              "1      5.76255     6.80746             distribute norwegian 3.0.0rc4 as final   \n",
              "2      0.00000     0.00000                       ssh-file for cws/svm-tooling   \n",
              "3      5.34247     5.64565  api service annotation change incompatible wit...   \n",
              "4      0.52058     0.52058                      pdf import installation fails   \n",
              "...        ...         ...                                                ...   \n",
              "31130  5.48095     5.48095                     scrollwheel opposite direction   \n",
              "31131  6.14400     4.31044  runner: checkapi should use environment variab...   \n",
              "31132  7.30592     7.68534                       australian spell check issue   \n",
              "31133  8.11245     5.79051             vba: strconv function is not supported   \n",
              "31134  9.91670    10.70828  cannot proceed in mail merge at insert address...   \n",
              "\n",
              "                                             Description Summary  \n",
              "0      mail reader message refers: http://www.openoff...     NaN  \n",
              "1      i got the following approval  > -------- origi...     NaN  \n",
              "2                           ssh-file for cws/svm-tooling     NaN  \n",
              "3      an existing macro that created text notes did ...     NaN  \n",
              "4      while trying to install the pdf import extensi...     NaN  \n",
              "...                                                  ...     ...  \n",
              "31130  when i use the scrollwheel to scroll vertical ...     NaN  \n",
              "31131  if you develop the runner and you need to chec...     NaN  \n",
              "31132  dear community   after one installs openoffice...     NaN  \n",
              "31133  in vba  the strconv function returns a string ...     NaN  \n",
              "31134  hello.  when using the mail merge wizard  at s...     NaN  \n",
              "\n",
              "[31135 rows x 21 columns]"
            ]
          },
          "execution_count": 3,
          "metadata": {},
          "output_type": "execute_result"
        }
      ],
      "source": [
        "mf_data1"
      ]
    },
    {
      "cell_type": "code",
      "execution_count": 4,
      "metadata": {
        "colab": {
          "base_uri": "https://localhost:8080/"
        },
        "id": "YkAkjqH1Ew4Y",
        "outputId": "77b33878-e84b-4b0c-9adb-3b2ef31d5099"
      },
      "outputs": [
        {
          "data": {
            "text/plain": [
              "(31135, 21)"
            ]
          },
          "execution_count": 4,
          "metadata": {},
          "output_type": "execute_result"
        }
      ],
      "source": [
        "mf_data1.shape"
      ]
    },
    {
      "cell_type": "code",
      "execution_count": 5,
      "metadata": {
        "colab": {
          "base_uri": "https://localhost:8080/"
        },
        "id": "paoHA4xYE1au",
        "outputId": "2cda456d-a4e2-4ec1-8b0f-6f58a0fff9fd"
      },
      "outputs": [
        {
          "data": {
            "text/plain": [
              "BugID                 0\n",
              "MasterID              0\n",
              "MergeID               0\n",
              "Product               3\n",
              "Component             3\n",
              "Type                  3\n",
              "Priority              3\n",
              "PriorityNumber        0\n",
              "Version               3\n",
              "VersionNumber         0\n",
              "OpenDate              0\n",
              "CloseDate             0\n",
              "Status             9128\n",
              "Stars                 0\n",
              "crypto                0\n",
              "general               0\n",
              "java                  0\n",
              "networking            0\n",
              "Title                 3\n",
              "Description           4\n",
              "Summary           31135\n",
              "dtype: int64"
            ]
          },
          "execution_count": 5,
          "metadata": {},
          "output_type": "execute_result"
        }
      ],
      "source": [
        "mf_data1.isna().sum()"
      ]
    },
    {
      "cell_type": "code",
      "execution_count": 6,
      "metadata": {
        "id": "Ingy8daWFOtL"
      },
      "outputs": [],
      "source": [
        "mf_data2 = mf_data1.drop(columns=\"Summary\")"
      ]
    },
    {
      "cell_type": "code",
      "execution_count": 7,
      "metadata": {
        "colab": {
          "base_uri": "https://localhost:8080/"
        },
        "id": "__j5iZJ6FeUl",
        "outputId": "f051a670-c702-4d1e-a075-5a50f6d57cbe"
      },
      "outputs": [
        {
          "data": {
            "text/plain": [
              "Status\n",
              "FIXED             11258\n",
              "DUPLICATE          4460\n",
              "IRREPRODUCIBLE     2809\n",
              "INVALID            2729\n",
              "WONTFIX             750\n",
              "MOVED                 1\n",
              "Name: count, dtype: int64"
            ]
          },
          "execution_count": 7,
          "metadata": {},
          "output_type": "execute_result"
        }
      ],
      "source": [
        "mf_data2[\"Status\"].value_counts()"
      ]
    },
    {
      "cell_type": "code",
      "execution_count": 8,
      "metadata": {
        "id": "UIeDOzDRGlDm"
      },
      "outputs": [],
      "source": [
        "mf_data3 = mf_data2.dropna()"
      ]
    },
    {
      "cell_type": "code",
      "execution_count": 9,
      "metadata": {
        "id": "j1Gqimh5GkmP"
      },
      "outputs": [],
      "source": [
        "mf_data4 = mf_data3.reset_index(drop=True)"
      ]
    },
    {
      "cell_type": "code",
      "execution_count": 10,
      "metadata": {
        "colab": {
          "base_uri": "https://localhost:8080/",
          "height": 1000
        },
        "id": "pNzvAM9eHCTm",
        "outputId": "cf03241d-15ce-4eb7-9f47-2f5332e1646e"
      },
      "outputs": [
        {
          "data": {
            "text/html": [
              "<div>\n",
              "<style scoped>\n",
              "    .dataframe tbody tr th:only-of-type {\n",
              "        vertical-align: middle;\n",
              "    }\n",
              "\n",
              "    .dataframe tbody tr th {\n",
              "        vertical-align: top;\n",
              "    }\n",
              "\n",
              "    .dataframe thead th {\n",
              "        text-align: right;\n",
              "    }\n",
              "</style>\n",
              "<table border=\"1\" class=\"dataframe\">\n",
              "  <thead>\n",
              "    <tr style=\"text-align: right;\">\n",
              "      <th></th>\n",
              "      <th>BugID</th>\n",
              "      <th>MasterID</th>\n",
              "      <th>MergeID</th>\n",
              "      <th>Product</th>\n",
              "      <th>Component</th>\n",
              "      <th>Type</th>\n",
              "      <th>Priority</th>\n",
              "      <th>PriorityNumber</th>\n",
              "      <th>Version</th>\n",
              "      <th>VersionNumber</th>\n",
              "      <th>OpenDate</th>\n",
              "      <th>CloseDate</th>\n",
              "      <th>Status</th>\n",
              "      <th>Stars</th>\n",
              "      <th>crypto</th>\n",
              "      <th>general</th>\n",
              "      <th>java</th>\n",
              "      <th>networking</th>\n",
              "      <th>Title</th>\n",
              "      <th>Description</th>\n",
              "    </tr>\n",
              "  </thead>\n",
              "  <tbody>\n",
              "    <tr>\n",
              "      <th>0</th>\n",
              "      <td>84934</td>\n",
              "      <td>0</td>\n",
              "      <td>0</td>\n",
              "      <td>Calc</td>\n",
              "      <td>programming</td>\n",
              "      <td>trivial</td>\n",
              "      <td>P3</td>\n",
              "      <td>3.0</td>\n",
              "      <td>OOo 2.3.1</td>\n",
              "      <td>0.0</td>\n",
              "      <td>Wed Jan 02 04:47:00 IRST 2008</td>\n",
              "      <td>Fri Oct 17 13:52:32 IRST 2008</td>\n",
              "      <td>FIXED</td>\n",
              "      <td>0</td>\n",
              "      <td>4.49804</td>\n",
              "      <td>6.27436</td>\n",
              "      <td>4.89773</td>\n",
              "      <td>4.89773</td>\n",
              "      <td>odff: days360 compliance</td>\n",
              "      <td>mail reader message refers: http://www.openoff...</td>\n",
              "    </tr>\n",
              "    <tr>\n",
              "      <th>1</th>\n",
              "      <td>94985</td>\n",
              "      <td>0</td>\n",
              "      <td>0</td>\n",
              "      <td>qa</td>\n",
              "      <td>www</td>\n",
              "      <td>trivial</td>\n",
              "      <td>P3</td>\n",
              "      <td>3.0</td>\n",
              "      <td>current</td>\n",
              "      <td>0.0</td>\n",
              "      <td>Thu Oct 16 13:10:00 IRST 2008</td>\n",
              "      <td>Tue Jul 21 18:59:33 IRDT 2009</td>\n",
              "      <td>FIXED</td>\n",
              "      <td>0</td>\n",
              "      <td>8.03226</td>\n",
              "      <td>8.03226</td>\n",
              "      <td>5.76255</td>\n",
              "      <td>6.80746</td>\n",
              "      <td>distribute norwegian 3.0.0rc4 as final</td>\n",
              "      <td>i got the following approval  &gt; -------- origi...</td>\n",
              "    </tr>\n",
              "    <tr>\n",
              "      <th>2</th>\n",
              "      <td>94986</td>\n",
              "      <td>0</td>\n",
              "      <td>0</td>\n",
              "      <td>qa</td>\n",
              "      <td>testscripts</td>\n",
              "      <td>trivial</td>\n",
              "      <td>P3</td>\n",
              "      <td>3.0</td>\n",
              "      <td>current</td>\n",
              "      <td>0.0</td>\n",
              "      <td>Thu Oct 16 13:48:00 IRST 2008</td>\n",
              "      <td>Tue Dec 16 18:14:33 IRST 2008</td>\n",
              "      <td>FIXED</td>\n",
              "      <td>0</td>\n",
              "      <td>0.00000</td>\n",
              "      <td>0.00000</td>\n",
              "      <td>0.00000</td>\n",
              "      <td>0.00000</td>\n",
              "      <td>ssh-file for cws/svm-tooling</td>\n",
              "      <td>ssh-file for cws/svm-tooling</td>\n",
              "    </tr>\n",
              "    <tr>\n",
              "      <th>3</th>\n",
              "      <td>94987</td>\n",
              "      <td>0</td>\n",
              "      <td>0</td>\n",
              "      <td>Writer</td>\n",
              "      <td>code</td>\n",
              "      <td>trivial</td>\n",
              "      <td>P3</td>\n",
              "      <td>3.0</td>\n",
              "      <td>OOO300m9</td>\n",
              "      <td>0.0</td>\n",
              "      <td>Thu Oct 16 13:48:00 IRST 2008</td>\n",
              "      <td>Mon Feb 09 14:00:30 IRST 2009</td>\n",
              "      <td>FIXED</td>\n",
              "      <td>0</td>\n",
              "      <td>5.34247</td>\n",
              "      <td>5.64565</td>\n",
              "      <td>5.34247</td>\n",
              "      <td>5.64565</td>\n",
              "      <td>api service annotation change incompatible wit...</td>\n",
              "      <td>an existing macro that created text notes did ...</td>\n",
              "    </tr>\n",
              "    <tr>\n",
              "      <th>4</th>\n",
              "      <td>94988</td>\n",
              "      <td>0</td>\n",
              "      <td>0</td>\n",
              "      <td>General</td>\n",
              "      <td>code</td>\n",
              "      <td>trivial</td>\n",
              "      <td>P3</td>\n",
              "      <td>3.0</td>\n",
              "      <td>OOO300m9</td>\n",
              "      <td>0.0</td>\n",
              "      <td>Thu Oct 16 14:00:00 IRST 2008</td>\n",
              "      <td>Mon Jan 19 19:00:12 IRST 2009</td>\n",
              "      <td>IRREPRODUCIBLE</td>\n",
              "      <td>0</td>\n",
              "      <td>0.52058</td>\n",
              "      <td>3.12153</td>\n",
              "      <td>0.52058</td>\n",
              "      <td>0.52058</td>\n",
              "      <td>pdf import installation fails</td>\n",
              "      <td>while trying to install the pdf import extensi...</td>\n",
              "    </tr>\n",
              "    <tr>\n",
              "      <th>...</th>\n",
              "      <td>...</td>\n",
              "      <td>...</td>\n",
              "      <td>...</td>\n",
              "      <td>...</td>\n",
              "      <td>...</td>\n",
              "      <td>...</td>\n",
              "      <td>...</td>\n",
              "      <td>...</td>\n",
              "      <td>...</td>\n",
              "      <td>...</td>\n",
              "      <td>...</td>\n",
              "      <td>...</td>\n",
              "      <td>...</td>\n",
              "      <td>...</td>\n",
              "      <td>...</td>\n",
              "      <td>...</td>\n",
              "      <td>...</td>\n",
              "      <td>...</td>\n",
              "      <td>...</td>\n",
              "      <td>...</td>\n",
              "    </tr>\n",
              "    <tr>\n",
              "      <th>22002</th>\n",
              "      <td>94982</td>\n",
              "      <td>0</td>\n",
              "      <td>35247</td>\n",
              "      <td>Writer</td>\n",
              "      <td>formatting</td>\n",
              "      <td>trivial</td>\n",
              "      <td>P3</td>\n",
              "      <td>3.0</td>\n",
              "      <td>OOo 3.0</td>\n",
              "      <td>0.0</td>\n",
              "      <td>Thu Oct 16 12:44:00 IRST 2008</td>\n",
              "      <td>Thu Oct 16 14:55:28 IRST 2008</td>\n",
              "      <td>DUPLICATE</td>\n",
              "      <td>0</td>\n",
              "      <td>5.14948</td>\n",
              "      <td>5.14948</td>\n",
              "      <td>3.48163</td>\n",
              "      <td>5.14948</td>\n",
              "      <td>ordinal numbers missing in date</td>\n",
              "      <td>when inserting a date field the number formatt...</td>\n",
              "    </tr>\n",
              "    <tr>\n",
              "      <th>22003</th>\n",
              "      <td>94983</td>\n",
              "      <td>0</td>\n",
              "      <td>0</td>\n",
              "      <td>Calc</td>\n",
              "      <td>ui</td>\n",
              "      <td>trivial</td>\n",
              "      <td>P3</td>\n",
              "      <td>3.0</td>\n",
              "      <td>OOo 3.0</td>\n",
              "      <td>0.0</td>\n",
              "      <td>Thu Oct 16 12:44:00 IRST 2008</td>\n",
              "      <td>Fri Mar 15 13:10:18 IRST 2013</td>\n",
              "      <td>IRREPRODUCIBLE</td>\n",
              "      <td>0</td>\n",
              "      <td>3.27015</td>\n",
              "      <td>7.00472</td>\n",
              "      <td>5.48095</td>\n",
              "      <td>5.48095</td>\n",
              "      <td>scrollwheel opposite direction</td>\n",
              "      <td>when i use the scrollwheel to scroll vertical ...</td>\n",
              "    </tr>\n",
              "    <tr>\n",
              "      <th>22004</th>\n",
              "      <td>94984</td>\n",
              "      <td>0</td>\n",
              "      <td>0</td>\n",
              "      <td>App Dev</td>\n",
              "      <td>api</td>\n",
              "      <td>trivial</td>\n",
              "      <td>P3</td>\n",
              "      <td>3.0</td>\n",
              "      <td>pre AOO 3.4.0</td>\n",
              "      <td>0.0</td>\n",
              "      <td>Thu Oct 16 12:53:00 IRST 2008</td>\n",
              "      <td>Mon Feb 25 00:40:17 IRST 2013</td>\n",
              "      <td>FIXED</td>\n",
              "      <td>0</td>\n",
              "      <td>3.09946</td>\n",
              "      <td>4.31044</td>\n",
              "      <td>6.14400</td>\n",
              "      <td>4.31044</td>\n",
              "      <td>runner: checkapi should use environment variab...</td>\n",
              "      <td>if you develop the runner and you need to chec...</td>\n",
              "    </tr>\n",
              "    <tr>\n",
              "      <th>22005</th>\n",
              "      <td>85939</td>\n",
              "      <td>0</td>\n",
              "      <td>0</td>\n",
              "      <td>General</td>\n",
              "      <td>ui</td>\n",
              "      <td>trivial</td>\n",
              "      <td>P4</td>\n",
              "      <td>4.0</td>\n",
              "      <td>OOo 2.3.1</td>\n",
              "      <td>0.0</td>\n",
              "      <td>Thu Feb 07 16:33:00 IRST 2008</td>\n",
              "      <td>Mon Mar 15 17:08:25 IRST 2010</td>\n",
              "      <td>IRREPRODUCIBLE</td>\n",
              "      <td>0</td>\n",
              "      <td>5.79982</td>\n",
              "      <td>10.76450</td>\n",
              "      <td>7.30592</td>\n",
              "      <td>7.68534</td>\n",
              "      <td>australian spell check issue</td>\n",
              "      <td>dear community   after one installs openoffice...</td>\n",
              "    </tr>\n",
              "    <tr>\n",
              "      <th>22006</th>\n",
              "      <td>85036</td>\n",
              "      <td>0</td>\n",
              "      <td>0</td>\n",
              "      <td>App Dev</td>\n",
              "      <td>scripting</td>\n",
              "      <td>trivial</td>\n",
              "      <td>P3</td>\n",
              "      <td>3.0</td>\n",
              "      <td>pre AOO 3.4.0</td>\n",
              "      <td>0.0</td>\n",
              "      <td>Mon Jan 07 08:47:00 IRST 2008</td>\n",
              "      <td>Mon Feb 25 00:30:32 IRST 2013</td>\n",
              "      <td>FIXED</td>\n",
              "      <td>0</td>\n",
              "      <td>8.11245</td>\n",
              "      <td>5.79051</td>\n",
              "      <td>8.11245</td>\n",
              "      <td>5.79051</td>\n",
              "      <td>vba: strconv function is not supported</td>\n",
              "      <td>in vba  the strconv function returns a string ...</td>\n",
              "    </tr>\n",
              "  </tbody>\n",
              "</table>\n",
              "<p>22007 rows × 20 columns</p>\n",
              "</div>"
            ],
            "text/plain": [
              "       BugID  MasterID  MergeID  Product    Component     Type Priority  \\\n",
              "0      84934         0        0     Calc  programming  trivial       P3   \n",
              "1      94985         0        0       qa          www  trivial       P3   \n",
              "2      94986         0        0       qa  testscripts  trivial       P3   \n",
              "3      94987         0        0   Writer         code  trivial       P3   \n",
              "4      94988         0        0  General         code  trivial       P3   \n",
              "...      ...       ...      ...      ...          ...      ...      ...   \n",
              "22002  94982         0    35247   Writer   formatting  trivial       P3   \n",
              "22003  94983         0        0     Calc           ui  trivial       P3   \n",
              "22004  94984         0        0  App Dev          api  trivial       P3   \n",
              "22005  85939         0        0  General           ui  trivial       P4   \n",
              "22006  85036         0        0  App Dev    scripting  trivial       P3   \n",
              "\n",
              "       PriorityNumber        Version  VersionNumber  \\\n",
              "0                 3.0      OOo 2.3.1            0.0   \n",
              "1                 3.0        current            0.0   \n",
              "2                 3.0        current            0.0   \n",
              "3                 3.0       OOO300m9            0.0   \n",
              "4                 3.0       OOO300m9            0.0   \n",
              "...               ...            ...            ...   \n",
              "22002             3.0        OOo 3.0            0.0   \n",
              "22003             3.0        OOo 3.0            0.0   \n",
              "22004             3.0  pre AOO 3.4.0            0.0   \n",
              "22005             4.0      OOo 2.3.1            0.0   \n",
              "22006             3.0  pre AOO 3.4.0            0.0   \n",
              "\n",
              "                            OpenDate                      CloseDate  \\\n",
              "0      Wed Jan 02 04:47:00 IRST 2008  Fri Oct 17 13:52:32 IRST 2008   \n",
              "1      Thu Oct 16 13:10:00 IRST 2008  Tue Jul 21 18:59:33 IRDT 2009   \n",
              "2      Thu Oct 16 13:48:00 IRST 2008  Tue Dec 16 18:14:33 IRST 2008   \n",
              "3      Thu Oct 16 13:48:00 IRST 2008  Mon Feb 09 14:00:30 IRST 2009   \n",
              "4      Thu Oct 16 14:00:00 IRST 2008  Mon Jan 19 19:00:12 IRST 2009   \n",
              "...                              ...                            ...   \n",
              "22002  Thu Oct 16 12:44:00 IRST 2008  Thu Oct 16 14:55:28 IRST 2008   \n",
              "22003  Thu Oct 16 12:44:00 IRST 2008  Fri Mar 15 13:10:18 IRST 2013   \n",
              "22004  Thu Oct 16 12:53:00 IRST 2008  Mon Feb 25 00:40:17 IRST 2013   \n",
              "22005  Thu Feb 07 16:33:00 IRST 2008  Mon Mar 15 17:08:25 IRST 2010   \n",
              "22006  Mon Jan 07 08:47:00 IRST 2008  Mon Feb 25 00:30:32 IRST 2013   \n",
              "\n",
              "               Status  Stars   crypto   general     java  networking  \\\n",
              "0               FIXED      0  4.49804   6.27436  4.89773     4.89773   \n",
              "1               FIXED      0  8.03226   8.03226  5.76255     6.80746   \n",
              "2               FIXED      0  0.00000   0.00000  0.00000     0.00000   \n",
              "3               FIXED      0  5.34247   5.64565  5.34247     5.64565   \n",
              "4      IRREPRODUCIBLE      0  0.52058   3.12153  0.52058     0.52058   \n",
              "...               ...    ...      ...       ...      ...         ...   \n",
              "22002       DUPLICATE      0  5.14948   5.14948  3.48163     5.14948   \n",
              "22003  IRREPRODUCIBLE      0  3.27015   7.00472  5.48095     5.48095   \n",
              "22004           FIXED      0  3.09946   4.31044  6.14400     4.31044   \n",
              "22005  IRREPRODUCIBLE      0  5.79982  10.76450  7.30592     7.68534   \n",
              "22006           FIXED      0  8.11245   5.79051  8.11245     5.79051   \n",
              "\n",
              "                                                   Title  \\\n",
              "0                               odff: days360 compliance   \n",
              "1                 distribute norwegian 3.0.0rc4 as final   \n",
              "2                           ssh-file for cws/svm-tooling   \n",
              "3      api service annotation change incompatible wit...   \n",
              "4                          pdf import installation fails   \n",
              "...                                                  ...   \n",
              "22002                    ordinal numbers missing in date   \n",
              "22003                     scrollwheel opposite direction   \n",
              "22004  runner: checkapi should use environment variab...   \n",
              "22005                       australian spell check issue   \n",
              "22006             vba: strconv function is not supported   \n",
              "\n",
              "                                             Description  \n",
              "0      mail reader message refers: http://www.openoff...  \n",
              "1      i got the following approval  > -------- origi...  \n",
              "2                           ssh-file for cws/svm-tooling  \n",
              "3      an existing macro that created text notes did ...  \n",
              "4      while trying to install the pdf import extensi...  \n",
              "...                                                  ...  \n",
              "22002  when inserting a date field the number formatt...  \n",
              "22003  when i use the scrollwheel to scroll vertical ...  \n",
              "22004  if you develop the runner and you need to chec...  \n",
              "22005  dear community   after one installs openoffice...  \n",
              "22006  in vba  the strconv function returns a string ...  \n",
              "\n",
              "[22007 rows x 20 columns]"
            ]
          },
          "execution_count": 10,
          "metadata": {},
          "output_type": "execute_result"
        }
      ],
      "source": [
        "mf_data4"
      ]
    },
    {
      "cell_type": "code",
      "execution_count": 11,
      "metadata": {
        "colab": {
          "base_uri": "https://localhost:8080/"
        },
        "id": "bZYG77GaHC6P",
        "outputId": "e2a4b631-7a9c-47fc-c4cd-cc94a4dbe95a"
      },
      "outputs": [
        {
          "data": {
            "text/plain": [
              "Status\n",
              "FIXED             11258\n",
              "DUPLICATE          4460\n",
              "IRREPRODUCIBLE     2809\n",
              "INVALID            2729\n",
              "WONTFIX             750\n",
              "MOVED                 1\n",
              "Name: count, dtype: int64"
            ]
          },
          "execution_count": 11,
          "metadata": {},
          "output_type": "execute_result"
        }
      ],
      "source": [
        "mf_data4[\"Status\"].value_counts()"
      ]
    },
    {
      "cell_type": "code",
      "execution_count": 12,
      "metadata": {
        "id": "HCC-xfw3HP8q"
      },
      "outputs": [],
      "source": [
        "mf_data4[\"Status\"] = [-1 if bug_type == \"INVALID\" else 1 for bug_type in mf_data4[\"Status\"]]"
      ]
    },
    {
      "cell_type": "code",
      "execution_count": 13,
      "metadata": {
        "colab": {
          "base_uri": "https://localhost:8080/"
        },
        "id": "kSu7PjBwHhVk",
        "outputId": "a63b9103-9006-4e4c-b502-d0d1f1df8773"
      },
      "outputs": [
        {
          "data": {
            "text/plain": [
              "Status\n",
              " 1    19278\n",
              "-1     2729\n",
              "Name: count, dtype: int64"
            ]
          },
          "execution_count": 13,
          "metadata": {},
          "output_type": "execute_result"
        }
      ],
      "source": [
        "mf_data4[\"Status\"].value_counts()   ## The data set is highly imbalanced"
      ]
    },
    {
      "cell_type": "code",
      "execution_count": 14,
      "metadata": {
        "id": "Eh98dfH_HjsG"
      },
      "outputs": [],
      "source": [
        "mf_data5 = mf_data4.drop(columns = [\"BugID\",\"MasterID\",\"MergeID\",\"OpenDate\",\"CloseDate\",\"Stars\",\"VersionNumber\"])"
      ]
    },
    {
      "cell_type": "code",
      "execution_count": 15,
      "metadata": {
        "colab": {
          "base_uri": "https://localhost:8080/",
          "height": 580
        },
        "id": "QWNTeJ6VJU7W",
        "outputId": "1ef69f26-362f-47ff-82e5-d573cb0fea65"
      },
      "outputs": [
        {
          "data": {
            "text/html": [
              "<div>\n",
              "<style scoped>\n",
              "    .dataframe tbody tr th:only-of-type {\n",
              "        vertical-align: middle;\n",
              "    }\n",
              "\n",
              "    .dataframe tbody tr th {\n",
              "        vertical-align: top;\n",
              "    }\n",
              "\n",
              "    .dataframe thead th {\n",
              "        text-align: right;\n",
              "    }\n",
              "</style>\n",
              "<table border=\"1\" class=\"dataframe\">\n",
              "  <thead>\n",
              "    <tr style=\"text-align: right;\">\n",
              "      <th></th>\n",
              "      <th>Product</th>\n",
              "      <th>Component</th>\n",
              "      <th>Type</th>\n",
              "      <th>Priority</th>\n",
              "      <th>PriorityNumber</th>\n",
              "      <th>Version</th>\n",
              "      <th>Status</th>\n",
              "      <th>crypto</th>\n",
              "      <th>general</th>\n",
              "      <th>java</th>\n",
              "      <th>networking</th>\n",
              "      <th>Title</th>\n",
              "      <th>Description</th>\n",
              "    </tr>\n",
              "  </thead>\n",
              "  <tbody>\n",
              "    <tr>\n",
              "      <th>0</th>\n",
              "      <td>Calc</td>\n",
              "      <td>programming</td>\n",
              "      <td>trivial</td>\n",
              "      <td>P3</td>\n",
              "      <td>3.0</td>\n",
              "      <td>OOo 2.3.1</td>\n",
              "      <td>1</td>\n",
              "      <td>4.49804</td>\n",
              "      <td>6.27436</td>\n",
              "      <td>4.89773</td>\n",
              "      <td>4.89773</td>\n",
              "      <td>odff: days360 compliance</td>\n",
              "      <td>mail reader message refers: http://www.openoff...</td>\n",
              "    </tr>\n",
              "    <tr>\n",
              "      <th>1</th>\n",
              "      <td>qa</td>\n",
              "      <td>www</td>\n",
              "      <td>trivial</td>\n",
              "      <td>P3</td>\n",
              "      <td>3.0</td>\n",
              "      <td>current</td>\n",
              "      <td>1</td>\n",
              "      <td>8.03226</td>\n",
              "      <td>8.03226</td>\n",
              "      <td>5.76255</td>\n",
              "      <td>6.80746</td>\n",
              "      <td>distribute norwegian 3.0.0rc4 as final</td>\n",
              "      <td>i got the following approval  &gt; -------- origi...</td>\n",
              "    </tr>\n",
              "    <tr>\n",
              "      <th>2</th>\n",
              "      <td>qa</td>\n",
              "      <td>testscripts</td>\n",
              "      <td>trivial</td>\n",
              "      <td>P3</td>\n",
              "      <td>3.0</td>\n",
              "      <td>current</td>\n",
              "      <td>1</td>\n",
              "      <td>0.00000</td>\n",
              "      <td>0.00000</td>\n",
              "      <td>0.00000</td>\n",
              "      <td>0.00000</td>\n",
              "      <td>ssh-file for cws/svm-tooling</td>\n",
              "      <td>ssh-file for cws/svm-tooling</td>\n",
              "    </tr>\n",
              "    <tr>\n",
              "      <th>3</th>\n",
              "      <td>Writer</td>\n",
              "      <td>code</td>\n",
              "      <td>trivial</td>\n",
              "      <td>P3</td>\n",
              "      <td>3.0</td>\n",
              "      <td>OOO300m9</td>\n",
              "      <td>1</td>\n",
              "      <td>5.34247</td>\n",
              "      <td>5.64565</td>\n",
              "      <td>5.34247</td>\n",
              "      <td>5.64565</td>\n",
              "      <td>api service annotation change incompatible wit...</td>\n",
              "      <td>an existing macro that created text notes did ...</td>\n",
              "    </tr>\n",
              "    <tr>\n",
              "      <th>4</th>\n",
              "      <td>General</td>\n",
              "      <td>code</td>\n",
              "      <td>trivial</td>\n",
              "      <td>P3</td>\n",
              "      <td>3.0</td>\n",
              "      <td>OOO300m9</td>\n",
              "      <td>1</td>\n",
              "      <td>0.52058</td>\n",
              "      <td>3.12153</td>\n",
              "      <td>0.52058</td>\n",
              "      <td>0.52058</td>\n",
              "      <td>pdf import installation fails</td>\n",
              "      <td>while trying to install the pdf import extensi...</td>\n",
              "    </tr>\n",
              "    <tr>\n",
              "      <th>...</th>\n",
              "      <td>...</td>\n",
              "      <td>...</td>\n",
              "      <td>...</td>\n",
              "      <td>...</td>\n",
              "      <td>...</td>\n",
              "      <td>...</td>\n",
              "      <td>...</td>\n",
              "      <td>...</td>\n",
              "      <td>...</td>\n",
              "      <td>...</td>\n",
              "      <td>...</td>\n",
              "      <td>...</td>\n",
              "      <td>...</td>\n",
              "    </tr>\n",
              "    <tr>\n",
              "      <th>22002</th>\n",
              "      <td>Writer</td>\n",
              "      <td>formatting</td>\n",
              "      <td>trivial</td>\n",
              "      <td>P3</td>\n",
              "      <td>3.0</td>\n",
              "      <td>OOo 3.0</td>\n",
              "      <td>1</td>\n",
              "      <td>5.14948</td>\n",
              "      <td>5.14948</td>\n",
              "      <td>3.48163</td>\n",
              "      <td>5.14948</td>\n",
              "      <td>ordinal numbers missing in date</td>\n",
              "      <td>when inserting a date field the number formatt...</td>\n",
              "    </tr>\n",
              "    <tr>\n",
              "      <th>22003</th>\n",
              "      <td>Calc</td>\n",
              "      <td>ui</td>\n",
              "      <td>trivial</td>\n",
              "      <td>P3</td>\n",
              "      <td>3.0</td>\n",
              "      <td>OOo 3.0</td>\n",
              "      <td>1</td>\n",
              "      <td>3.27015</td>\n",
              "      <td>7.00472</td>\n",
              "      <td>5.48095</td>\n",
              "      <td>5.48095</td>\n",
              "      <td>scrollwheel opposite direction</td>\n",
              "      <td>when i use the scrollwheel to scroll vertical ...</td>\n",
              "    </tr>\n",
              "    <tr>\n",
              "      <th>22004</th>\n",
              "      <td>App Dev</td>\n",
              "      <td>api</td>\n",
              "      <td>trivial</td>\n",
              "      <td>P3</td>\n",
              "      <td>3.0</td>\n",
              "      <td>pre AOO 3.4.0</td>\n",
              "      <td>1</td>\n",
              "      <td>3.09946</td>\n",
              "      <td>4.31044</td>\n",
              "      <td>6.14400</td>\n",
              "      <td>4.31044</td>\n",
              "      <td>runner: checkapi should use environment variab...</td>\n",
              "      <td>if you develop the runner and you need to chec...</td>\n",
              "    </tr>\n",
              "    <tr>\n",
              "      <th>22005</th>\n",
              "      <td>General</td>\n",
              "      <td>ui</td>\n",
              "      <td>trivial</td>\n",
              "      <td>P4</td>\n",
              "      <td>4.0</td>\n",
              "      <td>OOo 2.3.1</td>\n",
              "      <td>1</td>\n",
              "      <td>5.79982</td>\n",
              "      <td>10.76450</td>\n",
              "      <td>7.30592</td>\n",
              "      <td>7.68534</td>\n",
              "      <td>australian spell check issue</td>\n",
              "      <td>dear community   after one installs openoffice...</td>\n",
              "    </tr>\n",
              "    <tr>\n",
              "      <th>22006</th>\n",
              "      <td>App Dev</td>\n",
              "      <td>scripting</td>\n",
              "      <td>trivial</td>\n",
              "      <td>P3</td>\n",
              "      <td>3.0</td>\n",
              "      <td>pre AOO 3.4.0</td>\n",
              "      <td>1</td>\n",
              "      <td>8.11245</td>\n",
              "      <td>5.79051</td>\n",
              "      <td>8.11245</td>\n",
              "      <td>5.79051</td>\n",
              "      <td>vba: strconv function is not supported</td>\n",
              "      <td>in vba  the strconv function returns a string ...</td>\n",
              "    </tr>\n",
              "  </tbody>\n",
              "</table>\n",
              "<p>22007 rows × 13 columns</p>\n",
              "</div>"
            ],
            "text/plain": [
              "       Product    Component     Type Priority  PriorityNumber        Version  \\\n",
              "0         Calc  programming  trivial       P3             3.0      OOo 2.3.1   \n",
              "1           qa          www  trivial       P3             3.0        current   \n",
              "2           qa  testscripts  trivial       P3             3.0        current   \n",
              "3       Writer         code  trivial       P3             3.0       OOO300m9   \n",
              "4      General         code  trivial       P3             3.0       OOO300m9   \n",
              "...        ...          ...      ...      ...             ...            ...   \n",
              "22002   Writer   formatting  trivial       P3             3.0        OOo 3.0   \n",
              "22003     Calc           ui  trivial       P3             3.0        OOo 3.0   \n",
              "22004  App Dev          api  trivial       P3             3.0  pre AOO 3.4.0   \n",
              "22005  General           ui  trivial       P4             4.0      OOo 2.3.1   \n",
              "22006  App Dev    scripting  trivial       P3             3.0  pre AOO 3.4.0   \n",
              "\n",
              "       Status   crypto   general     java  networking  \\\n",
              "0           1  4.49804   6.27436  4.89773     4.89773   \n",
              "1           1  8.03226   8.03226  5.76255     6.80746   \n",
              "2           1  0.00000   0.00000  0.00000     0.00000   \n",
              "3           1  5.34247   5.64565  5.34247     5.64565   \n",
              "4           1  0.52058   3.12153  0.52058     0.52058   \n",
              "...       ...      ...       ...      ...         ...   \n",
              "22002       1  5.14948   5.14948  3.48163     5.14948   \n",
              "22003       1  3.27015   7.00472  5.48095     5.48095   \n",
              "22004       1  3.09946   4.31044  6.14400     4.31044   \n",
              "22005       1  5.79982  10.76450  7.30592     7.68534   \n",
              "22006       1  8.11245   5.79051  8.11245     5.79051   \n",
              "\n",
              "                                                   Title  \\\n",
              "0                               odff: days360 compliance   \n",
              "1                 distribute norwegian 3.0.0rc4 as final   \n",
              "2                           ssh-file for cws/svm-tooling   \n",
              "3      api service annotation change incompatible wit...   \n",
              "4                          pdf import installation fails   \n",
              "...                                                  ...   \n",
              "22002                    ordinal numbers missing in date   \n",
              "22003                     scrollwheel opposite direction   \n",
              "22004  runner: checkapi should use environment variab...   \n",
              "22005                       australian spell check issue   \n",
              "22006             vba: strconv function is not supported   \n",
              "\n",
              "                                             Description  \n",
              "0      mail reader message refers: http://www.openoff...  \n",
              "1      i got the following approval  > -------- origi...  \n",
              "2                           ssh-file for cws/svm-tooling  \n",
              "3      an existing macro that created text notes did ...  \n",
              "4      while trying to install the pdf import extensi...  \n",
              "...                                                  ...  \n",
              "22002  when inserting a date field the number formatt...  \n",
              "22003  when i use the scrollwheel to scroll vertical ...  \n",
              "22004  if you develop the runner and you need to chec...  \n",
              "22005  dear community   after one installs openoffice...  \n",
              "22006  in vba  the strconv function returns a string ...  \n",
              "\n",
              "[22007 rows x 13 columns]"
            ]
          },
          "execution_count": 15,
          "metadata": {},
          "output_type": "execute_result"
        }
      ],
      "source": [
        "mf_data5"
      ]
    },
    {
      "cell_type": "code",
      "execution_count": 16,
      "metadata": {
        "id": "S6NLOHofJXST"
      },
      "outputs": [],
      "source": [
        "X = mf_data5.drop(columns = \"Status\")"
      ]
    },
    {
      "cell_type": "code",
      "execution_count": 17,
      "metadata": {
        "id": "mi4RGEIMJe5x"
      },
      "outputs": [],
      "source": [
        "Bug_details = []\n",
        "for i in range(len(X)):\n",
        "  Bug_detail = ' '.join(str(detail) for detail in X.iloc[i,0:12])\n",
        "  Bug_details.append(Bug_detail)"
      ]
    },
    {
      "cell_type": "code",
      "execution_count": 18,
      "metadata": {
        "colab": {
          "base_uri": "https://localhost:8080/",
          "height": 128
        },
        "id": "g_Lhteh7Jm4w",
        "outputId": "730d742a-ddba-4d90-9da4-f0bb566bd89c"
      },
      "outputs": [
        {
          "data": {
            "text/plain": [
              "'Writer code trivial P3 3.0 OOO300m9 5.34247 5.64565 5.34247 5.64565 api service annotation change incompatible with old code an existing macro that created text notes did not work on ooo 3.0.  dim mynote as object dim unedate as new com.sun.star.util.date mynote = thiscomponent.createinstance(\"com.sun.star.text.textfield.annotation\") mynote.author = \"somebody\"  mynote.content = \"this is the text of the note\" unedate.day = 15 unedate.month = 7 unedate.year  = 2008 mynote.date = unedate \\' <<< -- property not found mytext.inserttextcontent(mycursor  mynote  false)   investigation shows two problems:  1 - service com.sun.star.text.textfield.annotation provides a note object with a  property \"datetimevalue\" instead of property \"date\". the new one has the same structure as the old property : com.sun.star.util.date the idl documentation of the service has not changed : the property date is  described  not the property datetimevalue.   changing a name of a property is unacceptable as it breaks compatibility with old  code. please correct this regression.  2 - setting datetimevalue to a valid date does not work : the note then displays a  date 00/00/000 00:0 in version 2.x it worked (with property date)  so this is another regression.  if datetimevalue is not set by program  the current date is stored on the note. but  it should be possible to change a date by api  both at note creation or on an existing  note. the idl documentation does not indicate any limitation.  dim mynote as object dim unedate as new com.sun.star.util.date mynote = thiscomponent.createinstance(\"com.sun.star.text.textfield.annotation\") mynote.author = \"somebody\"  mynote.content = \"this is the text of the note\" unedate.day = 15 unedate.month = 7 unedate.year  = 2008 mynote.datetimevalue = unedate'"
            ]
          },
          "execution_count": 18,
          "metadata": {},
          "output_type": "execute_result"
        }
      ],
      "source": [
        "Bug_details[3]"
      ]
    },
    {
      "cell_type": "code",
      "execution_count": 19,
      "metadata": {
        "id": "9SYxoGI6Jntv"
      },
      "outputs": [],
      "source": [
        "import nltk\n",
        "import re\n",
        "from nltk.corpus import stopwords\n",
        "from nltk.stem.porter import PorterStemmer\n",
        "from nltk.stem import WordNetLemmatizer"
      ]
    },
    {
      "cell_type": "code",
      "execution_count": 20,
      "metadata": {
        "colab": {
          "base_uri": "https://localhost:8080/"
        },
        "id": "SegY_stsJqfQ",
        "outputId": "ce87a992-5fe7-47f0-ccab-0cf94b604089"
      },
      "outputs": [
        {
          "name": "stderr",
          "output_type": "stream",
          "text": [
            "[nltk_data] Downloading package punkt to\n",
            "[nltk_data]     C:\\Users\\amanv\\AppData\\Roaming\\nltk_data...\n",
            "[nltk_data]   Package punkt is already up-to-date!\n"
          ]
        },
        {
          "data": {
            "text/plain": [
              "True"
            ]
          },
          "execution_count": 20,
          "metadata": {},
          "output_type": "execute_result"
        }
      ],
      "source": [
        "nltk.download('punkt')"
      ]
    },
    {
      "cell_type": "code",
      "execution_count": 21,
      "metadata": {
        "colab": {
          "base_uri": "https://localhost:8080/"
        },
        "id": "WuTMDZdjJsyL",
        "outputId": "7fb2f6ca-7c78-4727-dc3c-e7d741ab2aab"
      },
      "outputs": [
        {
          "name": "stderr",
          "output_type": "stream",
          "text": [
            "[nltk_data] Downloading package stopwords to\n",
            "[nltk_data]     C:\\Users\\amanv\\AppData\\Roaming\\nltk_data...\n",
            "[nltk_data]   Package stopwords is already up-to-date!\n"
          ]
        },
        {
          "data": {
            "text/plain": [
              "True"
            ]
          },
          "execution_count": 21,
          "metadata": {},
          "output_type": "execute_result"
        }
      ],
      "source": [
        "nltk.download('stopwords')"
      ]
    },
    {
      "cell_type": "code",
      "execution_count": 22,
      "metadata": {
        "colab": {
          "base_uri": "https://localhost:8080/"
        },
        "id": "s9iYF9KkJvM0",
        "outputId": "1d674fed-d879-4b08-f3a9-44aeaa4a061c"
      },
      "outputs": [
        {
          "name": "stderr",
          "output_type": "stream",
          "text": [
            "[nltk_data] Downloading package wordnet to\n",
            "[nltk_data]     C:\\Users\\amanv\\AppData\\Roaming\\nltk_data...\n"
          ]
        },
        {
          "name": "stderr",
          "output_type": "stream",
          "text": [
            "[nltk_data]   Package wordnet is already up-to-date!\n"
          ]
        },
        {
          "data": {
            "text/plain": [
              "True"
            ]
          },
          "execution_count": 22,
          "metadata": {},
          "output_type": "execute_result"
        }
      ],
      "source": [
        "nltk.download('wordnet')"
      ]
    },
    {
      "cell_type": "code",
      "execution_count": 23,
      "metadata": {
        "id": "7x0DDoHJJw-y"
      },
      "outputs": [],
      "source": [
        "Lemmatizer = WordNetLemmatizer()"
      ]
    },
    {
      "cell_type": "code",
      "execution_count": 24,
      "metadata": {
        "id": "y1kdbbMnJzEw"
      },
      "outputs": [],
      "source": [
        "bug_details_cleaned = []\n",
        "\n",
        "for i in range(len(Bug_details)):\n",
        "    bug_detail = Bug_details[i]\n",
        "    bug_detail = re.sub(r'\\(\\d{1,2}/\\d{1,2}/\\d{4} \\d{1,2}:\\d{1,2}:\\d{1,2} [APMapm]{2}\\);', '', bug_detail)\n",
        "    bug_detail_words = nltk.word_tokenize(bug_detail)\n",
        "    bug_detail_words = [Lemmatizer.lemmatize(word) for word in bug_detail_words if word not in set(stopwords.words('english'))]\n",
        "    bug_detail = ' '.join(bug_detail_words)\n",
        "    bug_detail = bug_detail.lower()\n",
        "    bug_details_cleaned.append(bug_detail)"
      ]
    },
    {
      "cell_type": "code",
      "execution_count": 25,
      "metadata": {
        "id": "keNquFr1J147"
      },
      "outputs": [],
      "source": [
        "word_count = [len(bug_detail) for bug_detail in bug_details_cleaned]"
      ]
    },
    {
      "cell_type": "code",
      "execution_count": 26,
      "metadata": {
        "id": "e1624AmvLz67"
      },
      "outputs": [],
      "source": [
        "ep_des_df = pd.DataFrame({\n",
        "                            \"Description\" : bug_details_cleaned,\n",
        "                            \"Description_length\" : word_count\n",
        "\n",
        "\n",
        "})"
      ]
    },
    {
      "cell_type": "code",
      "execution_count": 27,
      "metadata": {
        "colab": {
          "base_uri": "https://localhost:8080/"
        },
        "id": "xNtN2XyML3i8",
        "outputId": "2da80c39-ebf7-4ab2-aa8b-48a4ba561569"
      },
      "outputs": [
        {
          "data": {
            "text/plain": [
              "count     22007.000000\n",
              "mean        696.950516\n",
              "std        4167.831994\n",
              "min          52.000000\n",
              "25%         249.000000\n",
              "50%         367.000000\n",
              "75%         567.000000\n",
              "max      393408.000000\n",
              "Name: Description_length, dtype: float64"
            ]
          },
          "execution_count": 27,
          "metadata": {},
          "output_type": "execute_result"
        }
      ],
      "source": [
        "ep_des_df[\"Description_length\"].describe()"
      ]
    },
    {
      "cell_type": "code",
      "execution_count": 28,
      "metadata": {
        "id": "5Kg5ScYIgL03"
      },
      "outputs": [],
      "source": [
        "import tensorflow as tf"
      ]
    },
    {
      "cell_type": "code",
      "execution_count": 29,
      "metadata": {
        "id": "466DqUJggitu"
      },
      "outputs": [],
      "source": [
        "from tensorflow.keras.preprocessing.text import one_hot\n",
        "from tensorflow.keras.layers import Embedding\n",
        "from tensorflow.keras.preprocessing.sequence import pad_sequences"
      ]
    },
    {
      "cell_type": "code",
      "execution_count": 30,
      "metadata": {
        "id": "XToHctamgpB0"
      },
      "outputs": [],
      "source": [
        "voc_size = 10000\n",
        "one_hot_representation = [one_hot(news,voc_size) for news in bug_details_cleaned]"
      ]
    },
    {
      "cell_type": "code",
      "execution_count": 31,
      "metadata": {
        "colab": {
          "base_uri": "https://localhost:8080/"
        },
        "id": "nM5dd_xmgo4d",
        "outputId": "c13d6244-a487-41d9-fd45-95691684c052"
      },
      "outputs": [
        {
          "name": "stdout",
          "output_type": "stream",
          "text": [
            "[[   0    0    0 ... 9455 3684 7755]\n",
            " [   0    0    0 ...  106 1770  106]\n",
            " [   0    0    0 ... 7860 5168 5078]\n",
            " ...\n",
            " [   0    0    0 ... 8991 9364 1532]\n",
            " [   0    0    0 ... 2851 6120 7358]\n",
            " [   0    0    0 ... 7343   30  846]]\n"
          ]
        }
      ],
      "source": [
        "sentence_length = 700\n",
        "embedded_doc = pad_sequences(one_hot_representation,padding='pre',maxlen=sentence_length)\n",
        "print(embedded_doc)"
      ]
    },
    {
      "cell_type": "code",
      "execution_count": 32,
      "metadata": {
        "id": "-94ySf7Ogov6"
      },
      "outputs": [],
      "source": [
        "X = np.array(embedded_doc)\n",
        "y = np.array(mf_data5[\"Status\"])"
      ]
    },
    {
      "cell_type": "code",
      "execution_count": 33,
      "metadata": {
        "id": "Z_ilSeysgond"
      },
      "outputs": [],
      "source": [
        "from sklearn.model_selection import train_test_split\n",
        "X_train,X_test,y_train,y_test = train_test_split(X,y,test_size=0.30,random_state=42)"
      ]
    },
    {
      "cell_type": "markdown",
      "metadata": {
        "id": "RoidLXeuhIpQ"
      },
      "source": [
        "# SVC"
      ]
    },
    {
      "cell_type": "code",
      "execution_count": 34,
      "metadata": {
        "id": "uuUeHxUWgod-"
      },
      "outputs": [],
      "source": [
        "from sklearn.svm import SVC\n",
        "from sklearn.metrics import accuracy_score, precision_score, recall_score, f1_score"
      ]
    },
    {
      "cell_type": "code",
      "execution_count": null,
      "metadata": {},
      "outputs": [],
      "source": [
        "svm_model = SVC(kernel='rbf')\n",
        "svm_model.fit(X_train, y_train)"
      ]
    },
    {
      "cell_type": "code",
      "execution_count": null,
      "metadata": {
        "id": "YgzaV59zgoL1"
      },
      "outputs": [],
      "source": [
        "predictions_rbf = svm_model.predict(X_test)\n"
      ]
    },
    {
      "cell_type": "code",
      "execution_count": 37,
      "metadata": {
        "id": "iOm6kFImgnJk"
      },
      "outputs": [],
      "source": [
        "accuracy = accuracy_score(y_test, predictions_rbf)\n",
        "precision = precision_score(y_test, predictions_rbf)\n",
        "recall = recall_score(y_test, predictions_rbf)\n",
        "f1 = f1_score(y_test, predictions_rbf)\n"
      ]
    },
    {
      "cell_type": "code",
      "execution_count": 38,
      "metadata": {
        "colab": {
          "base_uri": "https://localhost:8080/"
        },
        "id": "nna50edthZG9",
        "outputId": "6e4f0d11-8c65-46c4-fca3-710f905080e0"
      },
      "outputs": [
        {
          "name": "stdout",
          "output_type": "stream",
          "text": [
            "Accuracy: 86.61%\n",
            "Precision: 0.87\n",
            "Recall: 1.00\n",
            "F1 Score: 0.93\n"
          ]
        }
      ],
      "source": [
        "\n",
        "print(f\"Accuracy: {accuracy * 100:.2f}%\")\n",
        "print(f\"Precision: {precision:.2f}\")\n",
        "print(f\"Recall: {recall:.2f}\")\n",
        "print(f\"F1 Score: {f1:.2f}\")"
      ]
    },
    {
      "cell_type": "markdown",
      "metadata": {
        "id": "QFYHOLYFhe-3"
      },
      "source": [
        "# LDA"
      ]
    },
    {
      "cell_type": "code",
      "execution_count": 40,
      "metadata": {
        "id": "gjYYx-1Whd32"
      },
      "outputs": [],
      "source": [
        "from sklearn.discriminant_analysis import LinearDiscriminantAnalysis"
      ]
    },
    {
      "cell_type": "code",
      "execution_count": 41,
      "metadata": {
        "id": "HMdVSGschY_I"
      },
      "outputs": [],
      "source": [
        "lda_model = LinearDiscriminantAnalysis()"
      ]
    },
    {
      "cell_type": "code",
      "execution_count": 42,
      "metadata": {
        "colab": {
          "base_uri": "https://localhost:8080/",
          "height": 75
        },
        "id": "Ri814UdIhW9W",
        "outputId": "abed64c4-c606-42d4-c61b-e5199c1270fd"
      },
      "outputs": [
        {
          "data": {
            "text/html": [
              "<style>#sk-container-id-2 {color: black;background-color: white;}#sk-container-id-2 pre{padding: 0;}#sk-container-id-2 div.sk-toggleable {background-color: white;}#sk-container-id-2 label.sk-toggleable__label {cursor: pointer;display: block;width: 100%;margin-bottom: 0;padding: 0.3em;box-sizing: border-box;text-align: center;}#sk-container-id-2 label.sk-toggleable__label-arrow:before {content: \"▸\";float: left;margin-right: 0.25em;color: #696969;}#sk-container-id-2 label.sk-toggleable__label-arrow:hover:before {color: black;}#sk-container-id-2 div.sk-estimator:hover label.sk-toggleable__label-arrow:before {color: black;}#sk-container-id-2 div.sk-toggleable__content {max-height: 0;max-width: 0;overflow: hidden;text-align: left;background-color: #f0f8ff;}#sk-container-id-2 div.sk-toggleable__content pre {margin: 0.2em;color: black;border-radius: 0.25em;background-color: #f0f8ff;}#sk-container-id-2 input.sk-toggleable__control:checked~div.sk-toggleable__content {max-height: 200px;max-width: 100%;overflow: auto;}#sk-container-id-2 input.sk-toggleable__control:checked~label.sk-toggleable__label-arrow:before {content: \"▾\";}#sk-container-id-2 div.sk-estimator input.sk-toggleable__control:checked~label.sk-toggleable__label {background-color: #d4ebff;}#sk-container-id-2 div.sk-label input.sk-toggleable__control:checked~label.sk-toggleable__label {background-color: #d4ebff;}#sk-container-id-2 input.sk-hidden--visually {border: 0;clip: rect(1px 1px 1px 1px);clip: rect(1px, 1px, 1px, 1px);height: 1px;margin: -1px;overflow: hidden;padding: 0;position: absolute;width: 1px;}#sk-container-id-2 div.sk-estimator {font-family: monospace;background-color: #f0f8ff;border: 1px dotted black;border-radius: 0.25em;box-sizing: border-box;margin-bottom: 0.5em;}#sk-container-id-2 div.sk-estimator:hover {background-color: #d4ebff;}#sk-container-id-2 div.sk-parallel-item::after {content: \"\";width: 100%;border-bottom: 1px solid gray;flex-grow: 1;}#sk-container-id-2 div.sk-label:hover label.sk-toggleable__label {background-color: #d4ebff;}#sk-container-id-2 div.sk-serial::before {content: \"\";position: absolute;border-left: 1px solid gray;box-sizing: border-box;top: 0;bottom: 0;left: 50%;z-index: 0;}#sk-container-id-2 div.sk-serial {display: flex;flex-direction: column;align-items: center;background-color: white;padding-right: 0.2em;padding-left: 0.2em;position: relative;}#sk-container-id-2 div.sk-item {position: relative;z-index: 1;}#sk-container-id-2 div.sk-parallel {display: flex;align-items: stretch;justify-content: center;background-color: white;position: relative;}#sk-container-id-2 div.sk-item::before, #sk-container-id-2 div.sk-parallel-item::before {content: \"\";position: absolute;border-left: 1px solid gray;box-sizing: border-box;top: 0;bottom: 0;left: 50%;z-index: -1;}#sk-container-id-2 div.sk-parallel-item {display: flex;flex-direction: column;z-index: 1;position: relative;background-color: white;}#sk-container-id-2 div.sk-parallel-item:first-child::after {align-self: flex-end;width: 50%;}#sk-container-id-2 div.sk-parallel-item:last-child::after {align-self: flex-start;width: 50%;}#sk-container-id-2 div.sk-parallel-item:only-child::after {width: 0;}#sk-container-id-2 div.sk-dashed-wrapped {border: 1px dashed gray;margin: 0 0.4em 0.5em 0.4em;box-sizing: border-box;padding-bottom: 0.4em;background-color: white;}#sk-container-id-2 div.sk-label label {font-family: monospace;font-weight: bold;display: inline-block;line-height: 1.2em;}#sk-container-id-2 div.sk-label-container {text-align: center;}#sk-container-id-2 div.sk-container {/* jupyter's `normalize.less` sets `[hidden] { display: none; }` but bootstrap.min.css set `[hidden] { display: none !important; }` so we also need the `!important` here to be able to override the default hidden behavior on the sphinx rendered scikit-learn.org. See: https://github.com/scikit-learn/scikit-learn/issues/21755 */display: inline-block !important;position: relative;}#sk-container-id-2 div.sk-text-repr-fallback {display: none;}</style><div id=\"sk-container-id-2\" class=\"sk-top-container\"><div class=\"sk-text-repr-fallback\"><pre>LinearDiscriminantAnalysis()</pre><b>In a Jupyter environment, please rerun this cell to show the HTML representation or trust the notebook. <br />On GitHub, the HTML representation is unable to render, please try loading this page with nbviewer.org.</b></div><div class=\"sk-container\" hidden><div class=\"sk-item\"><div class=\"sk-estimator sk-toggleable\"><input class=\"sk-toggleable__control sk-hidden--visually\" id=\"sk-estimator-id-2\" type=\"checkbox\" checked><label for=\"sk-estimator-id-2\" class=\"sk-toggleable__label sk-toggleable__label-arrow\">LinearDiscriminantAnalysis</label><div class=\"sk-toggleable__content\"><pre>LinearDiscriminantAnalysis()</pre></div></div></div></div></div>"
            ],
            "text/plain": [
              "LinearDiscriminantAnalysis()"
            ]
          },
          "execution_count": 42,
          "metadata": {},
          "output_type": "execute_result"
        }
      ],
      "source": [
        "lda_model.fit(X_train, y_train)"
      ]
    },
    {
      "cell_type": "code",
      "execution_count": 43,
      "metadata": {
        "id": "RuF49WSShpNY"
      },
      "outputs": [],
      "source": [
        "predictions_lda = lda_model.predict(X_test)"
      ]
    },
    {
      "cell_type": "code",
      "execution_count": 44,
      "metadata": {
        "id": "0Wa1L640hu7_"
      },
      "outputs": [],
      "source": [
        "accuracy = accuracy_score(y_test, predictions_lda)\n",
        "precision = precision_score(y_test, predictions_lda)\n",
        "recall = recall_score(y_test, predictions_lda)\n",
        "f1 = f1_score(y_test, predictions_lda)"
      ]
    },
    {
      "cell_type": "code",
      "execution_count": 45,
      "metadata": {
        "colab": {
          "base_uri": "https://localhost:8080/"
        },
        "id": "ZfdZWBjUhvsP",
        "outputId": "65d2529f-87d1-472e-de04-d5ab747c1b7a"
      },
      "outputs": [
        {
          "name": "stdout",
          "output_type": "stream",
          "text": [
            "Accuracy: 85.36%\n",
            "Precision: 0.87\n",
            "Recall: 0.98\n",
            "F1 Score: 0.92\n"
          ]
        }
      ],
      "source": [
        "print(f\"Accuracy: {accuracy * 100:.2f}%\")\n",
        "print(f\"Precision: {precision:.2f}\")\n",
        "print(f\"Recall: {recall:.2f}\")\n",
        "print(f\"F1 Score: {f1:.2f}\")"
      ]
    },
    {
      "cell_type": "markdown",
      "metadata": {},
      "source": [
        "## KNN"
      ]
    },
    {
      "cell_type": "code",
      "execution_count": null,
      "metadata": {},
      "outputs": [],
      "source": [
        "from sklearn.neighbors import KNeighborsClassifier\n",
        "\n",
        "knn_classifier = KNeighborsClassifier(n_neighbors=5)\n",
        "knn_classifier.fit(X_train, y_train)\n",
        "knn_pred = knn_classifier.predict(X_test)\n",
        "\n",
        "accuracy = accuracy_score(y_test, knn_pred)\n",
        "precision = precision_score(y_test, knn_pred)\n",
        "recall = recall_score(y_test, knn_pred)\n",
        "f1 = f1_score(y_test, knn_pred)\n",
        "\n",
        "print(f\"Accuracy: {accuracy * 100:.2f}%\")\n",
        "print(f\"Precision: {precision:.2f}\")\n",
        "print(f\"Recall: {recall:.2f}\")\n",
        "print(f\"F1 Score: {f1:.2f}\")\n"
      ]
    },
    {
      "cell_type": "markdown",
      "metadata": {},
      "source": [
        "## Naive BAyes"
      ]
    },
    {
      "cell_type": "code",
      "execution_count": null,
      "metadata": {},
      "outputs": [],
      "source": [
        "from sklearn.naive_bayes import MultinomialNB\n",
        "nb_classifier = MultinomialNB()\n",
        "nb_classifier.fit(X_train, y_train)\n",
        "nb_pred = nb_classifier.predict(X_test)\n",
        "\n",
        "accuracy = accuracy_score(y_test, nb_pred)\n",
        "precision = precision_score(y_test, nb_pred)\n",
        "recall = recall_score(y_test, nb_pred)\n",
        "f1 = f1_score(y_test, nb_pred)\n",
        "\n",
        "print(f\"Accuracy: {accuracy * 100:.2f}%\")\n",
        "print(f\"Precision: {precision:.2f}\")\n",
        "print(f\"Recall: {recall:.2f}\")\n",
        "print(f\"F1 Score: {f1:.2f}\")\n",
        "\n"
      ]
    },
    {
      "cell_type": "markdown",
      "metadata": {},
      "source": [
        "## XG-Boost"
      ]
    },
    {
      "cell_type": "code",
      "execution_count": null,
      "metadata": {},
      "outputs": [],
      "source": [
        "y_train_mapped = np.where(y_train == -1, 0, y_train)\n",
        "y_test_mapped = np.where(y_test == -1, 0, y_test)\n",
        "xgb_classifier = xgb.XGBClassifier()\n",
        "xgb_classifier.fit(X_train, y_train_mapped)\n",
        "xgb_pred = xgb_classifier.predict(X_test)\n",
        "\n",
        "accuracy = accuracy_score(y_test_mapped, xgb_pred)\n",
        "precision = precision_score(y_test_mapped, xgb_pred)\n",
        "recall = recall_score(y_test_mapped, xgb_pred)\n",
        "f1 = f1_score(y_test_mapped, xgb_pred)\n",
        "\n",
        "print(f\"Accuracy: {accuracy * 100:.2f}%\")\n",
        "print(f\"Precision: {precision:.2f}\")\n",
        "print(f\"Recall: {recall:.2f}\")\n",
        "print(f\"F1 Score: {f1:.2f}\")\n"
      ]
    }
  ],
  "metadata": {
    "colab": {
      "provenance": []
    },
    "kernelspec": {
      "display_name": "Python 3",
      "language": "python",
      "name": "python3"
    },
    "language_info": {
      "codemirror_mode": {
        "name": "ipython",
        "version": 3
      },
      "file_extension": ".py",
      "mimetype": "text/x-python",
      "name": "python",
      "nbconvert_exporter": "python",
      "pygments_lexer": "ipython3",
      "version": "3.11.0"
    }
  },
  "nbformat": 4,
  "nbformat_minor": 0
}
